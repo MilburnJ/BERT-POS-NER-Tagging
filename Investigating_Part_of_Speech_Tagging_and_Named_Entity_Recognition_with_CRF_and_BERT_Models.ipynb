{
  "nbformat": 4,
  "nbformat_minor": 0,
  "metadata": {
    "colab": {
      "provenance": []
    },
    "kernelspec": {
      "name": "python3",
      "display_name": "Python 3"
    },
    "language_info": {
      "name": "python"
    },
    "widgets": {
      "application/vnd.jupyter.widget-state+json": {
        "b57ca1fe50e9431e816d009de7e9f1b0": {
          "model_module": "@jupyter-widgets/controls",
          "model_name": "HBoxModel",
          "model_module_version": "1.5.0",
          "state": {
            "_dom_classes": [],
            "_model_module": "@jupyter-widgets/controls",
            "_model_module_version": "1.5.0",
            "_model_name": "HBoxModel",
            "_view_count": null,
            "_view_module": "@jupyter-widgets/controls",
            "_view_module_version": "1.5.0",
            "_view_name": "HBoxView",
            "box_style": "",
            "children": [
              "IPY_MODEL_6c249e62dedc4c319b00b1d65d6fa26d",
              "IPY_MODEL_2308013f44b2450f888fb6c8d4b63f3b",
              "IPY_MODEL_bca61903454c4f6992f61fa8d5435f54"
            ],
            "layout": "IPY_MODEL_7a93f9d7d8b94f2bb58a8013f0769321"
          }
        },
        "6c249e62dedc4c319b00b1d65d6fa26d": {
          "model_module": "@jupyter-widgets/controls",
          "model_name": "HTMLModel",
          "model_module_version": "1.5.0",
          "state": {
            "_dom_classes": [],
            "_model_module": "@jupyter-widgets/controls",
            "_model_module_version": "1.5.0",
            "_model_name": "HTMLModel",
            "_view_count": null,
            "_view_module": "@jupyter-widgets/controls",
            "_view_module_version": "1.5.0",
            "_view_name": "HTMLView",
            "description": "",
            "description_tooltip": null,
            "layout": "IPY_MODEL_cca43bcb6ebd4b9a92c4e6f3cdbda5d8",
            "placeholder": "​",
            "style": "IPY_MODEL_e1ea585315e34bd195e99fc787c9622b",
            "value": "Downloading data: 100%"
          }
        },
        "2308013f44b2450f888fb6c8d4b63f3b": {
          "model_module": "@jupyter-widgets/controls",
          "model_name": "FloatProgressModel",
          "model_module_version": "1.5.0",
          "state": {
            "_dom_classes": [],
            "_model_module": "@jupyter-widgets/controls",
            "_model_module_version": "1.5.0",
            "_model_name": "FloatProgressModel",
            "_view_count": null,
            "_view_module": "@jupyter-widgets/controls",
            "_view_module_version": "1.5.0",
            "_view_name": "ProgressView",
            "bar_style": "success",
            "description": "",
            "description_tooltip": null,
            "layout": "IPY_MODEL_47ca9b558e2b49d9b3e0923076479204",
            "max": 1227788,
            "min": 0,
            "orientation": "horizontal",
            "style": "IPY_MODEL_e6f7ecc819e14f8e93bb50a4143dc7b4",
            "value": 1227788
          }
        },
        "bca61903454c4f6992f61fa8d5435f54": {
          "model_module": "@jupyter-widgets/controls",
          "model_name": "HTMLModel",
          "model_module_version": "1.5.0",
          "state": {
            "_dom_classes": [],
            "_model_module": "@jupyter-widgets/controls",
            "_model_module_version": "1.5.0",
            "_model_name": "HTMLModel",
            "_view_count": null,
            "_view_module": "@jupyter-widgets/controls",
            "_view_module_version": "1.5.0",
            "_view_name": "HTMLView",
            "description": "",
            "description_tooltip": null,
            "layout": "IPY_MODEL_b74999a3c8b043e79570dcd80b9da58c",
            "placeholder": "​",
            "style": "IPY_MODEL_7205588fdb9b440f8898ddef85c7b3b8",
            "value": " 1.23M/1.23M [00:00&lt;00:00, 1.71MB/s]"
          }
        },
        "7a93f9d7d8b94f2bb58a8013f0769321": {
          "model_module": "@jupyter-widgets/base",
          "model_name": "LayoutModel",
          "model_module_version": "1.2.0",
          "state": {
            "_model_module": "@jupyter-widgets/base",
            "_model_module_version": "1.2.0",
            "_model_name": "LayoutModel",
            "_view_count": null,
            "_view_module": "@jupyter-widgets/base",
            "_view_module_version": "1.2.0",
            "_view_name": "LayoutView",
            "align_content": null,
            "align_items": null,
            "align_self": null,
            "border": null,
            "bottom": null,
            "display": null,
            "flex": null,
            "flex_flow": null,
            "grid_area": null,
            "grid_auto_columns": null,
            "grid_auto_flow": null,
            "grid_auto_rows": null,
            "grid_column": null,
            "grid_gap": null,
            "grid_row": null,
            "grid_template_areas": null,
            "grid_template_columns": null,
            "grid_template_rows": null,
            "height": null,
            "justify_content": null,
            "justify_items": null,
            "left": null,
            "margin": null,
            "max_height": null,
            "max_width": null,
            "min_height": null,
            "min_width": null,
            "object_fit": null,
            "object_position": null,
            "order": null,
            "overflow": null,
            "overflow_x": null,
            "overflow_y": null,
            "padding": null,
            "right": null,
            "top": null,
            "visibility": null,
            "width": null
          }
        },
        "cca43bcb6ebd4b9a92c4e6f3cdbda5d8": {
          "model_module": "@jupyter-widgets/base",
          "model_name": "LayoutModel",
          "model_module_version": "1.2.0",
          "state": {
            "_model_module": "@jupyter-widgets/base",
            "_model_module_version": "1.2.0",
            "_model_name": "LayoutModel",
            "_view_count": null,
            "_view_module": "@jupyter-widgets/base",
            "_view_module_version": "1.2.0",
            "_view_name": "LayoutView",
            "align_content": null,
            "align_items": null,
            "align_self": null,
            "border": null,
            "bottom": null,
            "display": null,
            "flex": null,
            "flex_flow": null,
            "grid_area": null,
            "grid_auto_columns": null,
            "grid_auto_flow": null,
            "grid_auto_rows": null,
            "grid_column": null,
            "grid_gap": null,
            "grid_row": null,
            "grid_template_areas": null,
            "grid_template_columns": null,
            "grid_template_rows": null,
            "height": null,
            "justify_content": null,
            "justify_items": null,
            "left": null,
            "margin": null,
            "max_height": null,
            "max_width": null,
            "min_height": null,
            "min_width": null,
            "object_fit": null,
            "object_position": null,
            "order": null,
            "overflow": null,
            "overflow_x": null,
            "overflow_y": null,
            "padding": null,
            "right": null,
            "top": null,
            "visibility": null,
            "width": null
          }
        },
        "e1ea585315e34bd195e99fc787c9622b": {
          "model_module": "@jupyter-widgets/controls",
          "model_name": "DescriptionStyleModel",
          "model_module_version": "1.5.0",
          "state": {
            "_model_module": "@jupyter-widgets/controls",
            "_model_module_version": "1.5.0",
            "_model_name": "DescriptionStyleModel",
            "_view_count": null,
            "_view_module": "@jupyter-widgets/base",
            "_view_module_version": "1.2.0",
            "_view_name": "StyleView",
            "description_width": ""
          }
        },
        "47ca9b558e2b49d9b3e0923076479204": {
          "model_module": "@jupyter-widgets/base",
          "model_name": "LayoutModel",
          "model_module_version": "1.2.0",
          "state": {
            "_model_module": "@jupyter-widgets/base",
            "_model_module_version": "1.2.0",
            "_model_name": "LayoutModel",
            "_view_count": null,
            "_view_module": "@jupyter-widgets/base",
            "_view_module_version": "1.2.0",
            "_view_name": "LayoutView",
            "align_content": null,
            "align_items": null,
            "align_self": null,
            "border": null,
            "bottom": null,
            "display": null,
            "flex": null,
            "flex_flow": null,
            "grid_area": null,
            "grid_auto_columns": null,
            "grid_auto_flow": null,
            "grid_auto_rows": null,
            "grid_column": null,
            "grid_gap": null,
            "grid_row": null,
            "grid_template_areas": null,
            "grid_template_columns": null,
            "grid_template_rows": null,
            "height": null,
            "justify_content": null,
            "justify_items": null,
            "left": null,
            "margin": null,
            "max_height": null,
            "max_width": null,
            "min_height": null,
            "min_width": null,
            "object_fit": null,
            "object_position": null,
            "order": null,
            "overflow": null,
            "overflow_x": null,
            "overflow_y": null,
            "padding": null,
            "right": null,
            "top": null,
            "visibility": null,
            "width": null
          }
        },
        "e6f7ecc819e14f8e93bb50a4143dc7b4": {
          "model_module": "@jupyter-widgets/controls",
          "model_name": "ProgressStyleModel",
          "model_module_version": "1.5.0",
          "state": {
            "_model_module": "@jupyter-widgets/controls",
            "_model_module_version": "1.5.0",
            "_model_name": "ProgressStyleModel",
            "_view_count": null,
            "_view_module": "@jupyter-widgets/base",
            "_view_module_version": "1.2.0",
            "_view_name": "StyleView",
            "bar_color": null,
            "description_width": ""
          }
        },
        "b74999a3c8b043e79570dcd80b9da58c": {
          "model_module": "@jupyter-widgets/base",
          "model_name": "LayoutModel",
          "model_module_version": "1.2.0",
          "state": {
            "_model_module": "@jupyter-widgets/base",
            "_model_module_version": "1.2.0",
            "_model_name": "LayoutModel",
            "_view_count": null,
            "_view_module": "@jupyter-widgets/base",
            "_view_module_version": "1.2.0",
            "_view_name": "LayoutView",
            "align_content": null,
            "align_items": null,
            "align_self": null,
            "border": null,
            "bottom": null,
            "display": null,
            "flex": null,
            "flex_flow": null,
            "grid_area": null,
            "grid_auto_columns": null,
            "grid_auto_flow": null,
            "grid_auto_rows": null,
            "grid_column": null,
            "grid_gap": null,
            "grid_row": null,
            "grid_template_areas": null,
            "grid_template_columns": null,
            "grid_template_rows": null,
            "height": null,
            "justify_content": null,
            "justify_items": null,
            "left": null,
            "margin": null,
            "max_height": null,
            "max_width": null,
            "min_height": null,
            "min_width": null,
            "object_fit": null,
            "object_position": null,
            "order": null,
            "overflow": null,
            "overflow_x": null,
            "overflow_y": null,
            "padding": null,
            "right": null,
            "top": null,
            "visibility": null,
            "width": null
          }
        },
        "7205588fdb9b440f8898ddef85c7b3b8": {
          "model_module": "@jupyter-widgets/controls",
          "model_name": "DescriptionStyleModel",
          "model_module_version": "1.5.0",
          "state": {
            "_model_module": "@jupyter-widgets/controls",
            "_model_module_version": "1.5.0",
            "_model_name": "DescriptionStyleModel",
            "_view_count": null,
            "_view_module": "@jupyter-widgets/base",
            "_view_module_version": "1.2.0",
            "_view_name": "StyleView",
            "description_width": ""
          }
        },
        "f77c510fbd9741d2838b4ba9c504e3a8": {
          "model_module": "@jupyter-widgets/controls",
          "model_name": "HBoxModel",
          "model_module_version": "1.5.0",
          "state": {
            "_dom_classes": [],
            "_model_module": "@jupyter-widgets/controls",
            "_model_module_version": "1.5.0",
            "_model_name": "HBoxModel",
            "_view_count": null,
            "_view_module": "@jupyter-widgets/controls",
            "_view_module_version": "1.5.0",
            "_view_name": "HBoxView",
            "box_style": "",
            "children": [
              "IPY_MODEL_c89ed68a5a874afcb57b11b35fe91f65",
              "IPY_MODEL_3db7331ab234455696853d097732bbae",
              "IPY_MODEL_93ca74c2c4d94a2f9fa4f77553b70320"
            ],
            "layout": "IPY_MODEL_ae5e84d8fe9b430a98bb4e9fcc454a20"
          }
        },
        "c89ed68a5a874afcb57b11b35fe91f65": {
          "model_module": "@jupyter-widgets/controls",
          "model_name": "HTMLModel",
          "model_module_version": "1.5.0",
          "state": {
            "_dom_classes": [],
            "_model_module": "@jupyter-widgets/controls",
            "_model_module_version": "1.5.0",
            "_model_name": "HTMLModel",
            "_view_count": null,
            "_view_module": "@jupyter-widgets/controls",
            "_view_module_version": "1.5.0",
            "_view_name": "HTMLView",
            "description": "",
            "description_tooltip": null,
            "layout": "IPY_MODEL_f335b9fee54749c5b947ee72dc20c37e",
            "placeholder": "​",
            "style": "IPY_MODEL_318d155241454a4fb6397252c83bd5da",
            "value": "Downloading data: 100%"
          }
        },
        "3db7331ab234455696853d097732bbae": {
          "model_module": "@jupyter-widgets/controls",
          "model_name": "FloatProgressModel",
          "model_module_version": "1.5.0",
          "state": {
            "_dom_classes": [],
            "_model_module": "@jupyter-widgets/controls",
            "_model_module_version": "1.5.0",
            "_model_name": "FloatProgressModel",
            "_view_count": null,
            "_view_module": "@jupyter-widgets/controls",
            "_view_module_version": "1.5.0",
            "_view_name": "ProgressView",
            "bar_style": "success",
            "description": "",
            "description_tooltip": null,
            "layout": "IPY_MODEL_6fde8e7086ca46d9ab849f75de5d63cb",
            "max": 311883,
            "min": 0,
            "orientation": "horizontal",
            "style": "IPY_MODEL_af02ee656bf94662b81bcd48db1936a0",
            "value": 311883
          }
        },
        "93ca74c2c4d94a2f9fa4f77553b70320": {
          "model_module": "@jupyter-widgets/controls",
          "model_name": "HTMLModel",
          "model_module_version": "1.5.0",
          "state": {
            "_dom_classes": [],
            "_model_module": "@jupyter-widgets/controls",
            "_model_module_version": "1.5.0",
            "_model_name": "HTMLModel",
            "_view_count": null,
            "_view_module": "@jupyter-widgets/controls",
            "_view_module_version": "1.5.0",
            "_view_name": "HTMLView",
            "description": "",
            "description_tooltip": null,
            "layout": "IPY_MODEL_1ec704f20e5e4652b251cc9af05c7edd",
            "placeholder": "​",
            "style": "IPY_MODEL_316a1ba66ac84a36b8a5435a52417fb6",
            "value": " 312k/312k [00:00&lt;00:00, 1.45MB/s]"
          }
        },
        "ae5e84d8fe9b430a98bb4e9fcc454a20": {
          "model_module": "@jupyter-widgets/base",
          "model_name": "LayoutModel",
          "model_module_version": "1.2.0",
          "state": {
            "_model_module": "@jupyter-widgets/base",
            "_model_module_version": "1.2.0",
            "_model_name": "LayoutModel",
            "_view_count": null,
            "_view_module": "@jupyter-widgets/base",
            "_view_module_version": "1.2.0",
            "_view_name": "LayoutView",
            "align_content": null,
            "align_items": null,
            "align_self": null,
            "border": null,
            "bottom": null,
            "display": null,
            "flex": null,
            "flex_flow": null,
            "grid_area": null,
            "grid_auto_columns": null,
            "grid_auto_flow": null,
            "grid_auto_rows": null,
            "grid_column": null,
            "grid_gap": null,
            "grid_row": null,
            "grid_template_areas": null,
            "grid_template_columns": null,
            "grid_template_rows": null,
            "height": null,
            "justify_content": null,
            "justify_items": null,
            "left": null,
            "margin": null,
            "max_height": null,
            "max_width": null,
            "min_height": null,
            "min_width": null,
            "object_fit": null,
            "object_position": null,
            "order": null,
            "overflow": null,
            "overflow_x": null,
            "overflow_y": null,
            "padding": null,
            "right": null,
            "top": null,
            "visibility": null,
            "width": null
          }
        },
        "f335b9fee54749c5b947ee72dc20c37e": {
          "model_module": "@jupyter-widgets/base",
          "model_name": "LayoutModel",
          "model_module_version": "1.2.0",
          "state": {
            "_model_module": "@jupyter-widgets/base",
            "_model_module_version": "1.2.0",
            "_model_name": "LayoutModel",
            "_view_count": null,
            "_view_module": "@jupyter-widgets/base",
            "_view_module_version": "1.2.0",
            "_view_name": "LayoutView",
            "align_content": null,
            "align_items": null,
            "align_self": null,
            "border": null,
            "bottom": null,
            "display": null,
            "flex": null,
            "flex_flow": null,
            "grid_area": null,
            "grid_auto_columns": null,
            "grid_auto_flow": null,
            "grid_auto_rows": null,
            "grid_column": null,
            "grid_gap": null,
            "grid_row": null,
            "grid_template_areas": null,
            "grid_template_columns": null,
            "grid_template_rows": null,
            "height": null,
            "justify_content": null,
            "justify_items": null,
            "left": null,
            "margin": null,
            "max_height": null,
            "max_width": null,
            "min_height": null,
            "min_width": null,
            "object_fit": null,
            "object_position": null,
            "order": null,
            "overflow": null,
            "overflow_x": null,
            "overflow_y": null,
            "padding": null,
            "right": null,
            "top": null,
            "visibility": null,
            "width": null
          }
        },
        "318d155241454a4fb6397252c83bd5da": {
          "model_module": "@jupyter-widgets/controls",
          "model_name": "DescriptionStyleModel",
          "model_module_version": "1.5.0",
          "state": {
            "_model_module": "@jupyter-widgets/controls",
            "_model_module_version": "1.5.0",
            "_model_name": "DescriptionStyleModel",
            "_view_count": null,
            "_view_module": "@jupyter-widgets/base",
            "_view_module_version": "1.2.0",
            "_view_name": "StyleView",
            "description_width": ""
          }
        },
        "6fde8e7086ca46d9ab849f75de5d63cb": {
          "model_module": "@jupyter-widgets/base",
          "model_name": "LayoutModel",
          "model_module_version": "1.2.0",
          "state": {
            "_model_module": "@jupyter-widgets/base",
            "_model_module_version": "1.2.0",
            "_model_name": "LayoutModel",
            "_view_count": null,
            "_view_module": "@jupyter-widgets/base",
            "_view_module_version": "1.2.0",
            "_view_name": "LayoutView",
            "align_content": null,
            "align_items": null,
            "align_self": null,
            "border": null,
            "bottom": null,
            "display": null,
            "flex": null,
            "flex_flow": null,
            "grid_area": null,
            "grid_auto_columns": null,
            "grid_auto_flow": null,
            "grid_auto_rows": null,
            "grid_column": null,
            "grid_gap": null,
            "grid_row": null,
            "grid_template_areas": null,
            "grid_template_columns": null,
            "grid_template_rows": null,
            "height": null,
            "justify_content": null,
            "justify_items": null,
            "left": null,
            "margin": null,
            "max_height": null,
            "max_width": null,
            "min_height": null,
            "min_width": null,
            "object_fit": null,
            "object_position": null,
            "order": null,
            "overflow": null,
            "overflow_x": null,
            "overflow_y": null,
            "padding": null,
            "right": null,
            "top": null,
            "visibility": null,
            "width": null
          }
        },
        "af02ee656bf94662b81bcd48db1936a0": {
          "model_module": "@jupyter-widgets/controls",
          "model_name": "ProgressStyleModel",
          "model_module_version": "1.5.0",
          "state": {
            "_model_module": "@jupyter-widgets/controls",
            "_model_module_version": "1.5.0",
            "_model_name": "ProgressStyleModel",
            "_view_count": null,
            "_view_module": "@jupyter-widgets/base",
            "_view_module_version": "1.2.0",
            "_view_name": "StyleView",
            "bar_color": null,
            "description_width": ""
          }
        },
        "1ec704f20e5e4652b251cc9af05c7edd": {
          "model_module": "@jupyter-widgets/base",
          "model_name": "LayoutModel",
          "model_module_version": "1.2.0",
          "state": {
            "_model_module": "@jupyter-widgets/base",
            "_model_module_version": "1.2.0",
            "_model_name": "LayoutModel",
            "_view_count": null,
            "_view_module": "@jupyter-widgets/base",
            "_view_module_version": "1.2.0",
            "_view_name": "LayoutView",
            "align_content": null,
            "align_items": null,
            "align_self": null,
            "border": null,
            "bottom": null,
            "display": null,
            "flex": null,
            "flex_flow": null,
            "grid_area": null,
            "grid_auto_columns": null,
            "grid_auto_flow": null,
            "grid_auto_rows": null,
            "grid_column": null,
            "grid_gap": null,
            "grid_row": null,
            "grid_template_areas": null,
            "grid_template_columns": null,
            "grid_template_rows": null,
            "height": null,
            "justify_content": null,
            "justify_items": null,
            "left": null,
            "margin": null,
            "max_height": null,
            "max_width": null,
            "min_height": null,
            "min_width": null,
            "object_fit": null,
            "object_position": null,
            "order": null,
            "overflow": null,
            "overflow_x": null,
            "overflow_y": null,
            "padding": null,
            "right": null,
            "top": null,
            "visibility": null,
            "width": null
          }
        },
        "316a1ba66ac84a36b8a5435a52417fb6": {
          "model_module": "@jupyter-widgets/controls",
          "model_name": "DescriptionStyleModel",
          "model_module_version": "1.5.0",
          "state": {
            "_model_module": "@jupyter-widgets/controls",
            "_model_module_version": "1.5.0",
            "_model_name": "DescriptionStyleModel",
            "_view_count": null,
            "_view_module": "@jupyter-widgets/base",
            "_view_module_version": "1.2.0",
            "_view_name": "StyleView",
            "description_width": ""
          }
        },
        "b001f23f3ca24fb988bd498c303e5b9d": {
          "model_module": "@jupyter-widgets/controls",
          "model_name": "HBoxModel",
          "model_module_version": "1.5.0",
          "state": {
            "_dom_classes": [],
            "_model_module": "@jupyter-widgets/controls",
            "_model_module_version": "1.5.0",
            "_model_name": "HBoxModel",
            "_view_count": null,
            "_view_module": "@jupyter-widgets/controls",
            "_view_module_version": "1.5.0",
            "_view_name": "HBoxView",
            "box_style": "",
            "children": [
              "IPY_MODEL_7814ff216c6b4ceeb0270e1deca0bf79",
              "IPY_MODEL_564b3acc378a4a3abd69a63ea374537a",
              "IPY_MODEL_4a26bdee99aa4d2e8b750e9fb5628851"
            ],
            "layout": "IPY_MODEL_413db7bdf9cf42bc990c5124f3fc928f"
          }
        },
        "7814ff216c6b4ceeb0270e1deca0bf79": {
          "model_module": "@jupyter-widgets/controls",
          "model_name": "HTMLModel",
          "model_module_version": "1.5.0",
          "state": {
            "_dom_classes": [],
            "_model_module": "@jupyter-widgets/controls",
            "_model_module_version": "1.5.0",
            "_model_name": "HTMLModel",
            "_view_count": null,
            "_view_module": "@jupyter-widgets/controls",
            "_view_module_version": "1.5.0",
            "_view_name": "HTMLView",
            "description": "",
            "description_tooltip": null,
            "layout": "IPY_MODEL_72cecdb4df854e29a2444056eb6ca820",
            "placeholder": "​",
            "style": "IPY_MODEL_2f0fb4ddf9a64ec0959a5dc80b472486",
            "value": "Downloading data: 100%"
          }
        },
        "564b3acc378a4a3abd69a63ea374537a": {
          "model_module": "@jupyter-widgets/controls",
          "model_name": "FloatProgressModel",
          "model_module_version": "1.5.0",
          "state": {
            "_dom_classes": [],
            "_model_module": "@jupyter-widgets/controls",
            "_model_module_version": "1.5.0",
            "_model_name": "FloatProgressModel",
            "_view_count": null,
            "_view_module": "@jupyter-widgets/controls",
            "_view_module_version": "1.5.0",
            "_view_name": "ProgressView",
            "bar_style": "success",
            "description": "",
            "description_tooltip": null,
            "layout": "IPY_MODEL_1751869907224e5899c5763fe95752e5",
            "max": 283307,
            "min": 0,
            "orientation": "horizontal",
            "style": "IPY_MODEL_2bf149b3b2b34c8b96986515beb1eb65",
            "value": 283307
          }
        },
        "4a26bdee99aa4d2e8b750e9fb5628851": {
          "model_module": "@jupyter-widgets/controls",
          "model_name": "HTMLModel",
          "model_module_version": "1.5.0",
          "state": {
            "_dom_classes": [],
            "_model_module": "@jupyter-widgets/controls",
            "_model_module_version": "1.5.0",
            "_model_name": "HTMLModel",
            "_view_count": null,
            "_view_module": "@jupyter-widgets/controls",
            "_view_module_version": "1.5.0",
            "_view_name": "HTMLView",
            "description": "",
            "description_tooltip": null,
            "layout": "IPY_MODEL_8e71ac7a5502462e9bb820808d1e2c73",
            "placeholder": "​",
            "style": "IPY_MODEL_1eac8c978ebb4d0ea15acfe2074ab3fe",
            "value": " 283k/283k [00:00&lt;00:00, 2.21MB/s]"
          }
        },
        "413db7bdf9cf42bc990c5124f3fc928f": {
          "model_module": "@jupyter-widgets/base",
          "model_name": "LayoutModel",
          "model_module_version": "1.2.0",
          "state": {
            "_model_module": "@jupyter-widgets/base",
            "_model_module_version": "1.2.0",
            "_model_name": "LayoutModel",
            "_view_count": null,
            "_view_module": "@jupyter-widgets/base",
            "_view_module_version": "1.2.0",
            "_view_name": "LayoutView",
            "align_content": null,
            "align_items": null,
            "align_self": null,
            "border": null,
            "bottom": null,
            "display": null,
            "flex": null,
            "flex_flow": null,
            "grid_area": null,
            "grid_auto_columns": null,
            "grid_auto_flow": null,
            "grid_auto_rows": null,
            "grid_column": null,
            "grid_gap": null,
            "grid_row": null,
            "grid_template_areas": null,
            "grid_template_columns": null,
            "grid_template_rows": null,
            "height": null,
            "justify_content": null,
            "justify_items": null,
            "left": null,
            "margin": null,
            "max_height": null,
            "max_width": null,
            "min_height": null,
            "min_width": null,
            "object_fit": null,
            "object_position": null,
            "order": null,
            "overflow": null,
            "overflow_x": null,
            "overflow_y": null,
            "padding": null,
            "right": null,
            "top": null,
            "visibility": null,
            "width": null
          }
        },
        "72cecdb4df854e29a2444056eb6ca820": {
          "model_module": "@jupyter-widgets/base",
          "model_name": "LayoutModel",
          "model_module_version": "1.2.0",
          "state": {
            "_model_module": "@jupyter-widgets/base",
            "_model_module_version": "1.2.0",
            "_model_name": "LayoutModel",
            "_view_count": null,
            "_view_module": "@jupyter-widgets/base",
            "_view_module_version": "1.2.0",
            "_view_name": "LayoutView",
            "align_content": null,
            "align_items": null,
            "align_self": null,
            "border": null,
            "bottom": null,
            "display": null,
            "flex": null,
            "flex_flow": null,
            "grid_area": null,
            "grid_auto_columns": null,
            "grid_auto_flow": null,
            "grid_auto_rows": null,
            "grid_column": null,
            "grid_gap": null,
            "grid_row": null,
            "grid_template_areas": null,
            "grid_template_columns": null,
            "grid_template_rows": null,
            "height": null,
            "justify_content": null,
            "justify_items": null,
            "left": null,
            "margin": null,
            "max_height": null,
            "max_width": null,
            "min_height": null,
            "min_width": null,
            "object_fit": null,
            "object_position": null,
            "order": null,
            "overflow": null,
            "overflow_x": null,
            "overflow_y": null,
            "padding": null,
            "right": null,
            "top": null,
            "visibility": null,
            "width": null
          }
        },
        "2f0fb4ddf9a64ec0959a5dc80b472486": {
          "model_module": "@jupyter-widgets/controls",
          "model_name": "DescriptionStyleModel",
          "model_module_version": "1.5.0",
          "state": {
            "_model_module": "@jupyter-widgets/controls",
            "_model_module_version": "1.5.0",
            "_model_name": "DescriptionStyleModel",
            "_view_count": null,
            "_view_module": "@jupyter-widgets/base",
            "_view_module_version": "1.2.0",
            "_view_name": "StyleView",
            "description_width": ""
          }
        },
        "1751869907224e5899c5763fe95752e5": {
          "model_module": "@jupyter-widgets/base",
          "model_name": "LayoutModel",
          "model_module_version": "1.2.0",
          "state": {
            "_model_module": "@jupyter-widgets/base",
            "_model_module_version": "1.2.0",
            "_model_name": "LayoutModel",
            "_view_count": null,
            "_view_module": "@jupyter-widgets/base",
            "_view_module_version": "1.2.0",
            "_view_name": "LayoutView",
            "align_content": null,
            "align_items": null,
            "align_self": null,
            "border": null,
            "bottom": null,
            "display": null,
            "flex": null,
            "flex_flow": null,
            "grid_area": null,
            "grid_auto_columns": null,
            "grid_auto_flow": null,
            "grid_auto_rows": null,
            "grid_column": null,
            "grid_gap": null,
            "grid_row": null,
            "grid_template_areas": null,
            "grid_template_columns": null,
            "grid_template_rows": null,
            "height": null,
            "justify_content": null,
            "justify_items": null,
            "left": null,
            "margin": null,
            "max_height": null,
            "max_width": null,
            "min_height": null,
            "min_width": null,
            "object_fit": null,
            "object_position": null,
            "order": null,
            "overflow": null,
            "overflow_x": null,
            "overflow_y": null,
            "padding": null,
            "right": null,
            "top": null,
            "visibility": null,
            "width": null
          }
        },
        "2bf149b3b2b34c8b96986515beb1eb65": {
          "model_module": "@jupyter-widgets/controls",
          "model_name": "ProgressStyleModel",
          "model_module_version": "1.5.0",
          "state": {
            "_model_module": "@jupyter-widgets/controls",
            "_model_module_version": "1.5.0",
            "_model_name": "ProgressStyleModel",
            "_view_count": null,
            "_view_module": "@jupyter-widgets/base",
            "_view_module_version": "1.2.0",
            "_view_name": "StyleView",
            "bar_color": null,
            "description_width": ""
          }
        },
        "8e71ac7a5502462e9bb820808d1e2c73": {
          "model_module": "@jupyter-widgets/base",
          "model_name": "LayoutModel",
          "model_module_version": "1.2.0",
          "state": {
            "_model_module": "@jupyter-widgets/base",
            "_model_module_version": "1.2.0",
            "_model_name": "LayoutModel",
            "_view_count": null,
            "_view_module": "@jupyter-widgets/base",
            "_view_module_version": "1.2.0",
            "_view_name": "LayoutView",
            "align_content": null,
            "align_items": null,
            "align_self": null,
            "border": null,
            "bottom": null,
            "display": null,
            "flex": null,
            "flex_flow": null,
            "grid_area": null,
            "grid_auto_columns": null,
            "grid_auto_flow": null,
            "grid_auto_rows": null,
            "grid_column": null,
            "grid_gap": null,
            "grid_row": null,
            "grid_template_areas": null,
            "grid_template_columns": null,
            "grid_template_rows": null,
            "height": null,
            "justify_content": null,
            "justify_items": null,
            "left": null,
            "margin": null,
            "max_height": null,
            "max_width": null,
            "min_height": null,
            "min_width": null,
            "object_fit": null,
            "object_position": null,
            "order": null,
            "overflow": null,
            "overflow_x": null,
            "overflow_y": null,
            "padding": null,
            "right": null,
            "top": null,
            "visibility": null,
            "width": null
          }
        },
        "1eac8c978ebb4d0ea15acfe2074ab3fe": {
          "model_module": "@jupyter-widgets/controls",
          "model_name": "DescriptionStyleModel",
          "model_module_version": "1.5.0",
          "state": {
            "_model_module": "@jupyter-widgets/controls",
            "_model_module_version": "1.5.0",
            "_model_name": "DescriptionStyleModel",
            "_view_count": null,
            "_view_module": "@jupyter-widgets/base",
            "_view_module_version": "1.2.0",
            "_view_name": "StyleView",
            "description_width": ""
          }
        },
        "62112b2faa034c58b158101c56d8d024": {
          "model_module": "@jupyter-widgets/controls",
          "model_name": "HBoxModel",
          "model_module_version": "1.5.0",
          "state": {
            "_dom_classes": [],
            "_model_module": "@jupyter-widgets/controls",
            "_model_module_version": "1.5.0",
            "_model_name": "HBoxModel",
            "_view_count": null,
            "_view_module": "@jupyter-widgets/controls",
            "_view_module_version": "1.5.0",
            "_view_name": "HBoxView",
            "box_style": "",
            "children": [
              "IPY_MODEL_9c5da83e55d84366a246a7d668562848",
              "IPY_MODEL_19c31e7dd4d24b6ba9208fa0d3e69028",
              "IPY_MODEL_38f2a3d4a58b4c2bba315a8d25db0c10"
            ],
            "layout": "IPY_MODEL_f703ac0e38714110ba4c4b7003d1a2ab"
          }
        },
        "9c5da83e55d84366a246a7d668562848": {
          "model_module": "@jupyter-widgets/controls",
          "model_name": "HTMLModel",
          "model_module_version": "1.5.0",
          "state": {
            "_dom_classes": [],
            "_model_module": "@jupyter-widgets/controls",
            "_model_module_version": "1.5.0",
            "_model_name": "HTMLModel",
            "_view_count": null,
            "_view_module": "@jupyter-widgets/controls",
            "_view_module_version": "1.5.0",
            "_view_name": "HTMLView",
            "description": "",
            "description_tooltip": null,
            "layout": "IPY_MODEL_219bfae1e3a74f299085e7ff447d4774",
            "placeholder": "​",
            "style": "IPY_MODEL_20398fba845f44de9732e395e2e7d912",
            "value": "Generating train split: 100%"
          }
        },
        "19c31e7dd4d24b6ba9208fa0d3e69028": {
          "model_module": "@jupyter-widgets/controls",
          "model_name": "FloatProgressModel",
          "model_module_version": "1.5.0",
          "state": {
            "_dom_classes": [],
            "_model_module": "@jupyter-widgets/controls",
            "_model_module_version": "1.5.0",
            "_model_name": "FloatProgressModel",
            "_view_count": null,
            "_view_module": "@jupyter-widgets/controls",
            "_view_module_version": "1.5.0",
            "_view_name": "ProgressView",
            "bar_style": "success",
            "description": "",
            "description_tooltip": null,
            "layout": "IPY_MODEL_348e70780cc2417280c12fe9531db835",
            "max": 14041,
            "min": 0,
            "orientation": "horizontal",
            "style": "IPY_MODEL_429ba3418cec415198dd77da1fbeb36b",
            "value": 14041
          }
        },
        "38f2a3d4a58b4c2bba315a8d25db0c10": {
          "model_module": "@jupyter-widgets/controls",
          "model_name": "HTMLModel",
          "model_module_version": "1.5.0",
          "state": {
            "_dom_classes": [],
            "_model_module": "@jupyter-widgets/controls",
            "_model_module_version": "1.5.0",
            "_model_name": "HTMLModel",
            "_view_count": null,
            "_view_module": "@jupyter-widgets/controls",
            "_view_module_version": "1.5.0",
            "_view_name": "HTMLView",
            "description": "",
            "description_tooltip": null,
            "layout": "IPY_MODEL_23b89ad8f125430a90d1ca539a388e8a",
            "placeholder": "​",
            "style": "IPY_MODEL_fd144121384f477eaf0e8c6ddac4103c",
            "value": " 14041/14041 [00:01&lt;00:00, 13768.18 examples/s]"
          }
        },
        "f703ac0e38714110ba4c4b7003d1a2ab": {
          "model_module": "@jupyter-widgets/base",
          "model_name": "LayoutModel",
          "model_module_version": "1.2.0",
          "state": {
            "_model_module": "@jupyter-widgets/base",
            "_model_module_version": "1.2.0",
            "_model_name": "LayoutModel",
            "_view_count": null,
            "_view_module": "@jupyter-widgets/base",
            "_view_module_version": "1.2.0",
            "_view_name": "LayoutView",
            "align_content": null,
            "align_items": null,
            "align_self": null,
            "border": null,
            "bottom": null,
            "display": null,
            "flex": null,
            "flex_flow": null,
            "grid_area": null,
            "grid_auto_columns": null,
            "grid_auto_flow": null,
            "grid_auto_rows": null,
            "grid_column": null,
            "grid_gap": null,
            "grid_row": null,
            "grid_template_areas": null,
            "grid_template_columns": null,
            "grid_template_rows": null,
            "height": null,
            "justify_content": null,
            "justify_items": null,
            "left": null,
            "margin": null,
            "max_height": null,
            "max_width": null,
            "min_height": null,
            "min_width": null,
            "object_fit": null,
            "object_position": null,
            "order": null,
            "overflow": null,
            "overflow_x": null,
            "overflow_y": null,
            "padding": null,
            "right": null,
            "top": null,
            "visibility": null,
            "width": null
          }
        },
        "219bfae1e3a74f299085e7ff447d4774": {
          "model_module": "@jupyter-widgets/base",
          "model_name": "LayoutModel",
          "model_module_version": "1.2.0",
          "state": {
            "_model_module": "@jupyter-widgets/base",
            "_model_module_version": "1.2.0",
            "_model_name": "LayoutModel",
            "_view_count": null,
            "_view_module": "@jupyter-widgets/base",
            "_view_module_version": "1.2.0",
            "_view_name": "LayoutView",
            "align_content": null,
            "align_items": null,
            "align_self": null,
            "border": null,
            "bottom": null,
            "display": null,
            "flex": null,
            "flex_flow": null,
            "grid_area": null,
            "grid_auto_columns": null,
            "grid_auto_flow": null,
            "grid_auto_rows": null,
            "grid_column": null,
            "grid_gap": null,
            "grid_row": null,
            "grid_template_areas": null,
            "grid_template_columns": null,
            "grid_template_rows": null,
            "height": null,
            "justify_content": null,
            "justify_items": null,
            "left": null,
            "margin": null,
            "max_height": null,
            "max_width": null,
            "min_height": null,
            "min_width": null,
            "object_fit": null,
            "object_position": null,
            "order": null,
            "overflow": null,
            "overflow_x": null,
            "overflow_y": null,
            "padding": null,
            "right": null,
            "top": null,
            "visibility": null,
            "width": null
          }
        },
        "20398fba845f44de9732e395e2e7d912": {
          "model_module": "@jupyter-widgets/controls",
          "model_name": "DescriptionStyleModel",
          "model_module_version": "1.5.0",
          "state": {
            "_model_module": "@jupyter-widgets/controls",
            "_model_module_version": "1.5.0",
            "_model_name": "DescriptionStyleModel",
            "_view_count": null,
            "_view_module": "@jupyter-widgets/base",
            "_view_module_version": "1.2.0",
            "_view_name": "StyleView",
            "description_width": ""
          }
        },
        "348e70780cc2417280c12fe9531db835": {
          "model_module": "@jupyter-widgets/base",
          "model_name": "LayoutModel",
          "model_module_version": "1.2.0",
          "state": {
            "_model_module": "@jupyter-widgets/base",
            "_model_module_version": "1.2.0",
            "_model_name": "LayoutModel",
            "_view_count": null,
            "_view_module": "@jupyter-widgets/base",
            "_view_module_version": "1.2.0",
            "_view_name": "LayoutView",
            "align_content": null,
            "align_items": null,
            "align_self": null,
            "border": null,
            "bottom": null,
            "display": null,
            "flex": null,
            "flex_flow": null,
            "grid_area": null,
            "grid_auto_columns": null,
            "grid_auto_flow": null,
            "grid_auto_rows": null,
            "grid_column": null,
            "grid_gap": null,
            "grid_row": null,
            "grid_template_areas": null,
            "grid_template_columns": null,
            "grid_template_rows": null,
            "height": null,
            "justify_content": null,
            "justify_items": null,
            "left": null,
            "margin": null,
            "max_height": null,
            "max_width": null,
            "min_height": null,
            "min_width": null,
            "object_fit": null,
            "object_position": null,
            "order": null,
            "overflow": null,
            "overflow_x": null,
            "overflow_y": null,
            "padding": null,
            "right": null,
            "top": null,
            "visibility": null,
            "width": null
          }
        },
        "429ba3418cec415198dd77da1fbeb36b": {
          "model_module": "@jupyter-widgets/controls",
          "model_name": "ProgressStyleModel",
          "model_module_version": "1.5.0",
          "state": {
            "_model_module": "@jupyter-widgets/controls",
            "_model_module_version": "1.5.0",
            "_model_name": "ProgressStyleModel",
            "_view_count": null,
            "_view_module": "@jupyter-widgets/base",
            "_view_module_version": "1.2.0",
            "_view_name": "StyleView",
            "bar_color": null,
            "description_width": ""
          }
        },
        "23b89ad8f125430a90d1ca539a388e8a": {
          "model_module": "@jupyter-widgets/base",
          "model_name": "LayoutModel",
          "model_module_version": "1.2.0",
          "state": {
            "_model_module": "@jupyter-widgets/base",
            "_model_module_version": "1.2.0",
            "_model_name": "LayoutModel",
            "_view_count": null,
            "_view_module": "@jupyter-widgets/base",
            "_view_module_version": "1.2.0",
            "_view_name": "LayoutView",
            "align_content": null,
            "align_items": null,
            "align_self": null,
            "border": null,
            "bottom": null,
            "display": null,
            "flex": null,
            "flex_flow": null,
            "grid_area": null,
            "grid_auto_columns": null,
            "grid_auto_flow": null,
            "grid_auto_rows": null,
            "grid_column": null,
            "grid_gap": null,
            "grid_row": null,
            "grid_template_areas": null,
            "grid_template_columns": null,
            "grid_template_rows": null,
            "height": null,
            "justify_content": null,
            "justify_items": null,
            "left": null,
            "margin": null,
            "max_height": null,
            "max_width": null,
            "min_height": null,
            "min_width": null,
            "object_fit": null,
            "object_position": null,
            "order": null,
            "overflow": null,
            "overflow_x": null,
            "overflow_y": null,
            "padding": null,
            "right": null,
            "top": null,
            "visibility": null,
            "width": null
          }
        },
        "fd144121384f477eaf0e8c6ddac4103c": {
          "model_module": "@jupyter-widgets/controls",
          "model_name": "DescriptionStyleModel",
          "model_module_version": "1.5.0",
          "state": {
            "_model_module": "@jupyter-widgets/controls",
            "_model_module_version": "1.5.0",
            "_model_name": "DescriptionStyleModel",
            "_view_count": null,
            "_view_module": "@jupyter-widgets/base",
            "_view_module_version": "1.2.0",
            "_view_name": "StyleView",
            "description_width": ""
          }
        },
        "eebfe9e4a14a442a8aa370dd8a7590a7": {
          "model_module": "@jupyter-widgets/controls",
          "model_name": "HBoxModel",
          "model_module_version": "1.5.0",
          "state": {
            "_dom_classes": [],
            "_model_module": "@jupyter-widgets/controls",
            "_model_module_version": "1.5.0",
            "_model_name": "HBoxModel",
            "_view_count": null,
            "_view_module": "@jupyter-widgets/controls",
            "_view_module_version": "1.5.0",
            "_view_name": "HBoxView",
            "box_style": "",
            "children": [
              "IPY_MODEL_130db685ee2b44b09040c6277bd17189",
              "IPY_MODEL_a4dcc7eb8de548938f0e966327001cb3",
              "IPY_MODEL_353c1c05edd844ac9299dd683aa345f9"
            ],
            "layout": "IPY_MODEL_428f4523bef74a89bdd842173f22897e"
          }
        },
        "130db685ee2b44b09040c6277bd17189": {
          "model_module": "@jupyter-widgets/controls",
          "model_name": "HTMLModel",
          "model_module_version": "1.5.0",
          "state": {
            "_dom_classes": [],
            "_model_module": "@jupyter-widgets/controls",
            "_model_module_version": "1.5.0",
            "_model_name": "HTMLModel",
            "_view_count": null,
            "_view_module": "@jupyter-widgets/controls",
            "_view_module_version": "1.5.0",
            "_view_name": "HTMLView",
            "description": "",
            "description_tooltip": null,
            "layout": "IPY_MODEL_b443d9b56978414cbc0433ce5a4b5cd5",
            "placeholder": "​",
            "style": "IPY_MODEL_2de689f16f294b8594385a7c58a3c2bb",
            "value": "Generating validation split: 100%"
          }
        },
        "a4dcc7eb8de548938f0e966327001cb3": {
          "model_module": "@jupyter-widgets/controls",
          "model_name": "FloatProgressModel",
          "model_module_version": "1.5.0",
          "state": {
            "_dom_classes": [],
            "_model_module": "@jupyter-widgets/controls",
            "_model_module_version": "1.5.0",
            "_model_name": "FloatProgressModel",
            "_view_count": null,
            "_view_module": "@jupyter-widgets/controls",
            "_view_module_version": "1.5.0",
            "_view_name": "ProgressView",
            "bar_style": "success",
            "description": "",
            "description_tooltip": null,
            "layout": "IPY_MODEL_6474b78441bf43d19478d8167aa55fae",
            "max": 3250,
            "min": 0,
            "orientation": "horizontal",
            "style": "IPY_MODEL_dfb35dff3b7a43d7895903673cd811c5",
            "value": 3250
          }
        },
        "353c1c05edd844ac9299dd683aa345f9": {
          "model_module": "@jupyter-widgets/controls",
          "model_name": "HTMLModel",
          "model_module_version": "1.5.0",
          "state": {
            "_dom_classes": [],
            "_model_module": "@jupyter-widgets/controls",
            "_model_module_version": "1.5.0",
            "_model_name": "HTMLModel",
            "_view_count": null,
            "_view_module": "@jupyter-widgets/controls",
            "_view_module_version": "1.5.0",
            "_view_name": "HTMLView",
            "description": "",
            "description_tooltip": null,
            "layout": "IPY_MODEL_9de9681584da4df094326cc958337709",
            "placeholder": "​",
            "style": "IPY_MODEL_02fb16d1da85488b98fa076ea1ec7d40",
            "value": " 3250/3250 [00:00&lt;00:00, 40808.81 examples/s]"
          }
        },
        "428f4523bef74a89bdd842173f22897e": {
          "model_module": "@jupyter-widgets/base",
          "model_name": "LayoutModel",
          "model_module_version": "1.2.0",
          "state": {
            "_model_module": "@jupyter-widgets/base",
            "_model_module_version": "1.2.0",
            "_model_name": "LayoutModel",
            "_view_count": null,
            "_view_module": "@jupyter-widgets/base",
            "_view_module_version": "1.2.0",
            "_view_name": "LayoutView",
            "align_content": null,
            "align_items": null,
            "align_self": null,
            "border": null,
            "bottom": null,
            "display": null,
            "flex": null,
            "flex_flow": null,
            "grid_area": null,
            "grid_auto_columns": null,
            "grid_auto_flow": null,
            "grid_auto_rows": null,
            "grid_column": null,
            "grid_gap": null,
            "grid_row": null,
            "grid_template_areas": null,
            "grid_template_columns": null,
            "grid_template_rows": null,
            "height": null,
            "justify_content": null,
            "justify_items": null,
            "left": null,
            "margin": null,
            "max_height": null,
            "max_width": null,
            "min_height": null,
            "min_width": null,
            "object_fit": null,
            "object_position": null,
            "order": null,
            "overflow": null,
            "overflow_x": null,
            "overflow_y": null,
            "padding": null,
            "right": null,
            "top": null,
            "visibility": null,
            "width": null
          }
        },
        "b443d9b56978414cbc0433ce5a4b5cd5": {
          "model_module": "@jupyter-widgets/base",
          "model_name": "LayoutModel",
          "model_module_version": "1.2.0",
          "state": {
            "_model_module": "@jupyter-widgets/base",
            "_model_module_version": "1.2.0",
            "_model_name": "LayoutModel",
            "_view_count": null,
            "_view_module": "@jupyter-widgets/base",
            "_view_module_version": "1.2.0",
            "_view_name": "LayoutView",
            "align_content": null,
            "align_items": null,
            "align_self": null,
            "border": null,
            "bottom": null,
            "display": null,
            "flex": null,
            "flex_flow": null,
            "grid_area": null,
            "grid_auto_columns": null,
            "grid_auto_flow": null,
            "grid_auto_rows": null,
            "grid_column": null,
            "grid_gap": null,
            "grid_row": null,
            "grid_template_areas": null,
            "grid_template_columns": null,
            "grid_template_rows": null,
            "height": null,
            "justify_content": null,
            "justify_items": null,
            "left": null,
            "margin": null,
            "max_height": null,
            "max_width": null,
            "min_height": null,
            "min_width": null,
            "object_fit": null,
            "object_position": null,
            "order": null,
            "overflow": null,
            "overflow_x": null,
            "overflow_y": null,
            "padding": null,
            "right": null,
            "top": null,
            "visibility": null,
            "width": null
          }
        },
        "2de689f16f294b8594385a7c58a3c2bb": {
          "model_module": "@jupyter-widgets/controls",
          "model_name": "DescriptionStyleModel",
          "model_module_version": "1.5.0",
          "state": {
            "_model_module": "@jupyter-widgets/controls",
            "_model_module_version": "1.5.0",
            "_model_name": "DescriptionStyleModel",
            "_view_count": null,
            "_view_module": "@jupyter-widgets/base",
            "_view_module_version": "1.2.0",
            "_view_name": "StyleView",
            "description_width": ""
          }
        },
        "6474b78441bf43d19478d8167aa55fae": {
          "model_module": "@jupyter-widgets/base",
          "model_name": "LayoutModel",
          "model_module_version": "1.2.0",
          "state": {
            "_model_module": "@jupyter-widgets/base",
            "_model_module_version": "1.2.0",
            "_model_name": "LayoutModel",
            "_view_count": null,
            "_view_module": "@jupyter-widgets/base",
            "_view_module_version": "1.2.0",
            "_view_name": "LayoutView",
            "align_content": null,
            "align_items": null,
            "align_self": null,
            "border": null,
            "bottom": null,
            "display": null,
            "flex": null,
            "flex_flow": null,
            "grid_area": null,
            "grid_auto_columns": null,
            "grid_auto_flow": null,
            "grid_auto_rows": null,
            "grid_column": null,
            "grid_gap": null,
            "grid_row": null,
            "grid_template_areas": null,
            "grid_template_columns": null,
            "grid_template_rows": null,
            "height": null,
            "justify_content": null,
            "justify_items": null,
            "left": null,
            "margin": null,
            "max_height": null,
            "max_width": null,
            "min_height": null,
            "min_width": null,
            "object_fit": null,
            "object_position": null,
            "order": null,
            "overflow": null,
            "overflow_x": null,
            "overflow_y": null,
            "padding": null,
            "right": null,
            "top": null,
            "visibility": null,
            "width": null
          }
        },
        "dfb35dff3b7a43d7895903673cd811c5": {
          "model_module": "@jupyter-widgets/controls",
          "model_name": "ProgressStyleModel",
          "model_module_version": "1.5.0",
          "state": {
            "_model_module": "@jupyter-widgets/controls",
            "_model_module_version": "1.5.0",
            "_model_name": "ProgressStyleModel",
            "_view_count": null,
            "_view_module": "@jupyter-widgets/base",
            "_view_module_version": "1.2.0",
            "_view_name": "StyleView",
            "bar_color": null,
            "description_width": ""
          }
        },
        "9de9681584da4df094326cc958337709": {
          "model_module": "@jupyter-widgets/base",
          "model_name": "LayoutModel",
          "model_module_version": "1.2.0",
          "state": {
            "_model_module": "@jupyter-widgets/base",
            "_model_module_version": "1.2.0",
            "_model_name": "LayoutModel",
            "_view_count": null,
            "_view_module": "@jupyter-widgets/base",
            "_view_module_version": "1.2.0",
            "_view_name": "LayoutView",
            "align_content": null,
            "align_items": null,
            "align_self": null,
            "border": null,
            "bottom": null,
            "display": null,
            "flex": null,
            "flex_flow": null,
            "grid_area": null,
            "grid_auto_columns": null,
            "grid_auto_flow": null,
            "grid_auto_rows": null,
            "grid_column": null,
            "grid_gap": null,
            "grid_row": null,
            "grid_template_areas": null,
            "grid_template_columns": null,
            "grid_template_rows": null,
            "height": null,
            "justify_content": null,
            "justify_items": null,
            "left": null,
            "margin": null,
            "max_height": null,
            "max_width": null,
            "min_height": null,
            "min_width": null,
            "object_fit": null,
            "object_position": null,
            "order": null,
            "overflow": null,
            "overflow_x": null,
            "overflow_y": null,
            "padding": null,
            "right": null,
            "top": null,
            "visibility": null,
            "width": null
          }
        },
        "02fb16d1da85488b98fa076ea1ec7d40": {
          "model_module": "@jupyter-widgets/controls",
          "model_name": "DescriptionStyleModel",
          "model_module_version": "1.5.0",
          "state": {
            "_model_module": "@jupyter-widgets/controls",
            "_model_module_version": "1.5.0",
            "_model_name": "DescriptionStyleModel",
            "_view_count": null,
            "_view_module": "@jupyter-widgets/base",
            "_view_module_version": "1.2.0",
            "_view_name": "StyleView",
            "description_width": ""
          }
        },
        "910528d8381944c0b356706381e67209": {
          "model_module": "@jupyter-widgets/controls",
          "model_name": "HBoxModel",
          "model_module_version": "1.5.0",
          "state": {
            "_dom_classes": [],
            "_model_module": "@jupyter-widgets/controls",
            "_model_module_version": "1.5.0",
            "_model_name": "HBoxModel",
            "_view_count": null,
            "_view_module": "@jupyter-widgets/controls",
            "_view_module_version": "1.5.0",
            "_view_name": "HBoxView",
            "box_style": "",
            "children": [
              "IPY_MODEL_4031609659dd43baab47a506b5ac306b",
              "IPY_MODEL_064601354023402a96fab7fe6efff485",
              "IPY_MODEL_0641091530d5427fb1855c53e833c181"
            ],
            "layout": "IPY_MODEL_ffde2eaec8084946a644f4ff77980de3"
          }
        },
        "4031609659dd43baab47a506b5ac306b": {
          "model_module": "@jupyter-widgets/controls",
          "model_name": "HTMLModel",
          "model_module_version": "1.5.0",
          "state": {
            "_dom_classes": [],
            "_model_module": "@jupyter-widgets/controls",
            "_model_module_version": "1.5.0",
            "_model_name": "HTMLModel",
            "_view_count": null,
            "_view_module": "@jupyter-widgets/controls",
            "_view_module_version": "1.5.0",
            "_view_name": "HTMLView",
            "description": "",
            "description_tooltip": null,
            "layout": "IPY_MODEL_9b98e82f8a324db0be34b3f40cf59b40",
            "placeholder": "​",
            "style": "IPY_MODEL_d2921f5858984225846464edded19adc",
            "value": "Generating test split: 100%"
          }
        },
        "064601354023402a96fab7fe6efff485": {
          "model_module": "@jupyter-widgets/controls",
          "model_name": "FloatProgressModel",
          "model_module_version": "1.5.0",
          "state": {
            "_dom_classes": [],
            "_model_module": "@jupyter-widgets/controls",
            "_model_module_version": "1.5.0",
            "_model_name": "FloatProgressModel",
            "_view_count": null,
            "_view_module": "@jupyter-widgets/controls",
            "_view_module_version": "1.5.0",
            "_view_name": "ProgressView",
            "bar_style": "success",
            "description": "",
            "description_tooltip": null,
            "layout": "IPY_MODEL_7bf6d5c8e3dd4e66a9fe4a2f48e13363",
            "max": 3453,
            "min": 0,
            "orientation": "horizontal",
            "style": "IPY_MODEL_b7c12f12d0e14a18960dcbac4d8be03e",
            "value": 3453
          }
        },
        "0641091530d5427fb1855c53e833c181": {
          "model_module": "@jupyter-widgets/controls",
          "model_name": "HTMLModel",
          "model_module_version": "1.5.0",
          "state": {
            "_dom_classes": [],
            "_model_module": "@jupyter-widgets/controls",
            "_model_module_version": "1.5.0",
            "_model_name": "HTMLModel",
            "_view_count": null,
            "_view_module": "@jupyter-widgets/controls",
            "_view_module_version": "1.5.0",
            "_view_name": "HTMLView",
            "description": "",
            "description_tooltip": null,
            "layout": "IPY_MODEL_a28ef3d47f1149769424c6ceee78e8e8",
            "placeholder": "​",
            "style": "IPY_MODEL_1959b735916d431b85ed8b841aa7a274",
            "value": " 3453/3453 [00:00&lt;00:00, 40795.04 examples/s]"
          }
        },
        "ffde2eaec8084946a644f4ff77980de3": {
          "model_module": "@jupyter-widgets/base",
          "model_name": "LayoutModel",
          "model_module_version": "1.2.0",
          "state": {
            "_model_module": "@jupyter-widgets/base",
            "_model_module_version": "1.2.0",
            "_model_name": "LayoutModel",
            "_view_count": null,
            "_view_module": "@jupyter-widgets/base",
            "_view_module_version": "1.2.0",
            "_view_name": "LayoutView",
            "align_content": null,
            "align_items": null,
            "align_self": null,
            "border": null,
            "bottom": null,
            "display": null,
            "flex": null,
            "flex_flow": null,
            "grid_area": null,
            "grid_auto_columns": null,
            "grid_auto_flow": null,
            "grid_auto_rows": null,
            "grid_column": null,
            "grid_gap": null,
            "grid_row": null,
            "grid_template_areas": null,
            "grid_template_columns": null,
            "grid_template_rows": null,
            "height": null,
            "justify_content": null,
            "justify_items": null,
            "left": null,
            "margin": null,
            "max_height": null,
            "max_width": null,
            "min_height": null,
            "min_width": null,
            "object_fit": null,
            "object_position": null,
            "order": null,
            "overflow": null,
            "overflow_x": null,
            "overflow_y": null,
            "padding": null,
            "right": null,
            "top": null,
            "visibility": null,
            "width": null
          }
        },
        "9b98e82f8a324db0be34b3f40cf59b40": {
          "model_module": "@jupyter-widgets/base",
          "model_name": "LayoutModel",
          "model_module_version": "1.2.0",
          "state": {
            "_model_module": "@jupyter-widgets/base",
            "_model_module_version": "1.2.0",
            "_model_name": "LayoutModel",
            "_view_count": null,
            "_view_module": "@jupyter-widgets/base",
            "_view_module_version": "1.2.0",
            "_view_name": "LayoutView",
            "align_content": null,
            "align_items": null,
            "align_self": null,
            "border": null,
            "bottom": null,
            "display": null,
            "flex": null,
            "flex_flow": null,
            "grid_area": null,
            "grid_auto_columns": null,
            "grid_auto_flow": null,
            "grid_auto_rows": null,
            "grid_column": null,
            "grid_gap": null,
            "grid_row": null,
            "grid_template_areas": null,
            "grid_template_columns": null,
            "grid_template_rows": null,
            "height": null,
            "justify_content": null,
            "justify_items": null,
            "left": null,
            "margin": null,
            "max_height": null,
            "max_width": null,
            "min_height": null,
            "min_width": null,
            "object_fit": null,
            "object_position": null,
            "order": null,
            "overflow": null,
            "overflow_x": null,
            "overflow_y": null,
            "padding": null,
            "right": null,
            "top": null,
            "visibility": null,
            "width": null
          }
        },
        "d2921f5858984225846464edded19adc": {
          "model_module": "@jupyter-widgets/controls",
          "model_name": "DescriptionStyleModel",
          "model_module_version": "1.5.0",
          "state": {
            "_model_module": "@jupyter-widgets/controls",
            "_model_module_version": "1.5.0",
            "_model_name": "DescriptionStyleModel",
            "_view_count": null,
            "_view_module": "@jupyter-widgets/base",
            "_view_module_version": "1.2.0",
            "_view_name": "StyleView",
            "description_width": ""
          }
        },
        "7bf6d5c8e3dd4e66a9fe4a2f48e13363": {
          "model_module": "@jupyter-widgets/base",
          "model_name": "LayoutModel",
          "model_module_version": "1.2.0",
          "state": {
            "_model_module": "@jupyter-widgets/base",
            "_model_module_version": "1.2.0",
            "_model_name": "LayoutModel",
            "_view_count": null,
            "_view_module": "@jupyter-widgets/base",
            "_view_module_version": "1.2.0",
            "_view_name": "LayoutView",
            "align_content": null,
            "align_items": null,
            "align_self": null,
            "border": null,
            "bottom": null,
            "display": null,
            "flex": null,
            "flex_flow": null,
            "grid_area": null,
            "grid_auto_columns": null,
            "grid_auto_flow": null,
            "grid_auto_rows": null,
            "grid_column": null,
            "grid_gap": null,
            "grid_row": null,
            "grid_template_areas": null,
            "grid_template_columns": null,
            "grid_template_rows": null,
            "height": null,
            "justify_content": null,
            "justify_items": null,
            "left": null,
            "margin": null,
            "max_height": null,
            "max_width": null,
            "min_height": null,
            "min_width": null,
            "object_fit": null,
            "object_position": null,
            "order": null,
            "overflow": null,
            "overflow_x": null,
            "overflow_y": null,
            "padding": null,
            "right": null,
            "top": null,
            "visibility": null,
            "width": null
          }
        },
        "b7c12f12d0e14a18960dcbac4d8be03e": {
          "model_module": "@jupyter-widgets/controls",
          "model_name": "ProgressStyleModel",
          "model_module_version": "1.5.0",
          "state": {
            "_model_module": "@jupyter-widgets/controls",
            "_model_module_version": "1.5.0",
            "_model_name": "ProgressStyleModel",
            "_view_count": null,
            "_view_module": "@jupyter-widgets/base",
            "_view_module_version": "1.2.0",
            "_view_name": "StyleView",
            "bar_color": null,
            "description_width": ""
          }
        },
        "a28ef3d47f1149769424c6ceee78e8e8": {
          "model_module": "@jupyter-widgets/base",
          "model_name": "LayoutModel",
          "model_module_version": "1.2.0",
          "state": {
            "_model_module": "@jupyter-widgets/base",
            "_model_module_version": "1.2.0",
            "_model_name": "LayoutModel",
            "_view_count": null,
            "_view_module": "@jupyter-widgets/base",
            "_view_module_version": "1.2.0",
            "_view_name": "LayoutView",
            "align_content": null,
            "align_items": null,
            "align_self": null,
            "border": null,
            "bottom": null,
            "display": null,
            "flex": null,
            "flex_flow": null,
            "grid_area": null,
            "grid_auto_columns": null,
            "grid_auto_flow": null,
            "grid_auto_rows": null,
            "grid_column": null,
            "grid_gap": null,
            "grid_row": null,
            "grid_template_areas": null,
            "grid_template_columns": null,
            "grid_template_rows": null,
            "height": null,
            "justify_content": null,
            "justify_items": null,
            "left": null,
            "margin": null,
            "max_height": null,
            "max_width": null,
            "min_height": null,
            "min_width": null,
            "object_fit": null,
            "object_position": null,
            "order": null,
            "overflow": null,
            "overflow_x": null,
            "overflow_y": null,
            "padding": null,
            "right": null,
            "top": null,
            "visibility": null,
            "width": null
          }
        },
        "1959b735916d431b85ed8b841aa7a274": {
          "model_module": "@jupyter-widgets/controls",
          "model_name": "DescriptionStyleModel",
          "model_module_version": "1.5.0",
          "state": {
            "_model_module": "@jupyter-widgets/controls",
            "_model_module_version": "1.5.0",
            "_model_name": "DescriptionStyleModel",
            "_view_count": null,
            "_view_module": "@jupyter-widgets/base",
            "_view_module_version": "1.2.0",
            "_view_name": "StyleView",
            "description_width": ""
          }
        },
        "4a737ad8bbc94bf68c49ff82d2898f10": {
          "model_module": "@jupyter-widgets/controls",
          "model_name": "HBoxModel",
          "model_module_version": "1.5.0",
          "state": {
            "_dom_classes": [],
            "_model_module": "@jupyter-widgets/controls",
            "_model_module_version": "1.5.0",
            "_model_name": "HBoxModel",
            "_view_count": null,
            "_view_module": "@jupyter-widgets/controls",
            "_view_module_version": "1.5.0",
            "_view_name": "HBoxView",
            "box_style": "",
            "children": [
              "IPY_MODEL_ea0a1466476f4896aafbd5f1795df1ad",
              "IPY_MODEL_e1eff293912b4bf7b5d3170a13a9980d",
              "IPY_MODEL_cda350b5d8d7473fb807c315e06484d3"
            ],
            "layout": "IPY_MODEL_74a2398747304e0b94c50d5406833452"
          }
        },
        "ea0a1466476f4896aafbd5f1795df1ad": {
          "model_module": "@jupyter-widgets/controls",
          "model_name": "HTMLModel",
          "model_module_version": "1.5.0",
          "state": {
            "_dom_classes": [],
            "_model_module": "@jupyter-widgets/controls",
            "_model_module_version": "1.5.0",
            "_model_name": "HTMLModel",
            "_view_count": null,
            "_view_module": "@jupyter-widgets/controls",
            "_view_module_version": "1.5.0",
            "_view_name": "HTMLView",
            "description": "",
            "description_tooltip": null,
            "layout": "IPY_MODEL_9267fdf6509442deb67d20d2118589b1",
            "placeholder": "​",
            "style": "IPY_MODEL_6b69729518d048f7a64b20b6bec33d10",
            "value": "Map: 100%"
          }
        },
        "e1eff293912b4bf7b5d3170a13a9980d": {
          "model_module": "@jupyter-widgets/controls",
          "model_name": "FloatProgressModel",
          "model_module_version": "1.5.0",
          "state": {
            "_dom_classes": [],
            "_model_module": "@jupyter-widgets/controls",
            "_model_module_version": "1.5.0",
            "_model_name": "FloatProgressModel",
            "_view_count": null,
            "_view_module": "@jupyter-widgets/controls",
            "_view_module_version": "1.5.0",
            "_view_name": "ProgressView",
            "bar_style": "success",
            "description": "",
            "description_tooltip": null,
            "layout": "IPY_MODEL_5273564aa4eb4e589046c93852729a41",
            "max": 3250,
            "min": 0,
            "orientation": "horizontal",
            "style": "IPY_MODEL_ffed942118eb4ef5ba482e22933c6863",
            "value": 3250
          }
        },
        "cda350b5d8d7473fb807c315e06484d3": {
          "model_module": "@jupyter-widgets/controls",
          "model_name": "HTMLModel",
          "model_module_version": "1.5.0",
          "state": {
            "_dom_classes": [],
            "_model_module": "@jupyter-widgets/controls",
            "_model_module_version": "1.5.0",
            "_model_name": "HTMLModel",
            "_view_count": null,
            "_view_module": "@jupyter-widgets/controls",
            "_view_module_version": "1.5.0",
            "_view_name": "HTMLView",
            "description": "",
            "description_tooltip": null,
            "layout": "IPY_MODEL_bf6dab860bf748b29258cee307fb2073",
            "placeholder": "​",
            "style": "IPY_MODEL_874b9fb2221c49c492df70f112ee3f47",
            "value": " 3250/3250 [00:02&lt;00:00, 1348.89 examples/s]"
          }
        },
        "74a2398747304e0b94c50d5406833452": {
          "model_module": "@jupyter-widgets/base",
          "model_name": "LayoutModel",
          "model_module_version": "1.2.0",
          "state": {
            "_model_module": "@jupyter-widgets/base",
            "_model_module_version": "1.2.0",
            "_model_name": "LayoutModel",
            "_view_count": null,
            "_view_module": "@jupyter-widgets/base",
            "_view_module_version": "1.2.0",
            "_view_name": "LayoutView",
            "align_content": null,
            "align_items": null,
            "align_self": null,
            "border": null,
            "bottom": null,
            "display": null,
            "flex": null,
            "flex_flow": null,
            "grid_area": null,
            "grid_auto_columns": null,
            "grid_auto_flow": null,
            "grid_auto_rows": null,
            "grid_column": null,
            "grid_gap": null,
            "grid_row": null,
            "grid_template_areas": null,
            "grid_template_columns": null,
            "grid_template_rows": null,
            "height": null,
            "justify_content": null,
            "justify_items": null,
            "left": null,
            "margin": null,
            "max_height": null,
            "max_width": null,
            "min_height": null,
            "min_width": null,
            "object_fit": null,
            "object_position": null,
            "order": null,
            "overflow": null,
            "overflow_x": null,
            "overflow_y": null,
            "padding": null,
            "right": null,
            "top": null,
            "visibility": null,
            "width": null
          }
        },
        "9267fdf6509442deb67d20d2118589b1": {
          "model_module": "@jupyter-widgets/base",
          "model_name": "LayoutModel",
          "model_module_version": "1.2.0",
          "state": {
            "_model_module": "@jupyter-widgets/base",
            "_model_module_version": "1.2.0",
            "_model_name": "LayoutModel",
            "_view_count": null,
            "_view_module": "@jupyter-widgets/base",
            "_view_module_version": "1.2.0",
            "_view_name": "LayoutView",
            "align_content": null,
            "align_items": null,
            "align_self": null,
            "border": null,
            "bottom": null,
            "display": null,
            "flex": null,
            "flex_flow": null,
            "grid_area": null,
            "grid_auto_columns": null,
            "grid_auto_flow": null,
            "grid_auto_rows": null,
            "grid_column": null,
            "grid_gap": null,
            "grid_row": null,
            "grid_template_areas": null,
            "grid_template_columns": null,
            "grid_template_rows": null,
            "height": null,
            "justify_content": null,
            "justify_items": null,
            "left": null,
            "margin": null,
            "max_height": null,
            "max_width": null,
            "min_height": null,
            "min_width": null,
            "object_fit": null,
            "object_position": null,
            "order": null,
            "overflow": null,
            "overflow_x": null,
            "overflow_y": null,
            "padding": null,
            "right": null,
            "top": null,
            "visibility": null,
            "width": null
          }
        },
        "6b69729518d048f7a64b20b6bec33d10": {
          "model_module": "@jupyter-widgets/controls",
          "model_name": "DescriptionStyleModel",
          "model_module_version": "1.5.0",
          "state": {
            "_model_module": "@jupyter-widgets/controls",
            "_model_module_version": "1.5.0",
            "_model_name": "DescriptionStyleModel",
            "_view_count": null,
            "_view_module": "@jupyter-widgets/base",
            "_view_module_version": "1.2.0",
            "_view_name": "StyleView",
            "description_width": ""
          }
        },
        "5273564aa4eb4e589046c93852729a41": {
          "model_module": "@jupyter-widgets/base",
          "model_name": "LayoutModel",
          "model_module_version": "1.2.0",
          "state": {
            "_model_module": "@jupyter-widgets/base",
            "_model_module_version": "1.2.0",
            "_model_name": "LayoutModel",
            "_view_count": null,
            "_view_module": "@jupyter-widgets/base",
            "_view_module_version": "1.2.0",
            "_view_name": "LayoutView",
            "align_content": null,
            "align_items": null,
            "align_self": null,
            "border": null,
            "bottom": null,
            "display": null,
            "flex": null,
            "flex_flow": null,
            "grid_area": null,
            "grid_auto_columns": null,
            "grid_auto_flow": null,
            "grid_auto_rows": null,
            "grid_column": null,
            "grid_gap": null,
            "grid_row": null,
            "grid_template_areas": null,
            "grid_template_columns": null,
            "grid_template_rows": null,
            "height": null,
            "justify_content": null,
            "justify_items": null,
            "left": null,
            "margin": null,
            "max_height": null,
            "max_width": null,
            "min_height": null,
            "min_width": null,
            "object_fit": null,
            "object_position": null,
            "order": null,
            "overflow": null,
            "overflow_x": null,
            "overflow_y": null,
            "padding": null,
            "right": null,
            "top": null,
            "visibility": null,
            "width": null
          }
        },
        "ffed942118eb4ef5ba482e22933c6863": {
          "model_module": "@jupyter-widgets/controls",
          "model_name": "ProgressStyleModel",
          "model_module_version": "1.5.0",
          "state": {
            "_model_module": "@jupyter-widgets/controls",
            "_model_module_version": "1.5.0",
            "_model_name": "ProgressStyleModel",
            "_view_count": null,
            "_view_module": "@jupyter-widgets/base",
            "_view_module_version": "1.2.0",
            "_view_name": "StyleView",
            "bar_color": null,
            "description_width": ""
          }
        },
        "bf6dab860bf748b29258cee307fb2073": {
          "model_module": "@jupyter-widgets/base",
          "model_name": "LayoutModel",
          "model_module_version": "1.2.0",
          "state": {
            "_model_module": "@jupyter-widgets/base",
            "_model_module_version": "1.2.0",
            "_model_name": "LayoutModel",
            "_view_count": null,
            "_view_module": "@jupyter-widgets/base",
            "_view_module_version": "1.2.0",
            "_view_name": "LayoutView",
            "align_content": null,
            "align_items": null,
            "align_self": null,
            "border": null,
            "bottom": null,
            "display": null,
            "flex": null,
            "flex_flow": null,
            "grid_area": null,
            "grid_auto_columns": null,
            "grid_auto_flow": null,
            "grid_auto_rows": null,
            "grid_column": null,
            "grid_gap": null,
            "grid_row": null,
            "grid_template_areas": null,
            "grid_template_columns": null,
            "grid_template_rows": null,
            "height": null,
            "justify_content": null,
            "justify_items": null,
            "left": null,
            "margin": null,
            "max_height": null,
            "max_width": null,
            "min_height": null,
            "min_width": null,
            "object_fit": null,
            "object_position": null,
            "order": null,
            "overflow": null,
            "overflow_x": null,
            "overflow_y": null,
            "padding": null,
            "right": null,
            "top": null,
            "visibility": null,
            "width": null
          }
        },
        "874b9fb2221c49c492df70f112ee3f47": {
          "model_module": "@jupyter-widgets/controls",
          "model_name": "DescriptionStyleModel",
          "model_module_version": "1.5.0",
          "state": {
            "_model_module": "@jupyter-widgets/controls",
            "_model_module_version": "1.5.0",
            "_model_name": "DescriptionStyleModel",
            "_view_count": null,
            "_view_module": "@jupyter-widgets/base",
            "_view_module_version": "1.2.0",
            "_view_name": "StyleView",
            "description_width": ""
          }
        },
        "4c89c7723b9a45f0809b404401faa969": {
          "model_module": "@jupyter-widgets/controls",
          "model_name": "HBoxModel",
          "model_module_version": "1.5.0",
          "state": {
            "_dom_classes": [],
            "_model_module": "@jupyter-widgets/controls",
            "_model_module_version": "1.5.0",
            "_model_name": "HBoxModel",
            "_view_count": null,
            "_view_module": "@jupyter-widgets/controls",
            "_view_module_version": "1.5.0",
            "_view_name": "HBoxView",
            "box_style": "",
            "children": [
              "IPY_MODEL_1f30e18dbc2c4e9e9768cfaba0e952b0",
              "IPY_MODEL_5eaedd8809a0417283ed9680d3b2c165",
              "IPY_MODEL_6c8331e4b05d4d8c83303a7d76382258"
            ],
            "layout": "IPY_MODEL_3f76d13a2e5047a0976e1a4a894141b2"
          }
        },
        "1f30e18dbc2c4e9e9768cfaba0e952b0": {
          "model_module": "@jupyter-widgets/controls",
          "model_name": "HTMLModel",
          "model_module_version": "1.5.0",
          "state": {
            "_dom_classes": [],
            "_model_module": "@jupyter-widgets/controls",
            "_model_module_version": "1.5.0",
            "_model_name": "HTMLModel",
            "_view_count": null,
            "_view_module": "@jupyter-widgets/controls",
            "_view_module_version": "1.5.0",
            "_view_name": "HTMLView",
            "description": "",
            "description_tooltip": null,
            "layout": "IPY_MODEL_6006d78196014e69955e8848735b7364",
            "placeholder": "​",
            "style": "IPY_MODEL_d09ab03d20324bf381fafffafe005eeb",
            "value": "model.safetensors: 100%"
          }
        },
        "5eaedd8809a0417283ed9680d3b2c165": {
          "model_module": "@jupyter-widgets/controls",
          "model_name": "FloatProgressModel",
          "model_module_version": "1.5.0",
          "state": {
            "_dom_classes": [],
            "_model_module": "@jupyter-widgets/controls",
            "_model_module_version": "1.5.0",
            "_model_name": "FloatProgressModel",
            "_view_count": null,
            "_view_module": "@jupyter-widgets/controls",
            "_view_module_version": "1.5.0",
            "_view_name": "ProgressView",
            "bar_style": "success",
            "description": "",
            "description_tooltip": null,
            "layout": "IPY_MODEL_0a9d33a849684faeb4d7f55ef6a171bc",
            "max": 263260784,
            "min": 0,
            "orientation": "horizontal",
            "style": "IPY_MODEL_926e3ba658b74ee5b465e530b27ff592",
            "value": 263260784
          }
        },
        "6c8331e4b05d4d8c83303a7d76382258": {
          "model_module": "@jupyter-widgets/controls",
          "model_name": "HTMLModel",
          "model_module_version": "1.5.0",
          "state": {
            "_dom_classes": [],
            "_model_module": "@jupyter-widgets/controls",
            "_model_module_version": "1.5.0",
            "_model_name": "HTMLModel",
            "_view_count": null,
            "_view_module": "@jupyter-widgets/controls",
            "_view_module_version": "1.5.0",
            "_view_name": "HTMLView",
            "description": "",
            "description_tooltip": null,
            "layout": "IPY_MODEL_b502951f37ec489db1e2c2c2eb26b3d2",
            "placeholder": "​",
            "style": "IPY_MODEL_b48c1d0ba71140a5acbd250e4a41488f",
            "value": " 263M/263M [00:03&lt;00:00, 78.6MB/s]"
          }
        },
        "3f76d13a2e5047a0976e1a4a894141b2": {
          "model_module": "@jupyter-widgets/base",
          "model_name": "LayoutModel",
          "model_module_version": "1.2.0",
          "state": {
            "_model_module": "@jupyter-widgets/base",
            "_model_module_version": "1.2.0",
            "_model_name": "LayoutModel",
            "_view_count": null,
            "_view_module": "@jupyter-widgets/base",
            "_view_module_version": "1.2.0",
            "_view_name": "LayoutView",
            "align_content": null,
            "align_items": null,
            "align_self": null,
            "border": null,
            "bottom": null,
            "display": null,
            "flex": null,
            "flex_flow": null,
            "grid_area": null,
            "grid_auto_columns": null,
            "grid_auto_flow": null,
            "grid_auto_rows": null,
            "grid_column": null,
            "grid_gap": null,
            "grid_row": null,
            "grid_template_areas": null,
            "grid_template_columns": null,
            "grid_template_rows": null,
            "height": null,
            "justify_content": null,
            "justify_items": null,
            "left": null,
            "margin": null,
            "max_height": null,
            "max_width": null,
            "min_height": null,
            "min_width": null,
            "object_fit": null,
            "object_position": null,
            "order": null,
            "overflow": null,
            "overflow_x": null,
            "overflow_y": null,
            "padding": null,
            "right": null,
            "top": null,
            "visibility": null,
            "width": null
          }
        },
        "6006d78196014e69955e8848735b7364": {
          "model_module": "@jupyter-widgets/base",
          "model_name": "LayoutModel",
          "model_module_version": "1.2.0",
          "state": {
            "_model_module": "@jupyter-widgets/base",
            "_model_module_version": "1.2.0",
            "_model_name": "LayoutModel",
            "_view_count": null,
            "_view_module": "@jupyter-widgets/base",
            "_view_module_version": "1.2.0",
            "_view_name": "LayoutView",
            "align_content": null,
            "align_items": null,
            "align_self": null,
            "border": null,
            "bottom": null,
            "display": null,
            "flex": null,
            "flex_flow": null,
            "grid_area": null,
            "grid_auto_columns": null,
            "grid_auto_flow": null,
            "grid_auto_rows": null,
            "grid_column": null,
            "grid_gap": null,
            "grid_row": null,
            "grid_template_areas": null,
            "grid_template_columns": null,
            "grid_template_rows": null,
            "height": null,
            "justify_content": null,
            "justify_items": null,
            "left": null,
            "margin": null,
            "max_height": null,
            "max_width": null,
            "min_height": null,
            "min_width": null,
            "object_fit": null,
            "object_position": null,
            "order": null,
            "overflow": null,
            "overflow_x": null,
            "overflow_y": null,
            "padding": null,
            "right": null,
            "top": null,
            "visibility": null,
            "width": null
          }
        },
        "d09ab03d20324bf381fafffafe005eeb": {
          "model_module": "@jupyter-widgets/controls",
          "model_name": "DescriptionStyleModel",
          "model_module_version": "1.5.0",
          "state": {
            "_model_module": "@jupyter-widgets/controls",
            "_model_module_version": "1.5.0",
            "_model_name": "DescriptionStyleModel",
            "_view_count": null,
            "_view_module": "@jupyter-widgets/base",
            "_view_module_version": "1.2.0",
            "_view_name": "StyleView",
            "description_width": ""
          }
        },
        "0a9d33a849684faeb4d7f55ef6a171bc": {
          "model_module": "@jupyter-widgets/base",
          "model_name": "LayoutModel",
          "model_module_version": "1.2.0",
          "state": {
            "_model_module": "@jupyter-widgets/base",
            "_model_module_version": "1.2.0",
            "_model_name": "LayoutModel",
            "_view_count": null,
            "_view_module": "@jupyter-widgets/base",
            "_view_module_version": "1.2.0",
            "_view_name": "LayoutView",
            "align_content": null,
            "align_items": null,
            "align_self": null,
            "border": null,
            "bottom": null,
            "display": null,
            "flex": null,
            "flex_flow": null,
            "grid_area": null,
            "grid_auto_columns": null,
            "grid_auto_flow": null,
            "grid_auto_rows": null,
            "grid_column": null,
            "grid_gap": null,
            "grid_row": null,
            "grid_template_areas": null,
            "grid_template_columns": null,
            "grid_template_rows": null,
            "height": null,
            "justify_content": null,
            "justify_items": null,
            "left": null,
            "margin": null,
            "max_height": null,
            "max_width": null,
            "min_height": null,
            "min_width": null,
            "object_fit": null,
            "object_position": null,
            "order": null,
            "overflow": null,
            "overflow_x": null,
            "overflow_y": null,
            "padding": null,
            "right": null,
            "top": null,
            "visibility": null,
            "width": null
          }
        },
        "926e3ba658b74ee5b465e530b27ff592": {
          "model_module": "@jupyter-widgets/controls",
          "model_name": "ProgressStyleModel",
          "model_module_version": "1.5.0",
          "state": {
            "_model_module": "@jupyter-widgets/controls",
            "_model_module_version": "1.5.0",
            "_model_name": "ProgressStyleModel",
            "_view_count": null,
            "_view_module": "@jupyter-widgets/base",
            "_view_module_version": "1.2.0",
            "_view_name": "StyleView",
            "bar_color": null,
            "description_width": ""
          }
        },
        "b502951f37ec489db1e2c2c2eb26b3d2": {
          "model_module": "@jupyter-widgets/base",
          "model_name": "LayoutModel",
          "model_module_version": "1.2.0",
          "state": {
            "_model_module": "@jupyter-widgets/base",
            "_model_module_version": "1.2.0",
            "_model_name": "LayoutModel",
            "_view_count": null,
            "_view_module": "@jupyter-widgets/base",
            "_view_module_version": "1.2.0",
            "_view_name": "LayoutView",
            "align_content": null,
            "align_items": null,
            "align_self": null,
            "border": null,
            "bottom": null,
            "display": null,
            "flex": null,
            "flex_flow": null,
            "grid_area": null,
            "grid_auto_columns": null,
            "grid_auto_flow": null,
            "grid_auto_rows": null,
            "grid_column": null,
            "grid_gap": null,
            "grid_row": null,
            "grid_template_areas": null,
            "grid_template_columns": null,
            "grid_template_rows": null,
            "height": null,
            "justify_content": null,
            "justify_items": null,
            "left": null,
            "margin": null,
            "max_height": null,
            "max_width": null,
            "min_height": null,
            "min_width": null,
            "object_fit": null,
            "object_position": null,
            "order": null,
            "overflow": null,
            "overflow_x": null,
            "overflow_y": null,
            "padding": null,
            "right": null,
            "top": null,
            "visibility": null,
            "width": null
          }
        },
        "b48c1d0ba71140a5acbd250e4a41488f": {
          "model_module": "@jupyter-widgets/controls",
          "model_name": "DescriptionStyleModel",
          "model_module_version": "1.5.0",
          "state": {
            "_model_module": "@jupyter-widgets/controls",
            "_model_module_version": "1.5.0",
            "_model_name": "DescriptionStyleModel",
            "_view_count": null,
            "_view_module": "@jupyter-widgets/base",
            "_view_module_version": "1.2.0",
            "_view_name": "StyleView",
            "description_width": ""
          }
        },
        "2a1ff65935f74c4db5da4b06cda08bed": {
          "model_module": "@jupyter-widgets/controls",
          "model_name": "HBoxModel",
          "model_module_version": "1.5.0",
          "state": {
            "_dom_classes": [],
            "_model_module": "@jupyter-widgets/controls",
            "_model_module_version": "1.5.0",
            "_model_name": "HBoxModel",
            "_view_count": null,
            "_view_module": "@jupyter-widgets/controls",
            "_view_module_version": "1.5.0",
            "_view_name": "HBoxView",
            "box_style": "",
            "children": [
              "IPY_MODEL_5e93c76a8bcc4070940ce483e0bd2e24",
              "IPY_MODEL_881cb28f84a44bb995978df5fb3650a8",
              "IPY_MODEL_6dae514e59ba4115aa3c0f3eb632a040"
            ],
            "layout": "IPY_MODEL_77e3204a0f82473b8d825b64bf4241cf"
          }
        },
        "5e93c76a8bcc4070940ce483e0bd2e24": {
          "model_module": "@jupyter-widgets/controls",
          "model_name": "HTMLModel",
          "model_module_version": "1.5.0",
          "state": {
            "_dom_classes": [],
            "_model_module": "@jupyter-widgets/controls",
            "_model_module_version": "1.5.0",
            "_model_name": "HTMLModel",
            "_view_count": null,
            "_view_module": "@jupyter-widgets/controls",
            "_view_module_version": "1.5.0",
            "_view_name": "HTMLView",
            "description": "",
            "description_tooltip": null,
            "layout": "IPY_MODEL_a62f5fb1f6a741df9ff406b77c2c1b62",
            "placeholder": "​",
            "style": "IPY_MODEL_7913e6eb4ad54b50b575a46bf3807472",
            "value": "Downloading builder script: "
          }
        },
        "881cb28f84a44bb995978df5fb3650a8": {
          "model_module": "@jupyter-widgets/controls",
          "model_name": "FloatProgressModel",
          "model_module_version": "1.5.0",
          "state": {
            "_dom_classes": [],
            "_model_module": "@jupyter-widgets/controls",
            "_model_module_version": "1.5.0",
            "_model_name": "FloatProgressModel",
            "_view_count": null,
            "_view_module": "@jupyter-widgets/controls",
            "_view_module_version": "1.5.0",
            "_view_name": "ProgressView",
            "bar_style": "success",
            "description": "",
            "description_tooltip": null,
            "layout": "IPY_MODEL_4faf752749c74c4eb97111ae78a339a5",
            "max": 2471,
            "min": 0,
            "orientation": "horizontal",
            "style": "IPY_MODEL_e5cf87236b8f4f07a606260f87c862e4",
            "value": 2471
          }
        },
        "6dae514e59ba4115aa3c0f3eb632a040": {
          "model_module": "@jupyter-widgets/controls",
          "model_name": "HTMLModel",
          "model_module_version": "1.5.0",
          "state": {
            "_dom_classes": [],
            "_model_module": "@jupyter-widgets/controls",
            "_model_module_version": "1.5.0",
            "_model_name": "HTMLModel",
            "_view_count": null,
            "_view_module": "@jupyter-widgets/controls",
            "_view_module_version": "1.5.0",
            "_view_name": "HTMLView",
            "description": "",
            "description_tooltip": null,
            "layout": "IPY_MODEL_0474bdd2d06d44ac9772d5b6d49740fd",
            "placeholder": "​",
            "style": "IPY_MODEL_a3cbcfb01ce4431cafe12bc15bd24b9b",
            "value": " 6.33k/? [00:00&lt;00:00, 86.1kB/s]"
          }
        },
        "77e3204a0f82473b8d825b64bf4241cf": {
          "model_module": "@jupyter-widgets/base",
          "model_name": "LayoutModel",
          "model_module_version": "1.2.0",
          "state": {
            "_model_module": "@jupyter-widgets/base",
            "_model_module_version": "1.2.0",
            "_model_name": "LayoutModel",
            "_view_count": null,
            "_view_module": "@jupyter-widgets/base",
            "_view_module_version": "1.2.0",
            "_view_name": "LayoutView",
            "align_content": null,
            "align_items": null,
            "align_self": null,
            "border": null,
            "bottom": null,
            "display": null,
            "flex": null,
            "flex_flow": null,
            "grid_area": null,
            "grid_auto_columns": null,
            "grid_auto_flow": null,
            "grid_auto_rows": null,
            "grid_column": null,
            "grid_gap": null,
            "grid_row": null,
            "grid_template_areas": null,
            "grid_template_columns": null,
            "grid_template_rows": null,
            "height": null,
            "justify_content": null,
            "justify_items": null,
            "left": null,
            "margin": null,
            "max_height": null,
            "max_width": null,
            "min_height": null,
            "min_width": null,
            "object_fit": null,
            "object_position": null,
            "order": null,
            "overflow": null,
            "overflow_x": null,
            "overflow_y": null,
            "padding": null,
            "right": null,
            "top": null,
            "visibility": null,
            "width": null
          }
        },
        "a62f5fb1f6a741df9ff406b77c2c1b62": {
          "model_module": "@jupyter-widgets/base",
          "model_name": "LayoutModel",
          "model_module_version": "1.2.0",
          "state": {
            "_model_module": "@jupyter-widgets/base",
            "_model_module_version": "1.2.0",
            "_model_name": "LayoutModel",
            "_view_count": null,
            "_view_module": "@jupyter-widgets/base",
            "_view_module_version": "1.2.0",
            "_view_name": "LayoutView",
            "align_content": null,
            "align_items": null,
            "align_self": null,
            "border": null,
            "bottom": null,
            "display": null,
            "flex": null,
            "flex_flow": null,
            "grid_area": null,
            "grid_auto_columns": null,
            "grid_auto_flow": null,
            "grid_auto_rows": null,
            "grid_column": null,
            "grid_gap": null,
            "grid_row": null,
            "grid_template_areas": null,
            "grid_template_columns": null,
            "grid_template_rows": null,
            "height": null,
            "justify_content": null,
            "justify_items": null,
            "left": null,
            "margin": null,
            "max_height": null,
            "max_width": null,
            "min_height": null,
            "min_width": null,
            "object_fit": null,
            "object_position": null,
            "order": null,
            "overflow": null,
            "overflow_x": null,
            "overflow_y": null,
            "padding": null,
            "right": null,
            "top": null,
            "visibility": null,
            "width": null
          }
        },
        "7913e6eb4ad54b50b575a46bf3807472": {
          "model_module": "@jupyter-widgets/controls",
          "model_name": "DescriptionStyleModel",
          "model_module_version": "1.5.0",
          "state": {
            "_model_module": "@jupyter-widgets/controls",
            "_model_module_version": "1.5.0",
            "_model_name": "DescriptionStyleModel",
            "_view_count": null,
            "_view_module": "@jupyter-widgets/base",
            "_view_module_version": "1.2.0",
            "_view_name": "StyleView",
            "description_width": ""
          }
        },
        "4faf752749c74c4eb97111ae78a339a5": {
          "model_module": "@jupyter-widgets/base",
          "model_name": "LayoutModel",
          "model_module_version": "1.2.0",
          "state": {
            "_model_module": "@jupyter-widgets/base",
            "_model_module_version": "1.2.0",
            "_model_name": "LayoutModel",
            "_view_count": null,
            "_view_module": "@jupyter-widgets/base",
            "_view_module_version": "1.2.0",
            "_view_name": "LayoutView",
            "align_content": null,
            "align_items": null,
            "align_self": null,
            "border": null,
            "bottom": null,
            "display": null,
            "flex": null,
            "flex_flow": null,
            "grid_area": null,
            "grid_auto_columns": null,
            "grid_auto_flow": null,
            "grid_auto_rows": null,
            "grid_column": null,
            "grid_gap": null,
            "grid_row": null,
            "grid_template_areas": null,
            "grid_template_columns": null,
            "grid_template_rows": null,
            "height": null,
            "justify_content": null,
            "justify_items": null,
            "left": null,
            "margin": null,
            "max_height": null,
            "max_width": null,
            "min_height": null,
            "min_width": null,
            "object_fit": null,
            "object_position": null,
            "order": null,
            "overflow": null,
            "overflow_x": null,
            "overflow_y": null,
            "padding": null,
            "right": null,
            "top": null,
            "visibility": null,
            "width": null
          }
        },
        "e5cf87236b8f4f07a606260f87c862e4": {
          "model_module": "@jupyter-widgets/controls",
          "model_name": "ProgressStyleModel",
          "model_module_version": "1.5.0",
          "state": {
            "_model_module": "@jupyter-widgets/controls",
            "_model_module_version": "1.5.0",
            "_model_name": "ProgressStyleModel",
            "_view_count": null,
            "_view_module": "@jupyter-widgets/base",
            "_view_module_version": "1.2.0",
            "_view_name": "StyleView",
            "bar_color": null,
            "description_width": ""
          }
        },
        "0474bdd2d06d44ac9772d5b6d49740fd": {
          "model_module": "@jupyter-widgets/base",
          "model_name": "LayoutModel",
          "model_module_version": "1.2.0",
          "state": {
            "_model_module": "@jupyter-widgets/base",
            "_model_module_version": "1.2.0",
            "_model_name": "LayoutModel",
            "_view_count": null,
            "_view_module": "@jupyter-widgets/base",
            "_view_module_version": "1.2.0",
            "_view_name": "LayoutView",
            "align_content": null,
            "align_items": null,
            "align_self": null,
            "border": null,
            "bottom": null,
            "display": null,
            "flex": null,
            "flex_flow": null,
            "grid_area": null,
            "grid_auto_columns": null,
            "grid_auto_flow": null,
            "grid_auto_rows": null,
            "grid_column": null,
            "grid_gap": null,
            "grid_row": null,
            "grid_template_areas": null,
            "grid_template_columns": null,
            "grid_template_rows": null,
            "height": null,
            "justify_content": null,
            "justify_items": null,
            "left": null,
            "margin": null,
            "max_height": null,
            "max_width": null,
            "min_height": null,
            "min_width": null,
            "object_fit": null,
            "object_position": null,
            "order": null,
            "overflow": null,
            "overflow_x": null,
            "overflow_y": null,
            "padding": null,
            "right": null,
            "top": null,
            "visibility": null,
            "width": null
          }
        },
        "a3cbcfb01ce4431cafe12bc15bd24b9b": {
          "model_module": "@jupyter-widgets/controls",
          "model_name": "DescriptionStyleModel",
          "model_module_version": "1.5.0",
          "state": {
            "_model_module": "@jupyter-widgets/controls",
            "_model_module_version": "1.5.0",
            "_model_name": "DescriptionStyleModel",
            "_view_count": null,
            "_view_module": "@jupyter-widgets/base",
            "_view_module_version": "1.2.0",
            "_view_name": "StyleView",
            "description_width": ""
          }
        }
      }
    }
  },
  "cells": [
    {
      "cell_type": "markdown",
      "source": [
        "# 24 Spring CISC 488/688  Assignment 3 - Investigating Part-of-Speech Tagging and Named Entity Recognition with CRF and BERT Models\n",
        "\n",
        "## Objective\n",
        "In this assignment, you will delve into the practical aspects of training (and fine-tuning), evaluating, and analyzing the performance of statistical and deep learning models, specifically Conditional Random Fields (CRF) and BERT, for Named Entity Recognition (NER) and Part-of-Speech (POS) tagging tasks. The focus will be on observing the performance distinctions and understanding the trade-offs in computational resources and time between the CRF and BERT models. For the NER task, the CoNLL-2003 English dataset will be used, renowned for its rich annotation of entities in text, providing a comprehensive platform for NER tasks. Meanwhile, for the POS tagging task, the assignment employs the Penn Treebank dataset, known for its detailed POS tagging, making it a standard benchmark in linguistic annotation studies.\n",
        "\n",
        "Throughout the notebook, look for tasks labeled with a 📚 symbol. Ensure you read the entire notebook to complete all tasks and avoid losing points. The printed results from these tasks will help you to answer the questions at the end of this notebook."
      ],
      "metadata": {
        "id": "MjhkCmgHlWgy"
      }
    },
    {
      "cell_type": "markdown",
      "source": [
        "### Chapter 1: CRF POS tagging using Penn Treebank\n",
        "\n"
      ],
      "metadata": {
        "id": "i12-Ko33nW-n"
      }
    },
    {
      "cell_type": "markdown",
      "source": [
        "\n",
        "Start by installing `sklearn-crfsuite` for implementing Conditional Random Fields (CRFs), which is essential for the sequence labeling tasks of NER and POS tagging."
      ],
      "metadata": {
        "id": "LUBkeF4In5r3"
      }
    },
    {
      "cell_type": "code",
      "source": [
        "! pip install sklearn-crfsuite"
      ],
      "metadata": {
        "id": "1Qyrs46jn48K",
        "colab": {
          "base_uri": "https://localhost:8080/"
        },
        "outputId": "0ce0c38a-5880-4472-f707-2af5c707487b"
      },
      "execution_count": null,
      "outputs": [
        {
          "output_type": "stream",
          "name": "stdout",
          "text": [
            "Collecting sklearn-crfsuite\n",
            "  Downloading sklearn_crfsuite-0.3.6-py2.py3-none-any.whl (12 kB)\n",
            "Collecting python-crfsuite>=0.8.3 (from sklearn-crfsuite)\n",
            "  Downloading python_crfsuite-0.9.10-cp310-cp310-manylinux_2_17_x86_64.manylinux2014_x86_64.whl (1.1 MB)\n",
            "\u001b[2K     \u001b[90m━━━━━━━━━━━━━━━━━━━━━━━━━━━━━━━━━━━━━━━━\u001b[0m \u001b[32m1.1/1.1 MB\u001b[0m \u001b[31m6.3 MB/s\u001b[0m eta \u001b[36m0:00:00\u001b[0m\n",
            "\u001b[?25hRequirement already satisfied: six in /usr/local/lib/python3.10/dist-packages (from sklearn-crfsuite) (1.16.0)\n",
            "Requirement already satisfied: tabulate in /usr/local/lib/python3.10/dist-packages (from sklearn-crfsuite) (0.9.0)\n",
            "Requirement already satisfied: tqdm>=2.0 in /usr/local/lib/python3.10/dist-packages (from sklearn-crfsuite) (4.66.2)\n",
            "Installing collected packages: python-crfsuite, sklearn-crfsuite\n",
            "Successfully installed python-crfsuite-0.9.10 sklearn-crfsuite-0.3.6\n"
          ]
        }
      ]
    },
    {
      "cell_type": "markdown",
      "source": [
        "Due to Colab's environment constraints, execute the following cell to restart your environment after running the above code, enabling the use of the installed `sklearn-crfsuite`. Failing to do so may result in errors when running subsequent cells. Refer to this [this SO thread](https://stackoverflow.com/questions/76448287/how-can-i-solve-importerror-using-the-trainer-with-pytorch-requires-accele) for more information."
      ],
      "metadata": {
        "id": "9g-F15nKo9i9"
      }
    },
    {
      "cell_type": "code",
      "source": [
        "import os\n",
        "os._exit(00)"
      ],
      "metadata": {
        "id": "sHBGuBuUo5qS"
      },
      "execution_count": null,
      "outputs": []
    },
    {
      "cell_type": "markdown",
      "source": [
        "The follow code uses the Natural Language Toolkit (nltk) in Python to train a Conditional Random Field (CRF) model for Part-of-Speech (POS) tagging using the Penn Treebank dataset. We will be using the [nltk.tag.CRFTagger tool](https://www.nltk.org/_modules/nltk/tag/crf.html) for this task since it's specifically optimized for POS tagging. The code takes the first 3000 tagged sentences from the dataset as the training set and treat the rest of the tagged setences as the test set. The test set is used for evaluation and prints the accuracy.\n",
        "\n",
        "\n",
        "### 📚 Task 1\n",
        "Before executing the next cell, write code in appropriate places to measure and print the training and evaluation duration (in seconds) of this CRF model to the console output. Refer to [this guide](https://stackoverflow.com/questions/7370801/how-do-i-measure-elapsed-time-in-python) for assistance in tracking elapsed time."
      ],
      "metadata": {
        "id": "FEq9T6j-paZv"
      }
    },
    {
      "cell_type": "code",
      "source": [
        "import nltk\n",
        "from nltk.corpus import treebank\n",
        "from nltk.tag import CRFTagger\n",
        "import time\n",
        "\n",
        "\n",
        "nltk.download('treebank')\n",
        "nltk.download('universal_tagset')\n",
        "\n",
        "# Load the tagged sentences from Penn Treebank.\n",
        "tagged_sentences = treebank.tagged_sents(tagset='universal')\n",
        "\n",
        "training_sentences = tagged_sentences[:3000]\n",
        "test_sentences = tagged_sentences[3000:]\n",
        "\n",
        "crf_tagger = CRFTagger()\n",
        "start = time.time()\n",
        "crf_tagger.train(training_sentences, 'model.crf.tagger')\n",
        "\n",
        "\n",
        "accuracy = crf_tagger.evaluate(test_sentences)\n",
        "end = time.time()\n",
        "print(\"Train/Evaluation time: \")\n",
        "print(end - start)\n",
        "print(f\"Accuracy: {accuracy}\")\n"
      ],
      "metadata": {
        "id": "AY_lc8D_ndcK",
        "colab": {
          "base_uri": "https://localhost:8080/"
        },
        "outputId": "83eedcfd-d6e3-4b4c-9e12-fc93d2981072"
      },
      "execution_count": null,
      "outputs": [
        {
          "output_type": "stream",
          "name": "stderr",
          "text": [
            "[nltk_data] Downloading package treebank to /root/nltk_data...\n",
            "[nltk_data]   Package treebank is already up-to-date!\n",
            "[nltk_data] Downloading package universal_tagset to /root/nltk_data...\n",
            "[nltk_data]   Package universal_tagset is already up-to-date!\n",
            "<ipython-input-6-202a908a5ff1>:21: DeprecationWarning: \n",
            "  Function evaluate() has been deprecated.  Use accuracy(gold)\n",
            "  instead.\n",
            "  accuracy = crf_tagger.evaluate(test_sentences)\n"
          ]
        },
        {
          "output_type": "stream",
          "name": "stdout",
          "text": [
            "Train/Evaluation time: \n",
            "17.44983196258545\n",
            "Accuracy: 0.9517807036477445\n"
          ]
        }
      ]
    },
    {
      "cell_type": "markdown",
      "source": [
        "Execute the following cell to observe the first three example predictions compared to the actual POS tags."
      ],
      "metadata": {
        "id": "SSRBTrnksVy8"
      }
    },
    {
      "cell_type": "code",
      "source": [
        "# Print three example predictions with POS tags\n",
        "for i, sent in enumerate(test_sentences[:3]):\n",
        "    words = [word for word, tag in sent]\n",
        "    actual = [tag for word, tag in sent]\n",
        "\n",
        "    predicted = crf_tagger.tag(words)\n",
        "    predicted_tags = [tag for word, tag in predicted]\n",
        "\n",
        "    print(f\"Sentence {i+1}:\")\n",
        "    print(\"Words:      \", ' '.join(words))\n",
        "    print(\"Actual POS: \", ' '.join(actual))\n",
        "    print(\"Predicted:  \", ' '.join(predicted_tags))\n",
        "    print()\n"
      ],
      "metadata": {
        "id": "8R2uBDYXsQPH",
        "colab": {
          "base_uri": "https://localhost:8080/"
        },
        "outputId": "d92824de-b067-49be-f31e-742ea32b2a28"
      },
      "execution_count": null,
      "outputs": [
        {
          "output_type": "stream",
          "name": "stdout",
          "text": [
            "Sentence 1:\n",
            "Words:       At Tokyo , the Nikkei index of 225 selected issues , which *T*-1 gained 132 points Tuesday , added 14.99 points to 35564.43 .\n",
            "Actual POS:  ADP NOUN . DET NOUN NOUN ADP NUM VERB NOUN . DET X VERB NUM NOUN NOUN . VERB NUM NOUN PRT NUM .\n",
            "Predicted:   ADP NOUN . DET NOUN NOUN ADP NUM ADJ NOUN . DET X VERB NUM NOUN NOUN . VERB NUM NOUN PRT NUM .\n",
            "\n",
            "Sentence 2:\n",
            "Words:       In early trading in Tokyo Thursday , the Nikkei index fell 63.79 points to 35500.64 .\n",
            "Actual POS:  ADP ADV NOUN ADP NOUN NOUN . DET NOUN NOUN VERB NUM NOUN PRT NUM .\n",
            "Predicted:   ADP ADJ NOUN ADP NOUN NOUN . DET NOUN NOUN VERB NUM NOUN PRT NUM .\n",
            "\n",
            "Sentence 3:\n",
            "Words:       Wednesday 's volume on the First Section was estimated *-1 at 900 million shares , in line with Tuesday 's 909 million .\n",
            "Actual POS:  NOUN PRT NOUN ADP DET NOUN NOUN VERB VERB X ADP NUM NUM NOUN . ADP NOUN ADP NOUN PRT NUM NUM .\n",
            "Predicted:   NOUN PRT NOUN ADP DET NOUN NOUN VERB VERB X ADP NUM NUM NOUN . ADP NOUN ADP NOUN PRT NUM NUM .\n",
            "\n"
          ]
        }
      ]
    },
    {
      "cell_type": "markdown",
      "source": [
        "\n",
        "Run the next code block to display the confusion matrix and a bar chart showing the accuracy for each POS tag. This will give you an idea of the model's performance across different tags.\n",
        "\n",
        "\n",
        "In the confusion matrix output, the rows represent the actual POS tags, while the columns show the predicted POS tags. This layout indicates that each matrix cell reflects the count of times a specific tag (row) was identified as another tag (column) during predictions. For example, the cell where the 'ADJ' row and 'NOUN' column intersect contains the number 160, indicating that the 'ADJ' tag was mistakenly predicted as 'NOUN' 160 times. Similarly, the 'NUM' row and 'X' column intersection with a count of 28 shows that 'NUM' was incorrectly predicted as 'X' 28 times."
      ],
      "metadata": {
        "id": "oCY7bIi6r04W"
      }
    },
    {
      "cell_type": "code",
      "source": [
        "actual_tags = []\n",
        "predicted_tags = []\n",
        "\n",
        "for sent in test_sentences:\n",
        "    sent_tags = [tag for (word, tag) in sent]\n",
        "    actual_tags.extend(sent_tags)\n",
        "\n",
        "    predicted = crf_tagger.tag([word for (word, tag) in sent])\n",
        "    predicted_tags.extend([tag for (word, tag) in predicted])\n",
        "\n",
        "\n",
        "from sklearn.metrics import confusion_matrix\n",
        "import pandas as pd\n",
        "\n",
        "labels = sorted(set(actual_tags + predicted_tags))\n",
        "conf_matrix = confusion_matrix(actual_tags, predicted_tags, labels=labels)\n",
        "conf_df = pd.DataFrame(conf_matrix, index=labels, columns=labels)\n",
        "\n",
        "print(\"Confusion Matrix:\")\n",
        "print(conf_df)\n",
        "\n",
        "import matplotlib.pyplot as plt\n",
        "\n",
        "# Calculate the accuracy for each category\n",
        "accuracies = conf_df.values.diagonal() / conf_df.sum(axis=1)\n",
        "\n",
        "# Convert to Series for plotting\n",
        "accuracies_series = pd.Series(accuracies, index=labels)\n",
        "\n",
        "# Plot the accuracies\n",
        "accuracies_series.plot(kind='bar')\n",
        "plt.title('Accuracy for Each POS Category')\n",
        "plt.xlabel('POS Category')\n",
        "plt.ylabel('Accuracy')\n",
        "plt.show()\n"
      ],
      "metadata": {
        "id": "45nJYbzfnhAh",
        "colab": {
          "base_uri": "https://localhost:8080/",
          "height": 742
        },
        "outputId": "f37bdd17-73b1-4243-b81f-d5c0e3e87335"
      },
      "execution_count": null,
      "outputs": [
        {
          "output_type": "stream",
          "name": "stdout",
          "text": [
            "Confusion Matrix:\n",
            "         .   ADJ   ADP  ADV  CONJ   DET  NOUN   NUM  PRON  PRT  VERB     X\n",
            ".     2587     0     0    0     0     0     0     0     0    0     0     0\n",
            "ADJ      0  1131     2   29     0     5   160    10     0    0    82     0\n",
            "ADP      0     4  2210   17     0    33     9     0     0   15    10     0\n",
            "ADV      0    25    36  494     0     4    26     0     0    8     6     0\n",
            "CONJ     0     0     0    0   502     0     1     0     0    0     0     0\n",
            "DET      0     3     2    1     0  1956     5     0     0    0     1     0\n",
            "NOUN     0   140    13   14     0     8  6506     5     1    0   158     4\n",
            "NUM      0     1     1    0     0     0     8  1168     0    0     2    28\n",
            "PRON     0     0     0    0     0     0     3     0   404    0     1     0\n",
            "PRT      0     1     6    2     0     0     1     0     0  771     0     0\n",
            "VERB     0    72     0    1     0     0   148     0     0    3  2818     0\n",
            "X        0     0     0    0     0     0     0     2     0    0     0  1501\n"
          ]
        },
        {
          "output_type": "display_data",
          "data": {
            "text/plain": [
              "<Figure size 640x480 with 1 Axes>"
            ],
            "image/png": "[encoded data removed]"
          },
          "metadata": {}
        }
      ]
    },
    {
      "cell_type": "markdown",
      "source": [
        "### Chapter 2: CRF NER using CoNLL-2003\n",
        "\n",
        "The shared task of CoNLL-2003 concerns language-independent named entity recognition. We will concentrate on four types of named entities: persons, locations, organizations and names of miscellaneous entities that do not belong to the previous three groups. For more information on the CoNLL-2003 dataset, including access to the raw data files for training, validation, and testing, please visit the [dedicated page on the Hugging Face website](https://huggingface.co/datasets/conll2003).\n",
        "\n"
      ],
      "metadata": {
        "id": "WwI7vfAWnc5P"
      }
    },
    {
      "cell_type": "markdown",
      "source": [
        "\n",
        "To begin, install the datasets library from Hugging Face to access the conll2003 dataset. Additionally, ensure that sklearn-crfsuite is installed for this chapter's exercises, particularly if you do this chapter on a different day than chapter 1."
      ],
      "metadata": {
        "id": "g3p0VyJwxst5"
      }
    },
    {
      "cell_type": "code",
      "execution_count": null,
      "metadata": {
        "id": "aQuePQsBIhnH",
        "colab": {
          "base_uri": "https://localhost:8080/"
        },
        "outputId": "4b8ed6ef-0ac1-4c4c-d871-5aa4051179d5"
      },
      "outputs": [
        {
          "output_type": "stream",
          "name": "stdout",
          "text": [
            "Collecting datasets\n",
            "  Downloading datasets-2.18.0-py3-none-any.whl (510 kB)\n",
            "\u001b[2K     \u001b[90m━━━━━━━━━━━━━━━━━━━━━━━━━━━━━━━━━━━━━━━━\u001b[0m \u001b[32m510.5/510.5 kB\u001b[0m \u001b[31m6.0 MB/s\u001b[0m eta \u001b[36m0:00:00\u001b[0m\n",
            "\u001b[?25hRequirement already satisfied: filelock in /usr/local/lib/python3.10/dist-packages (from datasets) (3.13.3)\n",
            "Requirement already satisfied: numpy>=1.17 in /usr/local/lib/python3.10/dist-packages (from datasets) (1.25.2)\n",
            "Requirement already satisfied: pyarrow>=12.0.0 in /usr/local/lib/python3.10/dist-packages (from datasets) (14.0.2)\n",
            "Requirement already satisfied: pyarrow-hotfix in /usr/local/lib/python3.10/dist-packages (from datasets) (0.6)\n",
            "Collecting dill<0.3.9,>=0.3.0 (from datasets)\n",
            "  Downloading dill-0.3.8-py3-none-any.whl (116 kB)\n",
            "\u001b[2K     \u001b[90m━━━━━━━━━━━━━━━━━━━━━━━━━━━━━━━━━━━━━━━━\u001b[0m \u001b[32m116.3/116.3 kB\u001b[0m \u001b[31m10.5 MB/s\u001b[0m eta \u001b[36m0:00:00\u001b[0m\n",
            "\u001b[?25hRequirement already satisfied: pandas in /usr/local/lib/python3.10/dist-packages (from datasets) (2.0.3)\n",
            "Requirement already satisfied: requests>=2.19.0 in /usr/local/lib/python3.10/dist-packages (from datasets) (2.31.0)\n",
            "Requirement already satisfied: tqdm>=4.62.1 in /usr/local/lib/python3.10/dist-packages (from datasets) (4.66.2)\n",
            "Collecting xxhash (from datasets)\n",
            "  Downloading xxhash-3.4.1-cp310-cp310-manylinux_2_17_x86_64.manylinux2014_x86_64.whl (194 kB)\n",
            "\u001b[2K     \u001b[90m━━━━━━━━━━━━━━━━━━━━━━━━━━━━━━━━━━━━━━━━\u001b[0m \u001b[32m194.1/194.1 kB\u001b[0m \u001b[31m7.9 MB/s\u001b[0m eta \u001b[36m0:00:00\u001b[0m\n",
            "\u001b[?25hCollecting multiprocess (from datasets)\n",
            "  Downloading multiprocess-0.70.16-py310-none-any.whl (134 kB)\n",
            "\u001b[2K     \u001b[90m━━━━━━━━━━━━━━━━━━━━━━━━━━━━━━━━━━━━━━━━\u001b[0m \u001b[32m134.8/134.8 kB\u001b[0m \u001b[31m10.5 MB/s\u001b[0m eta \u001b[36m0:00:00\u001b[0m\n",
            "\u001b[?25hRequirement already satisfied: fsspec[http]<=2024.2.0,>=2023.1.0 in /usr/local/lib/python3.10/dist-packages (from datasets) (2023.6.0)\n",
            "Requirement already satisfied: aiohttp in /usr/local/lib/python3.10/dist-packages (from datasets) (3.9.3)\n",
            "Requirement already satisfied: huggingface-hub>=0.19.4 in /usr/local/lib/python3.10/dist-packages (from datasets) (0.20.3)\n",
            "Requirement already satisfied: packaging in /usr/local/lib/python3.10/dist-packages (from datasets) (24.0)\n",
            "Requirement already satisfied: pyyaml>=5.1 in /usr/local/lib/python3.10/dist-packages (from datasets) (6.0.1)\n",
            "Requirement already satisfied: aiosignal>=1.1.2 in /usr/local/lib/python3.10/dist-packages (from aiohttp->datasets) (1.3.1)\n",
            "Requirement already satisfied: attrs>=17.3.0 in /usr/local/lib/python3.10/dist-packages (from aiohttp->datasets) (23.2.0)\n",
            "Requirement already satisfied: frozenlist>=1.1.1 in /usr/local/lib/python3.10/dist-packages (from aiohttp->datasets) (1.4.1)\n",
            "Requirement already satisfied: multidict<7.0,>=4.5 in /usr/local/lib/python3.10/dist-packages (from aiohttp->datasets) (6.0.5)\n",
            "Requirement already satisfied: yarl<2.0,>=1.0 in /usr/local/lib/python3.10/dist-packages (from aiohttp->datasets) (1.9.4)\n",
            "Requirement already satisfied: async-timeout<5.0,>=4.0 in /usr/local/lib/python3.10/dist-packages (from aiohttp->datasets) (4.0.3)\n",
            "Requirement already satisfied: typing-extensions>=3.7.4.3 in /usr/local/lib/python3.10/dist-packages (from huggingface-hub>=0.19.4->datasets) (4.10.0)\n",
            "Requirement already satisfied: charset-normalizer<4,>=2 in /usr/local/lib/python3.10/dist-packages (from requests>=2.19.0->datasets) (3.3.2)\n",
            "Requirement already satisfied: idna<4,>=2.5 in /usr/local/lib/python3.10/dist-packages (from requests>=2.19.0->datasets) (3.6)\n",
            "Requirement already satisfied: urllib3<3,>=1.21.1 in /usr/local/lib/python3.10/dist-packages (from requests>=2.19.0->datasets) (2.0.7)\n",
            "Requirement already satisfied: certifi>=2017.4.17 in /usr/local/lib/python3.10/dist-packages (from requests>=2.19.0->datasets) (2024.2.2)\n",
            "Requirement already satisfied: python-dateutil>=2.8.2 in /usr/local/lib/python3.10/dist-packages (from pandas->datasets) (2.8.2)\n",
            "Requirement already satisfied: pytz>=2020.1 in /usr/local/lib/python3.10/dist-packages (from pandas->datasets) (2023.4)\n",
            "Requirement already satisfied: tzdata>=2022.1 in /usr/local/lib/python3.10/dist-packages (from pandas->datasets) (2024.1)\n",
            "Requirement already satisfied: six>=1.5 in /usr/local/lib/python3.10/dist-packages (from python-dateutil>=2.8.2->pandas->datasets) (1.16.0)\n",
            "Installing collected packages: xxhash, dill, multiprocess, datasets\n",
            "Successfully installed datasets-2.18.0 dill-0.3.8 multiprocess-0.70.16 xxhash-3.4.1\n",
            "Requirement already satisfied: sklearn-crfsuite in /usr/local/lib/python3.10/dist-packages (0.3.6)\n",
            "Requirement already satisfied: python-crfsuite>=0.8.3 in /usr/local/lib/python3.10/dist-packages (from sklearn-crfsuite) (0.9.10)\n",
            "Requirement already satisfied: six in /usr/local/lib/python3.10/dist-packages (from sklearn-crfsuite) (1.16.0)\n",
            "Requirement already satisfied: tabulate in /usr/local/lib/python3.10/dist-packages (from sklearn-crfsuite) (0.9.0)\n",
            "Requirement already satisfied: tqdm>=2.0 in /usr/local/lib/python3.10/dist-packages (from sklearn-crfsuite) (4.66.2)\n"
          ]
        }
      ],
      "source": [
        "! pip install datasets\n",
        "! pip install sklearn-crfsuite"
      ]
    },
    {
      "cell_type": "markdown",
      "source": [
        "Load conll2003 dataset using HuggingFace `datasets` library and see what NER tags are available\n"
      ],
      "metadata": {
        "id": "C55dLmFtyrtb"
      }
    },
    {
      "cell_type": "code",
      "source": [
        "from datasets import load_dataset\n",
        "conll2003_dataset = load_dataset(\"conll2003\")\n",
        "\n",
        "ner_tags_feature = conll2003_dataset[\"train\"].features[\"ner_tags\"].feature\n",
        "ner_tags_mapping = {id: ner_tags_feature.int2str(id) for id in range(ner_tags_feature.num_classes)}\n",
        "\n",
        "print(list(ner_tags_mapping.values()))"
      ],
      "metadata": {
        "id": "fNvn9FgkJD1K",
        "colab": {
          "base_uri": "https://localhost:8080/",
          "height": 350,
          "referenced_widgets": [
            "b57ca1fe50e9431e816d009de7e9f1b0",
            "6c249e62dedc4c319b00b1d65d6fa26d",
            "2308013f44b2450f888fb6c8d4b63f3b",
            "bca61903454c4f6992f61fa8d5435f54",
            "7a93f9d7d8b94f2bb58a8013f0769321",
            "cca43bcb6ebd4b9a92c4e6f3cdbda5d8",
            "e1ea585315e34bd195e99fc787c9622b",
            "47ca9b558e2b49d9b3e0923076479204",
            "e6f7ecc819e14f8e93bb50a4143dc7b4",
            "b74999a3c8b043e79570dcd80b9da58c",
            "7205588fdb9b440f8898ddef85c7b3b8",
            "f77c510fbd9741d2838b4ba9c504e3a8",
            "c89ed68a5a874afcb57b11b35fe91f65",
            "3db7331ab234455696853d097732bbae",
            "93ca74c2c4d94a2f9fa4f77553b70320",
            "ae5e84d8fe9b430a98bb4e9fcc454a20",
            "f335b9fee54749c5b947ee72dc20c37e",
            "318d155241454a4fb6397252c83bd5da",
            "6fde8e7086ca46d9ab849f75de5d63cb",
            "af02ee656bf94662b81bcd48db1936a0",
            "1ec704f20e5e4652b251cc9af05c7edd",
            "316a1ba66ac84a36b8a5435a52417fb6",
            "b001f23f3ca24fb988bd498c303e5b9d",
            "7814ff216c6b4ceeb0270e1deca0bf79",
            "564b3acc378a4a3abd69a63ea374537a",
            "4a26bdee99aa4d2e8b750e9fb5628851",
            "413db7bdf9cf42bc990c5124f3fc928f",
            "72cecdb4df854e29a2444056eb6ca820",
            "2f0fb4ddf9a64ec0959a5dc80b472486",
            "1751869907224e5899c5763fe95752e5",
            "2bf149b3b2b34c8b96986515beb1eb65",
            "8e71ac7a5502462e9bb820808d1e2c73",
            "1eac8c978ebb4d0ea15acfe2074ab3fe",
            "62112b2faa034c58b158101c56d8d024",
            "9c5da83e55d84366a246a7d668562848",
            "19c31e7dd4d24b6ba9208fa0d3e69028",
            "38f2a3d4a58b4c2bba315a8d25db0c10",
            "f703ac0e38714110ba4c4b7003d1a2ab",
            "219bfae1e3a74f299085e7ff447d4774",
            "20398fba845f44de9732e395e2e7d912",
            "348e70780cc2417280c12fe9531db835",
            "429ba3418cec415198dd77da1fbeb36b",
            "23b89ad8f125430a90d1ca539a388e8a",
            "fd144121384f477eaf0e8c6ddac4103c",
            "eebfe9e4a14a442a8aa370dd8a7590a7",
            "130db685ee2b44b09040c6277bd17189",
            "a4dcc7eb8de548938f0e966327001cb3",
            "353c1c05edd844ac9299dd683aa345f9",
            "428f4523bef74a89bdd842173f22897e",
            "b443d9b56978414cbc0433ce5a4b5cd5",
            "2de689f16f294b8594385a7c58a3c2bb",
            "6474b78441bf43d19478d8167aa55fae",
            "dfb35dff3b7a43d7895903673cd811c5",
            "9de9681584da4df094326cc958337709",
            "02fb16d1da85488b98fa076ea1ec7d40",
            "910528d8381944c0b356706381e67209",
            "4031609659dd43baab47a506b5ac306b",
            "064601354023402a96fab7fe6efff485",
            "0641091530d5427fb1855c53e833c181",
            "ffde2eaec8084946a644f4ff77980de3",
            "9b98e82f8a324db0be34b3f40cf59b40",
            "d2921f5858984225846464edded19adc",
            "7bf6d5c8e3dd4e66a9fe4a2f48e13363",
            "b7c12f12d0e14a18960dcbac4d8be03e",
            "a28ef3d47f1149769424c6ceee78e8e8",
            "1959b735916d431b85ed8b841aa7a274"
          ]
        },
        "outputId": "00f7aa7f-9b2a-48d3-fe5e-9b3f412d14b3"
      },
      "execution_count": null,
      "outputs": [
        {
          "output_type": "stream",
          "name": "stderr",
          "text": [
            "/usr/local/lib/python3.10/dist-packages/huggingface_hub/utils/_token.py:88: UserWarning: \n",
            "The secret `HF_TOKEN` does not exist in your Colab secrets.\n",
            "To authenticate with the Hugging Face Hub, create a token in your settings tab (https://huggingface.co/settings/tokens), set it as secret in your Google Colab and restart your session.\n",
            "You will be able to reuse this secret in all of your notebooks.\n",
            "Please note that authentication is recommended but still optional to access public models or datasets.\n",
            "  warnings.warn(\n"
          ]
        },
        {
          "output_type": "display_data",
          "data": {
            "text/plain": [
              "Downloading data:   0%|          | 0.00/1.23M [00:00<?, ?B/s]"
            ],
            "application/vnd.jupyter.widget-view+json": {
              "version_major": 2,
              "version_minor": 0,
              "model_id": "b57ca1fe50e9431e816d009de7e9f1b0"
            }
          },
          "metadata": {}
        },
        {
          "output_type": "display_data",
          "data": {
            "text/plain": [
              "Downloading data:   0%|          | 0.00/312k [00:00<?, ?B/s]"
            ],
            "application/vnd.jupyter.widget-view+json": {
              "version_major": 2,
              "version_minor": 0,
              "model_id": "f77c510fbd9741d2838b4ba9c504e3a8"
            }
          },
          "metadata": {}
        },
        {
          "output_type": "display_data",
          "data": {
            "text/plain": [
              "Downloading data:   0%|          | 0.00/283k [00:00<?, ?B/s]"
            ],
            "application/vnd.jupyter.widget-view+json": {
              "version_major": 2,
              "version_minor": 0,
              "model_id": "b001f23f3ca24fb988bd498c303e5b9d"
            }
          },
          "metadata": {}
        },
        {
          "output_type": "display_data",
          "data": {
            "text/plain": [
              "Generating train split:   0%|          | 0/14041 [00:00<?, ? examples/s]"
            ],
            "application/vnd.jupyter.widget-view+json": {
              "version_major": 2,
              "version_minor": 0,
              "model_id": "62112b2faa034c58b158101c56d8d024"
            }
          },
          "metadata": {}
        },
        {
          "output_type": "display_data",
          "data": {
            "text/plain": [
              "Generating validation split:   0%|          | 0/3250 [00:00<?, ? examples/s]"
            ],
            "application/vnd.jupyter.widget-view+json": {
              "version_major": 2,
              "version_minor": 0,
              "model_id": "eebfe9e4a14a442a8aa370dd8a7590a7"
            }
          },
          "metadata": {}
        },
        {
          "output_type": "display_data",
          "data": {
            "text/plain": [
              "Generating test split:   0%|          | 0/3453 [00:00<?, ? examples/s]"
            ],
            "application/vnd.jupyter.widget-view+json": {
              "version_major": 2,
              "version_minor": 0,
              "model_id": "910528d8381944c0b356706381e67209"
            }
          },
          "metadata": {}
        },
        {
          "output_type": "stream",
          "name": "stdout",
          "text": [
            "['O', 'B-PER', 'I-PER', 'B-ORG', 'I-ORG', 'B-LOC', 'I-LOC', 'B-MISC', 'I-MISC']\n"
          ]
        }
      ]
    },
    {
      "cell_type": "markdown",
      "source": [
        "POS tags can serve as a valuable feature for training NER systems. To explore the POS tags available in the conll2003 (training) dataset, run the code block below."
      ],
      "metadata": {
        "id": "t_ga0byDza_j"
      }
    },
    {
      "cell_type": "code",
      "source": [
        "# Get the 'pos_tags' feature\n",
        "pos_feature = conll2003_dataset[\"train\"].features[\"pos_tags\"].feature\n",
        "\n",
        "# Create the mapping\n",
        "pos_tags_mapping = {pos_feature.int2str(id): id for id in range(pos_feature.num_classes)}\n",
        "# Inverting the pos_tags dictionary for lookup\n",
        "pos_tags_inv = {v: k for k, v in pos_tags_mapping.items()}\n",
        "\n",
        "print(list(pos_tags_inv.values()))"
      ],
      "metadata": {
        "id": "ID-ajJejJeUH",
        "colab": {
          "base_uri": "https://localhost:8080/"
        },
        "outputId": "69c0f68a-7644-4f34-94cb-b2be1dfbcf52"
      },
      "execution_count": null,
      "outputs": [
        {
          "output_type": "stream",
          "name": "stdout",
          "text": [
            "['\"', \"''\", '#', '$', '(', ')', ',', '.', ':', '``', 'CC', 'CD', 'DT', 'EX', 'FW', 'IN', 'JJ', 'JJR', 'JJS', 'LS', 'MD', 'NN', 'NNP', 'NNPS', 'NNS', 'NN|SYM', 'PDT', 'POS', 'PRP', 'PRP$', 'RB', 'RBR', 'RBS', 'RP', 'SYM', 'TO', 'UH', 'VB', 'VBD', 'VBG', 'VBN', 'VBP', 'VBZ', 'WDT', 'WP', 'WP$', 'WRB']\n"
          ]
        }
      ]
    },
    {
      "cell_type": "markdown",
      "source": [
        "The next code block saves train and test splits of the conll2003 dataset to local files in a specific format and then loads these files for processing. The write_to_conll function converts training and test sets into a text format suitable for the ConllCorpusReader from NLTK, which is then used to read the data, organizing words, POS tags, and chunk tags for our following tasks."
      ],
      "metadata": {
        "id": "Wn4VNG5m0FQA"
      }
    },
    {
      "cell_type": "code",
      "source": [
        "from nltk.corpus.reader import ConllCorpusReader\n",
        "from nltk import MaxentClassifier\n",
        "from nltk.tag import untag\n",
        "from nltk.chunk import conlltags2tree, tree2conlltags\n",
        "\n",
        "# Save the dataset to local files (You need to create a write_to_conll function for this)\n",
        "def write_to_conll(partition, filename):\n",
        "    with open(filename, 'w') as f:\n",
        "        for sentence in partition:\n",
        "            for word, tag, pos, chunk in zip(sentence['tokens'], sentence['ner_tags'], sentence['pos_tags'], sentence['chunk_tags']):\n",
        "                f.write(f\"{word} {pos} {chunk} {tag}\\n\")\n",
        "            f.write(\"\\n\")\n",
        "\n",
        "# Use the function to write the train and test sets\n",
        "write_to_conll(conll2003_dataset['train'], 'eng.train')\n",
        "write_to_conll(conll2003_dataset['test'], 'eng.test')\n",
        "\n",
        "# Load the saved CoNLL formatted data\n",
        "train = ConllCorpusReader('.', 'eng.train', ['words', 'pos', 'ignore', 'chunk'])\n",
        "test = ConllCorpusReader('.', 'eng.test', ['words', 'pos', 'ignore', 'chunk'])"
      ],
      "metadata": {
        "id": "WvNebLUCKZq-"
      },
      "execution_count": null,
      "outputs": []
    },
    {
      "cell_type": "markdown",
      "source": [
        "This code snippet fetches a gazetteer containing comprehensive country information such as ISO codes, names, capitals, areas, populations, continents, TLDs, currency codes and names, phone codes, postal code formats, and languages. This detailed gazetteer is incorporated as a feature in training the CRF model."
      ],
      "metadata": {
        "id": "ZJmKORh304LN"
      }
    },
    {
      "cell_type": "code",
      "source": [
        "import requests\n",
        "\n",
        "url = 'http://download.geonames.org/export/dump/countryInfo.txt'\n",
        "r = requests.get(url)\n",
        "\n",
        "# Save the gazetteer to a local file\n",
        "with open('gazetteer.txt', 'w') as f:\n",
        "    f.write(r.text)\n",
        "\n",
        "gazetteer_set = set()\n",
        "# Load the gazetteer into a set for quick lookup\n",
        "with open('gazetteer.txt', 'r', encoding='utf-8') as f:\n",
        "    for line in f:\n",
        "        if line.startswith('#'):\n",
        "            continue  # Skip comments\n",
        "        country_info = line.split('\\t')\n",
        "        if country_info:\n",
        "            country_name = country_info[4].lower()  # Assuming country names are in the fifth column\n",
        "            gazetteer_set.add(country_name)\n"
      ],
      "metadata": {
        "id": "BR3W108UJIae"
      },
      "execution_count": null,
      "outputs": []
    },
    {
      "cell_type": "markdown",
      "source": [
        "### 📚 Task 2\n",
        "As we learned from class, we know that gazetteers, word shape, context, and other word features like POS tags are crucial for NER. In the following code provided, you're tasked with enhancing the `word2features` function by defining additional features. The current setup includes POS tags, a gazetteer, basic word shape features, and contextual features. You are encouraged to expand this by adding at least two more word shape features. Hint: consider choosing from [Python's string methods whose names starting with `is`](https://www.w3schools.com/python/python_ref_string.asp). You are encouraged to experiment putting your features into contextual features (previous and next word features) to see if accuracy can be incrased, but it's optional.\n",
        "\n",
        "You will receive extra credit for each additional feature you define, up to a maximum of three. However, by defining the extra features, you must ensure that your model's accuracy does not fall below the 95% accuracy baseline, which can already be achieved using the default features provided in the function.\n",
        "\n",
        "Define your features after these comments\n",
        "        # define your feature #1\n",
        "        # define your feature #2\n",
        "        # extra creidt #1\n",
        "        # extra creidt #2\n",
        "        # extra creidt #3\n",
        "        # (optional) define your features"
      ],
      "metadata": {
        "id": "cBzyh1uo4IJc"
      }
    },
    {
      "cell_type": "code",
      "source": [
        "from sklearn_crfsuite.metrics import flat_accuracy_score\n",
        "from sklearn.metrics import classification_report\n",
        "from itertools import chain\n",
        "\n",
        "def word2features(sent, i, gazetteer):\n",
        "    word = sent[i][0]\n",
        "    postag = sent[i][1]\n",
        "\n",
        "    features = {\n",
        "        'bias': 1.0,\n",
        "        'word.lower()': word.lower(),\n",
        "        'word.isupper()': word.isupper(),\n",
        "        'word.istitle()': word.istitle(),\n",
        "        'word.isdigit()': word.isdigit(),\n",
        "        # define your feature #1\n",
        "        'word ends in ed' : word.endswith(\"ed\"),\n",
        "        # define your feature #2\n",
        "        'word starts with un' : word.startswith(\"un\"),\n",
        "        # extra creidt #1\n",
        "        'word is lower' : word.islower(),\n",
        "        # extra creidt #2\n",
        "        'word.isalpha' : word.isalpha(),\n",
        "        # extra creidt #3\n",
        "        'word.isidentifier()' : word.isidentifier(),\n",
        "        'postag': postag,\n",
        "        'word in gazetteer': word in gazetteer,  # Gazetteer feature\n",
        "    }\n",
        "\n",
        "    # Add contextual features (previous and next word features)\n",
        "    if i > 0:\n",
        "        prev_word = sent[i-1][0]\n",
        "        prev_postag = sent[i-1][1]\n",
        "        features.update({\n",
        "            '-1:word.lower()': prev_word.lower(),\n",
        "            '-1:word.istitle()': prev_word.istitle(),\n",
        "            '-1:word.isupper()': prev_word.isupper(),\n",
        "            # (optional) define your features\n",
        "            '-1:postag': prev_postag\n",
        "        })\n",
        "    if i < len(sent)-1:\n",
        "        next_word = sent[i+1][0]\n",
        "        next_postag = sent[i+1][1]\n",
        "        features.update({\n",
        "            '+1:word.lower()': next_word.lower(),\n",
        "            '+1:word.istitle()': next_word.istitle(),\n",
        "            '+1:word.isupper()': next_word.isupper(),\n",
        "            # (optional) define your features\n",
        "            '+1:postag': next_postag\n",
        "        })\n",
        "\n",
        "    return features\n",
        "\n",
        "def sent2features(sent, gazetteer):\n",
        "    return [word2features(sent, i, gazetteer) for i in range(len(sent))]\n",
        "\n",
        "def sent2labels(sent):\n",
        "    return [label for token, postag, label in sent]\n",
        "\n"
      ],
      "metadata": {
        "id": "rdZWOBo4JQJa"
      },
      "execution_count": null,
      "outputs": []
    },
    {
      "cell_type": "markdown",
      "source": [
        "The following code trains a CRF model for NER using the pre-processed conll2003 training dataset. After training, the model's performance is evaluated on the conll2003 test dataset and prints the overall accuracy. We employ [`sklearn_crfsuite.CRF`](https://sklearn-crfsuite.readthedocs.io/en/latest/api.html#sklearn_crfsuite.CRF) for this purpose.\n",
        "\n",
        "### 📚 Task 3\n",
        "Before executing this cell, write code in appropriate places to measure and print the training and evaluation duration (in seconds) of this CRF model to the console output, just like in Task 1."
      ],
      "metadata": {
        "id": "I4twTHRu19s_"
      }
    },
    {
      "cell_type": "code",
      "source": [
        "from sklearn_crfsuite import CRF\n",
        "start = time.time()\n",
        "train_sents = list(train.iob_sents())\n",
        "X_train = [sent2features(s, gazetteer_set) for s in train_sents]\n",
        "y_train = [sent2labels(s) for s in train_sents]\n",
        "\n",
        "test_sents = list(test.iob_sents())\n",
        "# Now, prepare the test features and labels\n",
        "X_test = [sent2features(s, gazetteer_set) for s in test_sents]\n",
        "y_test = [sent2labels(s) for s in test_sents]\n",
        "\n",
        "# Initialize and train the CRF model\n",
        "crf = CRF(\n",
        "    algorithm='lbfgs',\n",
        "    c1=0.1,\n",
        "    c2=0.1,\n",
        "    max_iterations=100,\n",
        "    all_possible_transitions=True\n",
        ")\n",
        "crf.fit(X_train, y_train)\n",
        "\n",
        "# Predict on the test set\n",
        "y_pred = crf.predict(X_test)\n",
        "\n",
        "# Flatten the lists\n",
        "y_test_flat = list(chain(*y_test))\n",
        "y_pred_flat = list(chain(*y_pred))\n",
        "\n",
        "# Now generate the classification report\n",
        "report = classification_report(y_test_flat, y_pred_flat)\n",
        "# print(report)\n",
        "\n",
        "# Calculate the flat accuracy score\n",
        "accuracy = flat_accuracy_score(y_test, y_pred)\n",
        "end = time.time()\n",
        "print(f\"Training/Eval Time: {end - start}\")\n",
        "print(f'Overall Accuracy: {accuracy}')"
      ],
      "metadata": {
        "id": "26KxDxIE19-C",
        "colab": {
          "base_uri": "https://localhost:8080/"
        },
        "outputId": "80f77990-9376-4608-94f9-ffb32778485a"
      },
      "execution_count": null,
      "outputs": [
        {
          "output_type": "stream",
          "name": "stdout",
          "text": [
            "Training/Eval Time: 40.31410837173462\n",
            "Overall Accuracy: 0.9569075051146765\n"
          ]
        }
      ]
    },
    {
      "cell_type": "markdown",
      "source": [
        "Run the cell below to see the first three example predictions. In the displayed output, the first entity of the initial example `(O SOCCER/NN)` shows the NER predicted tag `O` followed by its actual POS tag `/NN`, utilizing the POS tags directly from the dataset as features."
      ],
      "metadata": {
        "id": "lZaHD0OQXTy2"
      }
    },
    {
      "cell_type": "code",
      "source": [
        "# Function to format the output\n",
        "def format_output(sent, predicted_tags):\n",
        "    # Convert numeric predicted tags to their string labels\n",
        "    predicted_tag_labels = [ner_tags_mapping[int(tag)] for tag in predicted_tags]\n",
        "    return ['({} {}/{})'.format(tag, word, pos_tags_inv[int(pos)]) for (word, pos, _), tag in zip(sent, predicted_tag_labels)]\n",
        "\n",
        "# Select a subset of sentences to display\n",
        "for i, (sent, predicted_tags) in enumerate(zip(test_sents, y_pred)):\n",
        "    if i < 3:  # Change 3 to the number of sentences you want to display\n",
        "        formatted_output = format_output(sent, predicted_tags)\n",
        "        print(formatted_output)"
      ],
      "metadata": {
        "id": "x2j8pn7TXXXR",
        "colab": {
          "base_uri": "https://localhost:8080/"
        },
        "outputId": "04cd794e-0951-46e2-c4b3-9fc3e1560053"
      },
      "execution_count": null,
      "outputs": [
        {
          "output_type": "stream",
          "name": "stdout",
          "text": [
            "['(O SOCCER/NN)', '(O -/:)', '(B-LOC JAPAN/NNP)', '(O GET/VB)', '(O LUCKY/NNP)', '(O WIN/NNP)', '(O ,/,)', '(B-LOC CHINA/NNP)', '(O IN/IN)', '(O SURPRISE/DT)', '(O DEFEAT/NN)', '(O ./.)']\n",
            "['(B-PER Nadim/NNP)', '(I-PER Ladki/NNP)']\n",
            "['(O AL-AIN/NNP)', '(O ,/,)', '(B-ORG United/NNP)', '(I-ORG Arab/NNP)', '(I-ORG Emirates/NNPS)', '(O 1996-12-06/CD)']\n"
          ]
        }
      ]
    },
    {
      "cell_type": "markdown",
      "source": [
        "Run the next code block to display the confusion matrix and a bar chart showing the accuracy for each NER tag. This will give you an idea of the model's performance across different tags."
      ],
      "metadata": {
        "id": "klsQTqXFcfRs"
      }
    },
    {
      "cell_type": "code",
      "source": [
        "from sklearn_crfsuite import CRF\n",
        "from sklearn.metrics import classification_report, confusion_matrix\n",
        "import numpy as np\n",
        "import pandas as pd\n",
        "import matplotlib.pyplot as plt\n",
        "\n",
        "# Generate the confusion matrix\n",
        "labels = sorted(set(y_test_flat + y_pred_flat))  # Get all unique labels\n",
        "label_mappings = [ner_tags_mapping[l] for l in range(9)]\n",
        "conf_matrix = confusion_matrix(y_test_flat, y_pred_flat, labels=labels)\n",
        "conf_df = pd.DataFrame(conf_matrix, index=label_mappings, columns=label_mappings)\n",
        "print(conf_df)\n",
        "\n",
        "# Calculate the accuracy for each category\n",
        "accuracies = np.diag(conf_matrix) / np.sum(conf_matrix, axis=1)\n",
        "\n",
        "# Convert to Series for plotting\n",
        "accuracies_series = pd.Series(accuracies, index=label_mappings)\n",
        "\n",
        "# Plot the accuracies\n",
        "accuracies_series.plot(kind='bar')\n",
        "plt.title('Accuracy for Each NER Category')\n",
        "plt.xlabel('NER Category')\n",
        "plt.ylabel('Accuracy')\n",
        "plt.xticks(rotation=90)  # Rotate labels to avoid overlap\n",
        "plt.show()\n"
      ],
      "metadata": {
        "id": "9G5fjPRxJSrZ",
        "colab": {
          "base_uri": "https://localhost:8080/",
          "height": 681
        },
        "outputId": "a836a132-4af7-44eb-fc6d-f904fa22f49a"
      },
      "execution_count": null,
      "outputs": [
        {
          "output_type": "stream",
          "name": "stdout",
          "text": [
            "            O  B-PER  I-PER  B-ORG  I-ORG  B-LOC  I-LOC  B-MISC  I-MISC\n",
            "O       37916     60     36     90    106     28     14      38      35\n",
            "B-PER      74   1385     14     63     13     57      2       7       2\n",
            "I-PER       3      3   1099      0     47      0      0       0       4\n",
            "B-ORG     137    154      4   1213     18     99      1      34       1\n",
            "I-ORG      48      9     89     19    622      6     25       3      14\n",
            "B-LOC      52     47      3    172     12   1350      0      31       1\n",
            "I-LOC      12      0     15      0     57      4    168       0       1\n",
            "B-MISC     71     27      2     45      2     19      0     535       1\n",
            "I-MISC     22      3     19      0     16      2      3       5     146\n"
          ]
        },
        {
          "output_type": "display_data",
          "data": {
            "text/plain": [
              "<Figure size 640x480 with 1 Axes>"
            ],
            "image/png": "[encoded data removed]"
          },
          "metadata": {}
        }
      ]
    },
    {
      "cell_type": "markdown",
      "source": [
        "### Chapter 3: Fine-Tuning BERT for POS Tagging with Penn Treebank\n",
        "\n",
        "This chapter focuses on fine-tuning the BERT base model for POS tagging, including a comparative analysis of training (fine-tuning) time, inference time, and accuracy against the CRF model previously implemented with NLTK in Chapter 1.\n",
        "\n",
        "⚠️ Note: During the creation of this assignment, utilizing a GPU for this task frequently caused crashes, so retaining the CPU as the default hardware accelerator is advisable. Consequently, **the fine-tuning and inferencing duration we will later print do not leverage GPU acceleration, which is typically preferred in deep learning practices**. You may experiment with the GPU if desired, but avoids the use of TPU, as it necessitates different libraries, unless you're interested in exploring it on your own.\n",
        "\n",
        "To maintain consistency, the same data splits from the Penn Treebank dataset will be used for both training and testing. Additionally, the code and methods employed in this section were heavily inspired by [this notebook](https://github.com/Kyubyong/nlp_made_easy/blob/master/Pos-tagging%20with%20Bert%20Fine-tuning.ipynb)."
      ],
      "metadata": {
        "id": "-sQ7qRsMPO19"
      }
    },
    {
      "cell_type": "markdown",
      "source": [
        "Start by installing the `pytorch_pretrained_bert` library."
      ],
      "metadata": {
        "id": "-5yyBVsC1TpW"
      }
    },
    {
      "cell_type": "code",
      "source": [
        "! pip install pytorch_pretrained_bert"
      ],
      "metadata": {
        "id": "JxOajXAHPOdx",
        "colab": {
          "base_uri": "https://localhost:8080/"
        },
        "outputId": "37f783fe-abd9-4710-a4db-40a2aa54efcc"
      },
      "execution_count": null,
      "outputs": [
        {
          "output_type": "stream",
          "name": "stdout",
          "text": [
            "Collecting pytorch_pretrained_bert\n",
            "  Downloading pytorch_pretrained_bert-0.6.2-py3-none-any.whl (123 kB)\n",
            "\u001b[?25l     \u001b[90m━━━━━━━━━━━━━━━━━━━━━━━━━━━━━━━━━━━━━━━━\u001b[0m \u001b[32m0.0/123.8 kB\u001b[0m \u001b[31m?\u001b[0m eta \u001b[36m-:--:--\u001b[0m\r\u001b[2K     \u001b[91m━━━━━━━━━━━━━━━━━━━━━━━\u001b[0m\u001b[90m╺\u001b[0m\u001b[90m━━━━━━━━━━━━━━━━\u001b[0m \u001b[32m71.7/123.8 kB\u001b[0m \u001b[31m1.8 MB/s\u001b[0m eta \u001b[36m0:00:01\u001b[0m\r\u001b[2K     \u001b[90m━━━━━━━━━━━━━━━━━━━━━━━━━━━━━━━━━━━━━━━━\u001b[0m \u001b[32m123.8/123.8 kB\u001b[0m \u001b[31m2.4 MB/s\u001b[0m eta \u001b[36m0:00:00\u001b[0m\n",
            "\u001b[?25hRequirement already satisfied: torch>=0.4.1 in /usr/local/lib/python3.10/dist-packages (from pytorch_pretrained_bert) (2.2.1+cu121)\n",
            "Requirement already satisfied: numpy in /usr/local/lib/python3.10/dist-packages (from pytorch_pretrained_bert) (1.25.2)\n",
            "Collecting boto3 (from pytorch_pretrained_bert)\n",
            "  Downloading boto3-1.34.79-py3-none-any.whl (139 kB)\n",
            "\u001b[2K     \u001b[90m━━━━━━━━━━━━━━━━━━━━━━━━━━━━━━━━━━━━━━━━\u001b[0m \u001b[32m139.3/139.3 kB\u001b[0m \u001b[31m14.8 MB/s\u001b[0m eta \u001b[36m0:00:00\u001b[0m\n",
            "\u001b[?25hRequirement already satisfied: requests in /usr/local/lib/python3.10/dist-packages (from pytorch_pretrained_bert) (2.31.0)\n",
            "Requirement already satisfied: tqdm in /usr/local/lib/python3.10/dist-packages (from pytorch_pretrained_bert) (4.66.2)\n",
            "Requirement already satisfied: regex in /usr/local/lib/python3.10/dist-packages (from pytorch_pretrained_bert) (2023.12.25)\n",
            "Requirement already satisfied: filelock in /usr/local/lib/python3.10/dist-packages (from torch>=0.4.1->pytorch_pretrained_bert) (3.13.3)\n",
            "Requirement already satisfied: typing-extensions>=4.8.0 in /usr/local/lib/python3.10/dist-packages (from torch>=0.4.1->pytorch_pretrained_bert) (4.10.0)\n",
            "Requirement already satisfied: sympy in /usr/local/lib/python3.10/dist-packages (from torch>=0.4.1->pytorch_pretrained_bert) (1.12)\n",
            "Requirement already satisfied: networkx in /usr/local/lib/python3.10/dist-packages (from torch>=0.4.1->pytorch_pretrained_bert) (3.2.1)\n",
            "Requirement already satisfied: jinja2 in /usr/local/lib/python3.10/dist-packages (from torch>=0.4.1->pytorch_pretrained_bert) (3.1.3)\n",
            "Requirement already satisfied: fsspec in /usr/local/lib/python3.10/dist-packages (from torch>=0.4.1->pytorch_pretrained_bert) (2023.6.0)\n",
            "Collecting nvidia-cuda-nvrtc-cu12==12.1.105 (from torch>=0.4.1->pytorch_pretrained_bert)\n",
            "  Downloading nvidia_cuda_nvrtc_cu12-12.1.105-py3-none-manylinux1_x86_64.whl (23.7 MB)\n",
            "\u001b[2K     \u001b[90m━━━━━━━━━━━━━━━━━━━━━━━━━━━━━━━━━━━━━━━━\u001b[0m \u001b[32m23.7/23.7 MB\u001b[0m \u001b[31m41.2 MB/s\u001b[0m eta \u001b[36m0:00:00\u001b[0m\n",
            "\u001b[?25hCollecting nvidia-cuda-runtime-cu12==12.1.105 (from torch>=0.4.1->pytorch_pretrained_bert)\n",
            "  Downloading nvidia_cuda_runtime_cu12-12.1.105-py3-none-manylinux1_x86_64.whl (823 kB)\n",
            "\u001b[2K     \u001b[90m━━━━━━━━━━━━━━━━━━━━━━━━━━━━━━━━━━━━━━━━\u001b[0m \u001b[32m823.6/823.6 kB\u001b[0m \u001b[31m44.6 MB/s\u001b[0m eta \u001b[36m0:00:00\u001b[0m\n",
            "\u001b[?25hCollecting nvidia-cuda-cupti-cu12==12.1.105 (from torch>=0.4.1->pytorch_pretrained_bert)\n",
            "  Downloading nvidia_cuda_cupti_cu12-12.1.105-py3-none-manylinux1_x86_64.whl (14.1 MB)\n",
            "\u001b[2K     \u001b[90m━━━━━━━━━━━━━━━━━━━━━━━━━━━━━━━━━━━━━━━━\u001b[0m \u001b[32m14.1/14.1 MB\u001b[0m \u001b[31m59.5 MB/s\u001b[0m eta \u001b[36m0:00:00\u001b[0m\n",
            "\u001b[?25hCollecting nvidia-cudnn-cu12==8.9.2.26 (from torch>=0.4.1->pytorch_pretrained_bert)\n",
            "  Downloading nvidia_cudnn_cu12-8.9.2.26-py3-none-manylinux1_x86_64.whl (731.7 MB)\n",
            "\u001b[2K     \u001b[90m━━━━━━━━━━━━━━━━━━━━━━━━━━━━━━━━━━━━━━━━\u001b[0m \u001b[32m731.7/731.7 MB\u001b[0m \u001b[31m962.2 kB/s\u001b[0m eta \u001b[36m0:00:00\u001b[0m\n",
            "\u001b[?25hCollecting nvidia-cublas-cu12==12.1.3.1 (from torch>=0.4.1->pytorch_pretrained_bert)\n",
            "  Downloading nvidia_cublas_cu12-12.1.3.1-py3-none-manylinux1_x86_64.whl (410.6 MB)\n",
            "\u001b[2K     \u001b[90m━━━━━━━━━━━━━━━━━━━━━━━━━━━━━━━━━━━━━━━━\u001b[0m \u001b[32m410.6/410.6 MB\u001b[0m \u001b[31m3.6 MB/s\u001b[0m eta \u001b[36m0:00:00\u001b[0m\n",
            "\u001b[?25hCollecting nvidia-cufft-cu12==11.0.2.54 (from torch>=0.4.1->pytorch_pretrained_bert)\n",
            "  Downloading nvidia_cufft_cu12-11.0.2.54-py3-none-manylinux1_x86_64.whl (121.6 MB)\n",
            "\u001b[2K     \u001b[90m━━━━━━━━━━━━━━━━━━━━━━━━━━━━━━━━━━━━━━━━\u001b[0m \u001b[32m121.6/121.6 MB\u001b[0m \u001b[31m9.3 MB/s\u001b[0m eta \u001b[36m0:00:00\u001b[0m\n",
            "\u001b[?25hCollecting nvidia-curand-cu12==10.3.2.106 (from torch>=0.4.1->pytorch_pretrained_bert)\n",
            "  Downloading nvidia_curand_cu12-10.3.2.106-py3-none-manylinux1_x86_64.whl (56.5 MB)\n",
            "\u001b[2K     \u001b[90m━━━━━━━━━━━━━━━━━━━━━━━━━━━━━━━━━━━━━━━━\u001b[0m \u001b[32m56.5/56.5 MB\u001b[0m \u001b[31m9.8 MB/s\u001b[0m eta \u001b[36m0:00:00\u001b[0m\n",
            "\u001b[?25hCollecting nvidia-cusolver-cu12==11.4.5.107 (from torch>=0.4.1->pytorch_pretrained_bert)\n",
            "  Downloading nvidia_cusolver_cu12-11.4.5.107-py3-none-manylinux1_x86_64.whl (124.2 MB)\n",
            "\u001b[2K     \u001b[90m━━━━━━━━━━━━━━━━━━━━━━━━━━━━━━━━━━━━━━━━\u001b[0m \u001b[32m124.2/124.2 MB\u001b[0m \u001b[31m2.7 MB/s\u001b[0m eta \u001b[36m0:00:00\u001b[0m\n",
            "\u001b[?25hCollecting nvidia-cusparse-cu12==12.1.0.106 (from torch>=0.4.1->pytorch_pretrained_bert)\n",
            "  Downloading nvidia_cusparse_cu12-12.1.0.106-py3-none-manylinux1_x86_64.whl (196.0 MB)\n",
            "\u001b[2K     \u001b[90m━━━━━━━━━━━━━━━━━━━━━━━━━━━━━━━━━━━━━━━━\u001b[0m \u001b[32m196.0/196.0 MB\u001b[0m \u001b[31m2.8 MB/s\u001b[0m eta \u001b[36m0:00:00\u001b[0m\n",
            "\u001b[?25hCollecting nvidia-nccl-cu12==2.19.3 (from torch>=0.4.1->pytorch_pretrained_bert)\n",
            "  Downloading nvidia_nccl_cu12-2.19.3-py3-none-manylinux1_x86_64.whl (166.0 MB)\n",
            "\u001b[2K     \u001b[90m━━━━━━━━━━━━━━━━━━━━━━━━━━━━━━━━━━━━━━━━\u001b[0m \u001b[32m166.0/166.0 MB\u001b[0m \u001b[31m2.2 MB/s\u001b[0m eta \u001b[36m0:00:00\u001b[0m\n",
            "\u001b[?25hCollecting nvidia-nvtx-cu12==12.1.105 (from torch>=0.4.1->pytorch_pretrained_bert)\n",
            "  Downloading nvidia_nvtx_cu12-12.1.105-py3-none-manylinux1_x86_64.whl (99 kB)\n",
            "\u001b[2K     \u001b[90m━━━━━━━━━━━━━━━━━━━━━━━━━━━━━━━━━━━━━━━━\u001b[0m \u001b[32m99.1/99.1 kB\u001b[0m \u001b[31m10.4 MB/s\u001b[0m eta \u001b[36m0:00:00\u001b[0m\n",
            "\u001b[?25hRequirement already satisfied: triton==2.2.0 in /usr/local/lib/python3.10/dist-packages (from torch>=0.4.1->pytorch_pretrained_bert) (2.2.0)\n",
            "Collecting nvidia-nvjitlink-cu12 (from nvidia-cusolver-cu12==11.4.5.107->torch>=0.4.1->pytorch_pretrained_bert)\n",
            "  Downloading nvidia_nvjitlink_cu12-12.4.127-py3-none-manylinux2014_x86_64.whl (21.1 MB)\n",
            "\u001b[2K     \u001b[90m━━━━━━━━━━━━━━━━━━━━━━━━━━━━━━━━━━━━━━━━\u001b[0m \u001b[32m21.1/21.1 MB\u001b[0m \u001b[31m59.2 MB/s\u001b[0m eta \u001b[36m0:00:00\u001b[0m\n",
            "\u001b[?25hCollecting botocore<1.35.0,>=1.34.79 (from boto3->pytorch_pretrained_bert)\n",
            "  Downloading botocore-1.34.79-py3-none-any.whl (12.1 MB)\n",
            "\u001b[2K     \u001b[90m━━━━━━━━━━━━━━━━━━━━━━━━━━━━━━━━━━━━━━━━\u001b[0m \u001b[32m12.1/12.1 MB\u001b[0m \u001b[31m86.3 MB/s\u001b[0m eta \u001b[36m0:00:00\u001b[0m\n",
            "\u001b[?25hCollecting jmespath<2.0.0,>=0.7.1 (from boto3->pytorch_pretrained_bert)\n",
            "  Downloading jmespath-1.0.1-py3-none-any.whl (20 kB)\n",
            "Collecting s3transfer<0.11.0,>=0.10.0 (from boto3->pytorch_pretrained_bert)\n",
            "  Downloading s3transfer-0.10.1-py3-none-any.whl (82 kB)\n",
            "\u001b[2K     \u001b[90m━━━━━━━━━━━━━━━━━━━━━━━━━━━━━━━━━━━━━━━━\u001b[0m \u001b[32m82.2/82.2 kB\u001b[0m \u001b[31m10.1 MB/s\u001b[0m eta \u001b[36m0:00:00\u001b[0m\n",
            "\u001b[?25hRequirement already satisfied: charset-normalizer<4,>=2 in /usr/local/lib/python3.10/dist-packages (from requests->pytorch_pretrained_bert) (3.3.2)\n",
            "Requirement already satisfied: idna<4,>=2.5 in /usr/local/lib/python3.10/dist-packages (from requests->pytorch_pretrained_bert) (3.6)\n",
            "Requirement already satisfied: urllib3<3,>=1.21.1 in /usr/local/lib/python3.10/dist-packages (from requests->pytorch_pretrained_bert) (2.0.7)\n",
            "Requirement already satisfied: certifi>=2017.4.17 in /usr/local/lib/python3.10/dist-packages (from requests->pytorch_pretrained_bert) (2024.2.2)\n",
            "Requirement already satisfied: python-dateutil<3.0.0,>=2.1 in /usr/local/lib/python3.10/dist-packages (from botocore<1.35.0,>=1.34.79->boto3->pytorch_pretrained_bert) (2.8.2)\n",
            "Requirement already satisfied: MarkupSafe>=2.0 in /usr/local/lib/python3.10/dist-packages (from jinja2->torch>=0.4.1->pytorch_pretrained_bert) (2.1.5)\n",
            "Requirement already satisfied: mpmath>=0.19 in /usr/local/lib/python3.10/dist-packages (from sympy->torch>=0.4.1->pytorch_pretrained_bert) (1.3.0)\n",
            "Requirement already satisfied: six>=1.5 in /usr/local/lib/python3.10/dist-packages (from python-dateutil<3.0.0,>=2.1->botocore<1.35.0,>=1.34.79->boto3->pytorch_pretrained_bert) (1.16.0)\n",
            "Installing collected packages: nvidia-nvtx-cu12, nvidia-nvjitlink-cu12, nvidia-nccl-cu12, nvidia-curand-cu12, nvidia-cufft-cu12, nvidia-cuda-runtime-cu12, nvidia-cuda-nvrtc-cu12, nvidia-cuda-cupti-cu12, nvidia-cublas-cu12, jmespath, nvidia-cusparse-cu12, nvidia-cudnn-cu12, botocore, s3transfer, nvidia-cusolver-cu12, boto3, pytorch_pretrained_bert\n",
            "Successfully installed boto3-1.34.79 botocore-1.34.79 jmespath-1.0.1 nvidia-cublas-cu12-12.1.3.1 nvidia-cuda-cupti-cu12-12.1.105 nvidia-cuda-nvrtc-cu12-12.1.105 nvidia-cuda-runtime-cu12-12.1.105 nvidia-cudnn-cu12-8.9.2.26 nvidia-cufft-cu12-11.0.2.54 nvidia-curand-cu12-10.3.2.106 nvidia-cusolver-cu12-11.4.5.107 nvidia-cusparse-cu12-12.1.0.106 nvidia-nccl-cu12-2.19.3 nvidia-nvjitlink-cu12-12.4.127 nvidia-nvtx-cu12-12.1.105 pytorch_pretrained_bert-0.6.2 s3transfer-0.10.1\n"
          ]
        }
      ]
    },
    {
      "cell_type": "markdown",
      "source": [
        "\n",
        "To guarantee the use of an identical dataset, we will continue to use NLTK for downloading the Penn Treebank dataset. Ultimately, we will confirm that the tags present in the dataset match those displayed in the confusion matrix from Chapter 1."
      ],
      "metadata": {
        "id": "jJUKoPz81miS"
      }
    },
    {
      "cell_type": "code",
      "source": [
        "import os\n",
        "from tqdm import tqdm_notebook as tqdm\n",
        "import numpy as np\n",
        "import torch\n",
        "import torch.nn as nn\n",
        "from torch.utils import data\n",
        "import torch.optim as optim\n",
        "from pytorch_pretrained_bert import BertTokenizer\n",
        "import nltk\n",
        "from nltk.corpus import treebank\n",
        "\n",
        "\n",
        "nltk.download('treebank')\n",
        "\n",
        "nltk.download('universal_tagset')\n",
        "\n",
        "# Load the data\n",
        "tagged_sents = treebank.tagged_sents(tagset='universal')\n",
        "\n",
        "# Extract all unique tags from the corpus\n",
        "unique_tags = set(tag for sentence in tagged_sents for (_, tag) in sentence)\n",
        "\n",
        "# Create a mapping from tags to indices\n",
        "tag_to_index = {tag: index for index, tag in enumerate(sorted(unique_tags))}\n",
        "\n",
        "# Create a mapping from indices to tags\n",
        "index_to_tag = {index: tag for tag, index in tag_to_index.items()}\n",
        "\n",
        "tags = list(index_to_tag.values())\n",
        "print(tags)\n"
      ],
      "metadata": {
        "id": "yluxA8uij2c8",
        "colab": {
          "base_uri": "https://localhost:8080/"
        },
        "outputId": "1b14070b-a23c-491a-97d6-3639e6b30491"
      },
      "execution_count": null,
      "outputs": [
        {
          "output_type": "stream",
          "name": "stderr",
          "text": [
            "[nltk_data] Downloading package treebank to /root/nltk_data...\n",
            "[nltk_data]   Package treebank is already up-to-date!\n",
            "[nltk_data] Downloading package universal_tagset to /root/nltk_data...\n",
            "[nltk_data]   Package universal_tagset is already up-to-date!\n"
          ]
        },
        {
          "output_type": "stream",
          "name": "stdout",
          "text": [
            "['.', 'ADJ', 'ADP', 'ADV', 'CONJ', 'DET', 'NOUN', 'NUM', 'PRON', 'PRT', 'VERB', 'X']\n"
          ]
        }
      ]
    },
    {
      "cell_type": "markdown",
      "source": [
        "Different from the CRF model, the BERT model requires the input data to have special tokens like <CLS> at the start and <SEP> at the end of sentences for proper sequence demarcation and processing, as well as <pad> tokens to ensure all input sequences are of uniform length for batch processing. We run the following code to process our dataset to add those speical tokens."
      ],
      "metadata": {
        "id": "k0dTJAue2Pcx"
      }
    },
    {
      "cell_type": "code",
      "source": [
        "# By convention, the 0'th slot is reserved for padding.\n",
        "tags = [\"<pad>\"] + tags\n",
        "\n",
        "tag2idx = {tag:idx for idx, tag in enumerate(tags)}\n",
        "idx2tag = {idx:tag for idx, tag in enumerate(tags)}\n",
        "\n",
        "train_data = tagged_sents[:3000]\n",
        "test_data = tagged_sents[3000:]\n",
        "\n",
        "device = 'cuda' if torch.cuda.is_available() else 'cpu'\n",
        "\n",
        "tokenizer = BertTokenizer.from_pretrained('bert-base-cased', do_lower_case=False)\n",
        "\n",
        "class PosDataset(data.Dataset):\n",
        "    def __init__(self, tagged_sents):\n",
        "        sents, tags_li = [], [] # list of lists\n",
        "        for sent in tagged_sents:\n",
        "            words = [word_pos[0] for word_pos in sent]\n",
        "            tags = [word_pos[1] for word_pos in sent]\n",
        "            sents.append([\"[CLS]\"] + words + [\"[SEP]\"])\n",
        "            tags_li.append([\"<pad>\"] + tags + [\"<pad>\"])\n",
        "        self.sents, self.tags_li = sents, tags_li\n",
        "\n",
        "    def __len__(self):\n",
        "        return len(self.sents)\n",
        "\n",
        "    def __getitem__(self, idx):\n",
        "        words, tags = self.sents[idx], self.tags_li[idx] # words, tags: string list\n",
        "\n",
        "        # We give credits only to the first piece.\n",
        "        x, y = [], [] # list of ids\n",
        "        is_heads = [] # list. 1: the token is the first piece of a word\n",
        "        for w, t in zip(words, tags):\n",
        "            tokens = tokenizer.tokenize(w) if w not in (\"[CLS]\", \"[SEP]\") else [w]\n",
        "            xx = tokenizer.convert_tokens_to_ids(tokens)\n",
        "\n",
        "            is_head = [1] + [0]*(len(tokens) - 1)\n",
        "\n",
        "            t = [t] + [\"<pad>\"] * (len(tokens) - 1)  # <PAD>: no decision\n",
        "            yy = [tag2idx[each] for each in t]  # (T,)\n",
        "\n",
        "            x.extend(xx)\n",
        "            is_heads.extend(is_head)\n",
        "            y.extend(yy)\n",
        "\n",
        "        assert len(x)==len(y)==len(is_heads), \"len(x)={}, len(y)={}, len(is_heads)={}\".format(len(x), len(y), len(is_heads))\n",
        "\n",
        "        # seqlen\n",
        "        seqlen = len(y)\n",
        "\n",
        "        # to string\n",
        "        words = \" \".join(words)\n",
        "        tags = \" \".join(tags)\n",
        "        return words, x, is_heads, tags, y, seqlen\n",
        "\n",
        "def pad(batch):\n",
        "    '''Pads to the longest sample'''\n",
        "    f = lambda x: [sample[x] for sample in batch]\n",
        "    words = f(0)\n",
        "    is_heads = f(2)\n",
        "    tags = f(3)\n",
        "    seqlens = f(-1)\n",
        "    maxlen = np.array(seqlens).max()\n",
        "\n",
        "    f = lambda x, seqlen: [sample[x] + [0] * (seqlen - len(sample[x])) for sample in batch] # 0: <pad>\n",
        "    x = f(1, maxlen)\n",
        "    y = f(-2, maxlen)\n",
        "\n",
        "\n",
        "    f = torch.LongTensor\n",
        "\n",
        "    return words, f(x), is_heads, tags, f(y), seqlens"
      ],
      "metadata": {
        "id": "QidK4uFlj8NJ",
        "colab": {
          "base_uri": "https://localhost:8080/"
        },
        "outputId": "66ecdc0c-cd5c-4c2e-f92d-caf8753a24da"
      },
      "execution_count": null,
      "outputs": [
        {
          "output_type": "stream",
          "name": "stderr",
          "text": [
            "100%|██████████| 213450/213450 [00:00<00:00, 3619521.60B/s]\n"
          ]
        }
      ]
    },
    {
      "cell_type": "markdown",
      "source": [
        "\n",
        "The following code redefines the network architecture to be used with BERT, initializing it with `self.bert = BertModel.from_pretrained('bert-base-cased')` and a fully connected layer `self.fc = nn.Linear(768, vocab_size)` to process BERT’s output for tag prediction. It includes methods for initialization and forward pass, and functions train and eval for model training and evaluation, optimizing the model with training data and assessing performance on test data. At the end, we set up data loaders for training and evaluation datasets, define the optimizer and loss criterion, and create the model object."
      ],
      "metadata": {
        "id": "9WlAYJXs5HoS"
      }
    },
    {
      "cell_type": "code",
      "source": [
        "from pytorch_pretrained_bert import BertModel\n",
        "class Net(nn.Module):\n",
        "    def __init__(self, vocab_size=None):\n",
        "        super().__init__()\n",
        "        self.bert = BertModel.from_pretrained('bert-base-cased')\n",
        "\n",
        "        self.fc = nn.Linear(768, vocab_size)\n",
        "        self.device = device\n",
        "\n",
        "    def forward(self, x, y):\n",
        "        '''\n",
        "        x: (N, T). int64\n",
        "        y: (N, T). int64\n",
        "        '''\n",
        "        x = x.to(device)\n",
        "        y = y.to(device)\n",
        "\n",
        "        if self.training:\n",
        "            self.bert.train()\n",
        "            encoded_layers, _ = self.bert(x)\n",
        "            enc = encoded_layers[-1]\n",
        "        else:\n",
        "            self.bert.eval()\n",
        "            with torch.no_grad():\n",
        "                encoded_layers, _ = self.bert(x)\n",
        "                enc = encoded_layers[-1]\n",
        "\n",
        "        logits = self.fc(enc)\n",
        "        y_hat = logits.argmax(-1)\n",
        "        return logits, y, y_hat\n",
        "\n",
        "def train(model, iterator, optimizer, criterion, num_epochs):\n",
        "    for epoch in range(num_epochs):\n",
        "        model.train()\n",
        "        total_loss = 0\n",
        "        for i, batch in enumerate(iterator):\n",
        "            words, x, is_heads, tags, y, seqlens = batch\n",
        "            optimizer.zero_grad()\n",
        "            logits, y, _ = model(x, y)  # logits: (N, T, VOCAB), y: (N, T)\n",
        "\n",
        "            logits = logits.view(-1, logits.shape[-1])  # (N*T, VOCAB)\n",
        "            y = y.view(-1)  # (N*T,)\n",
        "\n",
        "            loss = criterion(logits, y)\n",
        "            loss.backward()\n",
        "            optimizer.step()\n",
        "\n",
        "            total_loss += loss.item()\n",
        "\n",
        "            if (i + 1) % 10 == 0:  # monitoring\n",
        "                print(f\"Epoch: {epoch + 1}, Step: {i + 1}, Loss: {loss.item()}\")\n",
        "\n",
        "        average_loss = total_loss / len(iterator)\n",
        "        print(f\"End of Epoch {epoch + 1}, Average Loss: {average_loss}\")\n",
        "\n",
        "\n",
        "def eval(model, iterator):\n",
        "    model.eval()\n",
        "\n",
        "    Words, Is_heads, Tags, Y, Y_hat = [], [], [], [], []\n",
        "    with torch.no_grad():\n",
        "        for i, batch in enumerate(iterator):\n",
        "            words, x, is_heads, tags, y, seqlens = batch\n",
        "\n",
        "            _, _, y_hat = model(x, y)  # y_hat: (N, T)\n",
        "\n",
        "            Words.extend(words)\n",
        "            Is_heads.extend(is_heads)\n",
        "            Tags.extend(tags)\n",
        "            Y.extend(y.numpy().tolist())\n",
        "            Y_hat.extend(y_hat.cpu().numpy().tolist())\n",
        "\n",
        "    ## gets results and save\n",
        "    with open(\"result\", 'w') as fout:\n",
        "        for words, is_heads, tags, y_hat in zip(Words, Is_heads, Tags, Y_hat):\n",
        "            y_hat = [hat for head, hat in zip(is_heads, y_hat) if head == 1]\n",
        "            preds = [idx2tag[hat] for hat in y_hat]\n",
        "            assert len(preds)==len(words.split())==len(tags.split())\n",
        "            for w, t, p in zip(words.split()[1:-1], tags.split()[1:-1], preds[1:-1]):\n",
        "                fout.write(\"{} {} {}\\n\".format(w, t, p))\n",
        "            fout.write(\"\\n\")\n",
        "\n",
        "    ## calc metric\n",
        "    y_true =  np.array([tag2idx[line.split()[1]] for line in open('result', 'r').read().splitlines() if len(line) > 0])\n",
        "    y_pred =  np.array([tag2idx[line.split()[2]] for line in open('result', 'r').read().splitlines() if len(line) > 0])\n",
        "\n",
        "    acc = (y_true==y_pred).astype(np.int32).sum() / len(y_true)\n",
        "\n",
        "    print(\"acc=%.6f\"%acc)\n",
        "\n",
        "    return Y, Y_hat\n",
        "\n",
        "model = Net(vocab_size=len(tag2idx))\n",
        "model.to(device)\n",
        "model = nn.DataParallel(model)\n",
        "\n",
        "train_dataset = PosDataset(train_data)\n",
        "eval_dataset = PosDataset(test_data)\n",
        "\n",
        "train_iter = data.DataLoader(dataset=train_dataset,\n",
        "                             batch_size=8,\n",
        "                             shuffle=True,\n",
        "                             num_workers=1,\n",
        "                             collate_fn=pad)\n",
        "test_iter = data.DataLoader(dataset=eval_dataset,\n",
        "                             batch_size=8,\n",
        "                             shuffle=False,\n",
        "                             num_workers=1,\n",
        "                             collate_fn=pad)\n",
        "\n",
        "optimizer = optim.Adam(model.parameters(), lr = 0.0001)\n",
        "\n",
        "criterion = nn.CrossEntropyLoss(ignore_index=0)"
      ],
      "metadata": {
        "id": "ixK0rg4ykGCj",
        "colab": {
          "base_uri": "https://localhost:8080/"
        },
        "outputId": "7da5e9a7-8cb4-4212-9a1c-a52a2b1b1143"
      },
      "execution_count": null,
      "outputs": [
        {
          "output_type": "stream",
          "name": "stderr",
          "text": [
            "100%|██████████| 404400730/404400730 [00:13<00:00, 30301069.98B/s]\n"
          ]
        }
      ]
    },
    {
      "cell_type": "markdown",
      "source": [
        "The code below initiates the fine-tuning process.\n",
        "\n",
        "### 📚 Task 4\n",
        "Prior to running this cell, insert code snippets at suitable locations to track and display the training duration (in seconds) for this variant of the BERT model, similar to Task 1. Ensure that the model is fine-tuned for at least one epoch.\n",
        "\n",
        "☕️ One-epoch fine-tuning will take about half an hour on CPU"
      ],
      "metadata": {
        "id": "N__6ViAJ9oBp"
      }
    },
    {
      "cell_type": "code",
      "source": [
        "num_epochs = 1\n",
        "start = time.time()\n",
        "train(model, train_iter, optimizer, criterion, num_epochs)\n",
        "end = time.time()\n",
        "print(f\"Train time: {end-start}\")"
      ],
      "metadata": {
        "id": "4pJBFSHSkLyi",
        "colab": {
          "base_uri": "https://localhost:8080/"
        },
        "outputId": "d0f93596-2dc6-49f5-8887-edfdc875a338"
      },
      "execution_count": null,
      "outputs": [
        {
          "output_type": "stream",
          "name": "stdout",
          "text": [
            "Epoch: 1, Step: 10, Loss: 0.8938086032867432\n",
            "Epoch: 1, Step: 20, Loss: 0.26128140091896057\n",
            "Epoch: 1, Step: 30, Loss: 0.22143004834651947\n",
            "Epoch: 1, Step: 40, Loss: 0.06421755254268646\n",
            "Epoch: 1, Step: 50, Loss: 0.12289514392614365\n",
            "Epoch: 1, Step: 60, Loss: 0.12036026269197464\n",
            "Epoch: 1, Step: 70, Loss: 0.04572397470474243\n",
            "Epoch: 1, Step: 80, Loss: 0.14661568403244019\n",
            "Epoch: 1, Step: 90, Loss: 0.05539163574576378\n",
            "Epoch: 1, Step: 100, Loss: 0.06187191233038902\n",
            "Epoch: 1, Step: 110, Loss: 0.09346002340316772\n",
            "Epoch: 1, Step: 120, Loss: 0.13080456852912903\n",
            "Epoch: 1, Step: 130, Loss: 0.029496045783162117\n",
            "Epoch: 1, Step: 140, Loss: 0.11352422833442688\n",
            "Epoch: 1, Step: 150, Loss: 0.09716911613941193\n",
            "Epoch: 1, Step: 160, Loss: 0.07932323962450027\n",
            "Epoch: 1, Step: 170, Loss: 0.07907559722661972\n",
            "Epoch: 1, Step: 180, Loss: 0.06658954173326492\n",
            "Epoch: 1, Step: 190, Loss: 0.04477434977889061\n",
            "Epoch: 1, Step: 200, Loss: 0.08263298869132996\n",
            "Epoch: 1, Step: 210, Loss: 0.04836714267730713\n",
            "Epoch: 1, Step: 220, Loss: 0.07613275200128555\n",
            "Epoch: 1, Step: 230, Loss: 0.052001841366291046\n",
            "Epoch: 1, Step: 240, Loss: 0.044860515743494034\n",
            "Epoch: 1, Step: 250, Loss: 0.06055223196744919\n",
            "Epoch: 1, Step: 260, Loss: 0.12688831984996796\n",
            "Epoch: 1, Step: 270, Loss: 0.1178886890411377\n",
            "Epoch: 1, Step: 280, Loss: 0.06262535601854324\n",
            "Epoch: 1, Step: 290, Loss: 0.029788481071591377\n",
            "Epoch: 1, Step: 300, Loss: 0.035312920808792114\n",
            "Epoch: 1, Step: 310, Loss: 0.05665511265397072\n",
            "Epoch: 1, Step: 320, Loss: 0.08810541033744812\n",
            "Epoch: 1, Step: 330, Loss: 0.031292617321014404\n",
            "Epoch: 1, Step: 340, Loss: 0.02645343355834484\n",
            "Epoch: 1, Step: 350, Loss: 0.0485592819750309\n",
            "Epoch: 1, Step: 360, Loss: 0.025177044793963432\n",
            "Epoch: 1, Step: 370, Loss: 0.023423759266734123\n",
            "End of Epoch 1, Average Loss: 0.1327321851104498\n",
            "Train time: 2467.733060836792\n"
          ]
        }
      ]
    },
    {
      "cell_type": "markdown",
      "source": [
        "The code below initiates the evaluation process.\n",
        "\n",
        "### 📚 Task 5\n",
        "Prior to running this cell, insert code snippets at suitable locations to track and display the inferencing duration (in seconds) for this variant of the BERT model, similar to Task 1. Additionally, the code will output the model's prediction accuracy. Note this accuracy for a subsequent comparison with the CRF model's accuracy from Chapter 1."
      ],
      "metadata": {
        "id": "8fj3hnio-63X"
      }
    },
    {
      "cell_type": "code",
      "source": [
        "start = time.time()\n",
        "\n",
        "actuals, predictions = eval(model, test_iter)\n",
        "end = time.time()\n",
        "print(f\"Train time: {end-start}\")"
      ],
      "metadata": {
        "id": "RbCcHwTFkMYw",
        "colab": {
          "base_uri": "https://localhost:8080/"
        },
        "outputId": "7c8bb49a-28fd-4260-a2c9-56e41cd07599"
      },
      "execution_count": null,
      "outputs": [
        {
          "output_type": "stream",
          "name": "stdout",
          "text": [
            "acc=0.983855\n",
            "Train time: 228.7740626335144\n"
          ]
        }
      ]
    },
    {
      "cell_type": "markdown",
      "source": [
        "\n",
        "Run the next code block to display the confusion matrix and a bar chart showing the accuracy for each POS tag. This will give you an idea of the BERT's performance across different tags."
      ],
      "metadata": {
        "id": "WOSHFnKP_UKy"
      }
    },
    {
      "cell_type": "code",
      "source": [
        "import pandas as pd\n",
        "import matplotlib.pyplot as plt\n",
        "from sklearn.metrics import confusion_matrix\n",
        "\n",
        "# Assuming actuals and predictions are lists of lists of tags\n",
        "flat_actuals = [tag for sublist in actuals for tag in sublist]\n",
        "flat_predictions = [tag for sublist in predictions for tag in sublist]\n",
        "\n",
        "# Ensure all tags from both actuals and predictions are included, excluding the <pad> tag\n",
        "all_tags = sorted(set(flat_actuals + flat_predictions) - {0})\n",
        "\n",
        "# Get the label mappings excluding the <pad> tag\n",
        "label_mappings = [idx2tag[i] for i in all_tags]\n",
        "\n",
        "# Calculate the confusion matrix\n",
        "conf_matrix = confusion_matrix(flat_actuals, flat_predictions, labels=all_tags)\n",
        "\n",
        "# Create a DataFrame with row and column names set to the POS tags\n",
        "conf_df = pd.DataFrame(conf_matrix, index=label_mappings, columns=label_mappings)\n",
        "\n",
        "# Show the confusion matrix\n",
        "print(conf_df)\n",
        "\n",
        "# Calculate the accuracy for each category\n",
        "accuracies = conf_df.to_numpy().diagonal() / conf_df.sum(axis=1)\n",
        "\n",
        "# Plot the accuracies\n",
        "plt.bar(label_mappings, accuracies)\n",
        "plt.title('Accuracy for Each POS Category')\n",
        "plt.xlabel('POS Category')\n",
        "plt.ylabel('Accuracy')\n",
        "plt.xticks(rotation=90)  # Rotate the x-axis labels for better readability\n",
        "plt.show()\n"
      ],
      "metadata": {
        "id": "MFy-IUDCkPlX",
        "colab": {
          "base_uri": "https://localhost:8080/",
          "height": 725
        },
        "outputId": "1d81a6e9-9aa2-4c2b-9335-0c4865849806"
      },
      "execution_count": null,
      "outputs": [
        {
          "output_type": "stream",
          "name": "stdout",
          "text": [
            "         .   ADJ   ADP  ADV  CONJ   DET  NOUN   NUM  PRON  PRT  VERB     X\n",
            ".     2587     0     0    0     0     0     0     0     0    0     0     0\n",
            "ADJ      0  1341     6   24     0     0    34     4     0    0    10     0\n",
            "ADP      0     0  2284   11     0     1     0     0     0    0     2     0\n",
            "ADV      0    16    15  565     0     1     1     0     0    0     1     0\n",
            "CONJ     0     0     1    0   502     0     0     0     0    0     0     0\n",
            "DET      0     3     4    0     0  1957     4     0     0    0     0     0\n",
            "NOUN     0   138     0    3     1     2  6693     2     0    0     9     1\n",
            "NUM      0     0     0    0     0     0     1  1206     0    1     0     0\n",
            "PRON     0     0     0    0     0     0     0     0   408    0     0     0\n",
            "PRT      0     0    20    3     0     0     0     0     0  758     0     0\n",
            "VERB     0    28     0    0     0     0    27     0     0    0  2987     0\n",
            "X        0     0     0    0     0     0     0     0     0    0     0  1503\n"
          ]
        },
        {
          "output_type": "display_data",
          "data": {
            "text/plain": [
              "<Figure size 640x480 with 1 Axes>"
            ],
            "image/png": "[encoded data removed]"
          },
          "metadata": {}
        }
      ]
    },
    {
      "cell_type": "markdown",
      "source": [
        "### Chapter 4: Fine-Tuning BERT for NER using CoNLL-2003"
      ],
      "metadata": {
        "id": "AiWXzSx7M_lr"
      }
    },
    {
      "cell_type": "markdown",
      "source": [
        "This chapter delves into the fine-tuning of the BERT model for Named Entity Recognition (NER), offering a side-by-side evaluation of training duration, inference speed, and prediction accuracy in comparison to the CRF model utilized previously with NLTK in Chapter 2. For this task, we'll utilize the [`distilbert-base-cased`](https://huggingface.co/docs/transformers/model_doc/distilbert) model, a more compact variant of BERT, due to its lengthy fine-tuning process which necessitates potentially saving the fine-tuned model to Google Drive.\n",
        "\n",
        "⚠️ Note: For consistency, please use the same hardware accelerator as in Chapter 3 for this task.\n",
        "\n",
        "To ensure uniformity, the same splits from the conll2003 dataset will be employed for training and testing. I extensively referred to [this Kaggle notebook](https://www.kaggle.com/code/farshadjafari97/fine-tuning-bert-for-ner) for the following cdoe."
      ],
      "metadata": {
        "id": "iuU5oTAdASIJ"
      }
    },
    {
      "cell_type": "markdown",
      "source": [
        "Start by installing necessary packages."
      ],
      "metadata": {
        "id": "FiZulMdjBL-A"
      }
    },
    {
      "cell_type": "code",
      "source": [
        "! pip install seqeval\n",
        "! pip install -U accelerate\n",
        "! pip install -U transformers\n",
        "! pip install datasets"
      ],
      "metadata": {
        "id": "-vgfThjCN6ps",
        "colab": {
          "base_uri": "https://localhost:8080/",
          "height": 1000
        },
        "outputId": "43d78ee6-5a5e-4fd0-bf72-4c37c5579f9d"
      },
      "execution_count": null,
      "outputs": [
        {
          "output_type": "stream",
          "name": "stdout",
          "text": [
            "Collecting seqeval\n",
            "  Downloading seqeval-1.2.2.tar.gz (43 kB)\n",
            "\u001b[?25l     \u001b[90m━━━━━━━━━━━━━━━━━━━━━━━━━━━━━━━━━━━━━━━━\u001b[0m \u001b[32m0.0/43.6 kB\u001b[0m \u001b[31m?\u001b[0m eta \u001b[36m-:--:--\u001b[0m\r\u001b[2K     \u001b[90m━━━━━━━━━━━━━━━━━━━━━━━━━━━━━━━━━━━━━━━━\u001b[0m \u001b[32m43.6/43.6 kB\u001b[0m \u001b[31m1.4 MB/s\u001b[0m eta \u001b[36m0:00:00\u001b[0m\n",
            "\u001b[?25h  Preparing metadata (setup.py) ... \u001b[?25l\u001b[?25hdone\n",
            "Requirement already satisfied: numpy>=1.14.0 in /usr/local/lib/python3.10/dist-packages (from seqeval) (1.25.2)\n",
            "Requirement already satisfied: scikit-learn>=0.21.3 in /usr/local/lib/python3.10/dist-packages (from seqeval) (1.2.2)\n",
            "Requirement already satisfied: scipy>=1.3.2 in /usr/local/lib/python3.10/dist-packages (from scikit-learn>=0.21.3->seqeval) (1.11.4)\n",
            "Requirement already satisfied: joblib>=1.1.1 in /usr/local/lib/python3.10/dist-packages (from scikit-learn>=0.21.3->seqeval) (1.3.2)\n",
            "Requirement already satisfied: threadpoolctl>=2.0.0 in /usr/local/lib/python3.10/dist-packages (from scikit-learn>=0.21.3->seqeval) (3.4.0)\n",
            "Building wheels for collected packages: seqeval\n",
            "  Building wheel for seqeval (setup.py) ... \u001b[?25l\u001b[?25hdone\n",
            "  Created wheel for seqeval: filename=seqeval-1.2.2-py3-none-any.whl size=16161 sha256=878a89033f299c5f2bee44075ff5357e60084ba1ebe70f93a73fb2b084ce722c\n",
            "  Stored in directory: /root/.cache/pip/wheels/1a/67/4a/ad4082dd7dfc30f2abfe4d80a2ed5926a506eb8a972b4767fa\n",
            "Successfully built seqeval\n",
            "Installing collected packages: seqeval\n",
            "Successfully installed seqeval-1.2.2\n",
            "Collecting accelerate\n",
            "  Downloading accelerate-0.29.1-py3-none-any.whl (297 kB)\n",
            "\u001b[2K     \u001b[90m━━━━━━━━━━━━━━━━━━━━━━━━━━━━━━━━━━━━━━━━\u001b[0m \u001b[32m297.3/297.3 kB\u001b[0m \u001b[31m4.8 MB/s\u001b[0m eta \u001b[36m0:00:00\u001b[0m\n",
            "\u001b[?25hRequirement already satisfied: numpy>=1.17 in /usr/local/lib/python3.10/dist-packages (from accelerate) (1.25.2)\n",
            "Requirement already satisfied: packaging>=20.0 in /usr/local/lib/python3.10/dist-packages (from accelerate) (24.0)\n",
            "Requirement already satisfied: psutil in /usr/local/lib/python3.10/dist-packages (from accelerate) (5.9.5)\n",
            "Requirement already satisfied: pyyaml in /usr/local/lib/python3.10/dist-packages (from accelerate) (6.0.1)\n",
            "Requirement already satisfied: torch>=1.10.0 in /usr/local/lib/python3.10/dist-packages (from accelerate) (2.2.1+cu121)\n",
            "Requirement already satisfied: huggingface-hub in /usr/local/lib/python3.10/dist-packages (from accelerate) (0.20.3)\n",
            "Requirement already satisfied: safetensors>=0.3.1 in /usr/local/lib/python3.10/dist-packages (from accelerate) (0.4.2)\n",
            "Requirement already satisfied: filelock in /usr/local/lib/python3.10/dist-packages (from torch>=1.10.0->accelerate) (3.13.3)\n",
            "Requirement already satisfied: typing-extensions>=4.8.0 in /usr/local/lib/python3.10/dist-packages (from torch>=1.10.0->accelerate) (4.10.0)\n",
            "Requirement already satisfied: sympy in /usr/local/lib/python3.10/dist-packages (from torch>=1.10.0->accelerate) (1.12)\n",
            "Requirement already satisfied: networkx in /usr/local/lib/python3.10/dist-packages (from torch>=1.10.0->accelerate) (3.2.1)\n",
            "Requirement already satisfied: jinja2 in /usr/local/lib/python3.10/dist-packages (from torch>=1.10.0->accelerate) (3.1.3)\n",
            "Requirement already satisfied: fsspec in /usr/local/lib/python3.10/dist-packages (from torch>=1.10.0->accelerate) (2023.6.0)\n",
            "Collecting nvidia-cuda-nvrtc-cu12==12.1.105 (from torch>=1.10.0->accelerate)\n",
            "  Downloading nvidia_cuda_nvrtc_cu12-12.1.105-py3-none-manylinux1_x86_64.whl (23.7 MB)\n",
            "\u001b[2K     \u001b[90m━━━━━━━━━━━━━━━━━━━━━━━━━━━━━━━━━━━━━━━━\u001b[0m \u001b[32m23.7/23.7 MB\u001b[0m \u001b[31m13.2 MB/s\u001b[0m eta \u001b[36m0:00:00\u001b[0m\n",
            "\u001b[?25hCollecting nvidia-cuda-runtime-cu12==12.1.105 (from torch>=1.10.0->accelerate)\n",
            "  Downloading nvidia_cuda_runtime_cu12-12.1.105-py3-none-manylinux1_x86_64.whl (823 kB)\n",
            "\u001b[2K     \u001b[90m━━━━━━━━━━━━━━━━━━━━━━━━━━━━━━━━━━━━━━━━\u001b[0m \u001b[32m823.6/823.6 kB\u001b[0m \u001b[31m48.4 MB/s\u001b[0m eta \u001b[36m0:00:00\u001b[0m\n",
            "\u001b[?25hCollecting nvidia-cuda-cupti-cu12==12.1.105 (from torch>=1.10.0->accelerate)\n",
            "  Downloading nvidia_cuda_cupti_cu12-12.1.105-py3-none-manylinux1_x86_64.whl (14.1 MB)\n",
            "\u001b[2K     \u001b[90m━━━━━━━━━━━━━━━━━━━━━━━━━━━━━━━━━━━━━━━━\u001b[0m \u001b[32m14.1/14.1 MB\u001b[0m \u001b[31m45.8 MB/s\u001b[0m eta \u001b[36m0:00:00\u001b[0m\n",
            "\u001b[?25hCollecting nvidia-cudnn-cu12==8.9.2.26 (from torch>=1.10.0->accelerate)\n",
            "  Downloading nvidia_cudnn_cu12-8.9.2.26-py3-none-manylinux1_x86_64.whl (731.7 MB)\n",
            "\u001b[2K     \u001b[90m━━━━━━━━━━━━━━━━━━━━━━━━━━━━━━━━━━━━━━━━\u001b[0m \u001b[32m731.7/731.7 MB\u001b[0m \u001b[31m1.0 MB/s\u001b[0m eta \u001b[36m0:00:00\u001b[0m\n",
            "\u001b[?25hCollecting nvidia-cublas-cu12==12.1.3.1 (from torch>=1.10.0->accelerate)\n",
            "  Downloading nvidia_cublas_cu12-12.1.3.1-py3-none-manylinux1_x86_64.whl (410.6 MB)\n",
            "\u001b[2K     \u001b[90m━━━━━━━━━━━━━━━━━━━━━━━━━━━━━━━━━━━━━━━━\u001b[0m \u001b[32m410.6/410.6 MB\u001b[0m \u001b[31m2.6 MB/s\u001b[0m eta \u001b[36m0:00:00\u001b[0m\n",
            "\u001b[?25hCollecting nvidia-cufft-cu12==11.0.2.54 (from torch>=1.10.0->accelerate)\n",
            "  Downloading nvidia_cufft_cu12-11.0.2.54-py3-none-manylinux1_x86_64.whl (121.6 MB)\n",
            "\u001b[2K     \u001b[90m━━━━━━━━━━━━━━━━━━━━━━━━━━━━━━━━━━━━━━━━\u001b[0m \u001b[32m121.6/121.6 MB\u001b[0m \u001b[31m6.6 MB/s\u001b[0m eta \u001b[36m0:00:00\u001b[0m\n",
            "\u001b[?25hCollecting nvidia-curand-cu12==10.3.2.106 (from torch>=1.10.0->accelerate)\n",
            "  Downloading nvidia_curand_cu12-10.3.2.106-py3-none-manylinux1_x86_64.whl (56.5 MB)\n",
            "\u001b[2K     \u001b[90m━━━━━━━━━━━━━━━━━━━━━━━━━━━━━━━━━━━━━━━━\u001b[0m \u001b[32m56.5/56.5 MB\u001b[0m \u001b[31m10.6 MB/s\u001b[0m eta \u001b[36m0:00:00\u001b[0m\n",
            "\u001b[?25hCollecting nvidia-cusolver-cu12==11.4.5.107 (from torch>=1.10.0->accelerate)\n",
            "  Downloading nvidia_cusolver_cu12-11.4.5.107-py3-none-manylinux1_x86_64.whl (124.2 MB)\n",
            "\u001b[2K     \u001b[90m━━━━━━━━━━━━━━━━━━━━━━━━━━━━━━━━━━━━━━━━\u001b[0m \u001b[32m124.2/124.2 MB\u001b[0m \u001b[31m5.8 MB/s\u001b[0m eta \u001b[36m0:00:00\u001b[0m\n",
            "\u001b[?25hCollecting nvidia-cusparse-cu12==12.1.0.106 (from torch>=1.10.0->accelerate)\n",
            "  Downloading nvidia_cusparse_cu12-12.1.0.106-py3-none-manylinux1_x86_64.whl (196.0 MB)\n",
            "\u001b[2K     \u001b[90m━━━━━━━━━━━━━━━━━━━━━━━━━━━━━━━━━━━━━━━━\u001b[0m \u001b[32m196.0/196.0 MB\u001b[0m \u001b[31m3.1 MB/s\u001b[0m eta \u001b[36m0:00:00\u001b[0m\n",
            "\u001b[?25hCollecting nvidia-nccl-cu12==2.19.3 (from torch>=1.10.0->accelerate)\n",
            "  Downloading nvidia_nccl_cu12-2.19.3-py3-none-manylinux1_x86_64.whl (166.0 MB)\n",
            "\u001b[2K     \u001b[90m━━━━━━━━━━━━━━━━━━━━━━━━━━━━━━━━━━━━━━━━\u001b[0m \u001b[32m166.0/166.0 MB\u001b[0m \u001b[31m3.2 MB/s\u001b[0m eta \u001b[36m0:00:00\u001b[0m\n",
            "\u001b[?25hCollecting nvidia-nvtx-cu12==12.1.105 (from torch>=1.10.0->accelerate)\n",
            "  Downloading nvidia_nvtx_cu12-12.1.105-py3-none-manylinux1_x86_64.whl (99 kB)\n",
            "\u001b[2K     \u001b[90m━━━━━━━━━━━━━━━━━━━━━━━━━━━━━━━━━━━━━━━━\u001b[0m \u001b[32m99.1/99.1 kB\u001b[0m \u001b[31m10.4 MB/s\u001b[0m eta \u001b[36m0:00:00\u001b[0m\n",
            "\u001b[?25hRequirement already satisfied: triton==2.2.0 in /usr/local/lib/python3.10/dist-packages (from torch>=1.10.0->accelerate) (2.2.0)\n",
            "Collecting nvidia-nvjitlink-cu12 (from nvidia-cusolver-cu12==11.4.5.107->torch>=1.10.0->accelerate)\n",
            "  Downloading nvidia_nvjitlink_cu12-12.4.127-py3-none-manylinux2014_x86_64.whl (21.1 MB)\n",
            "\u001b[2K     \u001b[90m━━━━━━━━━━━━━━━━━━━━━━━━━━━━━━━━━━━━━━━━\u001b[0m \u001b[32m21.1/21.1 MB\u001b[0m \u001b[31m50.4 MB/s\u001b[0m eta \u001b[36m0:00:00\u001b[0m\n",
            "\u001b[?25hRequirement already satisfied: requests in /usr/local/lib/python3.10/dist-packages (from huggingface-hub->accelerate) (2.31.0)\n",
            "Requirement already satisfied: tqdm>=4.42.1 in /usr/local/lib/python3.10/dist-packages (from huggingface-hub->accelerate) (4.66.2)\n",
            "Requirement already satisfied: MarkupSafe>=2.0 in /usr/local/lib/python3.10/dist-packages (from jinja2->torch>=1.10.0->accelerate) (2.1.5)\n",
            "Requirement already satisfied: charset-normalizer<4,>=2 in /usr/local/lib/python3.10/dist-packages (from requests->huggingface-hub->accelerate) (3.3.2)\n",
            "Requirement already satisfied: idna<4,>=2.5 in /usr/local/lib/python3.10/dist-packages (from requests->huggingface-hub->accelerate) (3.6)\n",
            "Requirement already satisfied: urllib3<3,>=1.21.1 in /usr/local/lib/python3.10/dist-packages (from requests->huggingface-hub->accelerate) (2.0.7)\n",
            "Requirement already satisfied: certifi>=2017.4.17 in /usr/local/lib/python3.10/dist-packages (from requests->huggingface-hub->accelerate) (2024.2.2)\n",
            "Requirement already satisfied: mpmath>=0.19 in /usr/local/lib/python3.10/dist-packages (from sympy->torch>=1.10.0->accelerate) (1.3.0)\n",
            "Installing collected packages: nvidia-nvtx-cu12, nvidia-nvjitlink-cu12, nvidia-nccl-cu12, nvidia-curand-cu12, nvidia-cufft-cu12, nvidia-cuda-runtime-cu12, nvidia-cuda-nvrtc-cu12, nvidia-cuda-cupti-cu12, nvidia-cublas-cu12, nvidia-cusparse-cu12, nvidia-cudnn-cu12, nvidia-cusolver-cu12, accelerate\n",
            "Successfully installed accelerate-0.29.1 nvidia-cublas-cu12-12.1.3.1 nvidia-cuda-cupti-cu12-12.1.105 nvidia-cuda-nvrtc-cu12-12.1.105 nvidia-cuda-runtime-cu12-12.1.105 nvidia-cudnn-cu12-8.9.2.26 nvidia-cufft-cu12-11.0.2.54 nvidia-curand-cu12-10.3.2.106 nvidia-cusolver-cu12-11.4.5.107 nvidia-cusparse-cu12-12.1.0.106 nvidia-nccl-cu12-2.19.3 nvidia-nvjitlink-cu12-12.4.127 nvidia-nvtx-cu12-12.1.105\n",
            "Requirement already satisfied: transformers in /usr/local/lib/python3.10/dist-packages (4.38.2)\n",
            "Collecting transformers\n",
            "  Downloading transformers-4.39.3-py3-none-any.whl (8.8 MB)\n",
            "\u001b[2K     \u001b[90m━━━━━━━━━━━━━━━━━━━━━━━━━━━━━━━━━━━━━━━━\u001b[0m \u001b[32m8.8/8.8 MB\u001b[0m \u001b[31m15.3 MB/s\u001b[0m eta \u001b[36m0:00:00\u001b[0m\n",
            "\u001b[?25hRequirement already satisfied: filelock in /usr/local/lib/python3.10/dist-packages (from transformers) (3.13.3)\n",
            "Requirement already satisfied: huggingface-hub<1.0,>=0.19.3 in /usr/local/lib/python3.10/dist-packages (from transformers) (0.20.3)\n",
            "Requirement already satisfied: numpy>=1.17 in /usr/local/lib/python3.10/dist-packages (from transformers) (1.25.2)\n",
            "Requirement already satisfied: packaging>=20.0 in /usr/local/lib/python3.10/dist-packages (from transformers) (24.0)\n",
            "Requirement already satisfied: pyyaml>=5.1 in /usr/local/lib/python3.10/dist-packages (from transformers) (6.0.1)\n",
            "Requirement already satisfied: regex!=2019.12.17 in /usr/local/lib/python3.10/dist-packages (from transformers) (2023.12.25)\n",
            "Requirement already satisfied: requests in /usr/local/lib/python3.10/dist-packages (from transformers) (2.31.0)\n",
            "Requirement already satisfied: tokenizers<0.19,>=0.14 in /usr/local/lib/python3.10/dist-packages (from transformers) (0.15.2)\n",
            "Requirement already satisfied: safetensors>=0.4.1 in /usr/local/lib/python3.10/dist-packages (from transformers) (0.4.2)\n",
            "Requirement already satisfied: tqdm>=4.27 in /usr/local/lib/python3.10/dist-packages (from transformers) (4.66.2)\n",
            "Requirement already satisfied: fsspec>=2023.5.0 in /usr/local/lib/python3.10/dist-packages (from huggingface-hub<1.0,>=0.19.3->transformers) (2023.6.0)\n",
            "Requirement already satisfied: typing-extensions>=3.7.4.3 in /usr/local/lib/python3.10/dist-packages (from huggingface-hub<1.0,>=0.19.3->transformers) (4.10.0)\n",
            "Requirement already satisfied: charset-normalizer<4,>=2 in /usr/local/lib/python3.10/dist-packages (from requests->transformers) (3.3.2)\n",
            "Requirement already satisfied: idna<4,>=2.5 in /usr/local/lib/python3.10/dist-packages (from requests->transformers) (3.6)\n",
            "Requirement already satisfied: urllib3<3,>=1.21.1 in /usr/local/lib/python3.10/dist-packages (from requests->transformers) (2.0.7)\n",
            "Requirement already satisfied: certifi>=2017.4.17 in /usr/local/lib/python3.10/dist-packages (from requests->transformers) (2024.2.2)\n",
            "Installing collected packages: transformers\n",
            "  Attempting uninstall: transformers\n",
            "    Found existing installation: transformers 4.38.2\n",
            "    Uninstalling transformers-4.38.2:\n",
            "      Successfully uninstalled transformers-4.38.2\n",
            "Successfully installed transformers-4.39.3\n"
          ]
        },
        {
          "output_type": "display_data",
          "data": {
            "application/vnd.colab-display-data+json": {
              "pip_warning": {
                "packages": [
                  "transformers"
                ]
              },
              "id": "6033dadbfa6e4310ad703f2730b94810"
            }
          },
          "metadata": {}
        },
        {
          "output_type": "stream",
          "name": "stdout",
          "text": [
            "Collecting datasets\n",
            "  Downloading datasets-2.18.0-py3-none-any.whl (510 kB)\n",
            "\u001b[2K     \u001b[90m━━━━━━━━━━━━━━━━━━━━━━━━━━━━━━━━━━━━━━━━\u001b[0m \u001b[32m510.5/510.5 kB\u001b[0m \u001b[31m6.6 MB/s\u001b[0m eta \u001b[36m0:00:00\u001b[0m\n",
            "\u001b[?25hRequirement already satisfied: filelock in /usr/local/lib/python3.10/dist-packages (from datasets) (3.13.3)\n",
            "Requirement already satisfied: numpy>=1.17 in /usr/local/lib/python3.10/dist-packages (from datasets) (1.25.2)\n",
            "Requirement already satisfied: pyarrow>=12.0.0 in /usr/local/lib/python3.10/dist-packages (from datasets) (14.0.2)\n",
            "Requirement already satisfied: pyarrow-hotfix in /usr/local/lib/python3.10/dist-packages (from datasets) (0.6)\n",
            "Collecting dill<0.3.9,>=0.3.0 (from datasets)\n",
            "  Downloading dill-0.3.8-py3-none-any.whl (116 kB)\n",
            "\u001b[2K     \u001b[90m━━━━━━━━━━━━━━━━━━━━━━━━━━━━━━━━━━━━━━━━\u001b[0m \u001b[32m116.3/116.3 kB\u001b[0m \u001b[31m10.5 MB/s\u001b[0m eta \u001b[36m0:00:00\u001b[0m\n",
            "\u001b[?25hRequirement already satisfied: pandas in /usr/local/lib/python3.10/dist-packages (from datasets) (2.0.3)\n",
            "Requirement already satisfied: requests>=2.19.0 in /usr/local/lib/python3.10/dist-packages (from datasets) (2.31.0)\n",
            "Requirement already satisfied: tqdm>=4.62.1 in /usr/local/lib/python3.10/dist-packages (from datasets) (4.66.2)\n",
            "Collecting xxhash (from datasets)\n",
            "  Downloading xxhash-3.4.1-cp310-cp310-manylinux_2_17_x86_64.manylinux2014_x86_64.whl (194 kB)\n",
            "\u001b[2K     \u001b[90m━━━━━━━━━━━━━━━━━━━━━━━━━━━━━━━━━━━━━━━━\u001b[0m \u001b[32m194.1/194.1 kB\u001b[0m \u001b[31m11.4 MB/s\u001b[0m eta \u001b[36m0:00:00\u001b[0m\n",
            "\u001b[?25hCollecting multiprocess (from datasets)\n",
            "  Downloading multiprocess-0.70.16-py310-none-any.whl (134 kB)\n",
            "\u001b[2K     \u001b[90m━━━━━━━━━━━━━━━━━━━━━━━━━━━━━━━━━━━━━━━━\u001b[0m \u001b[32m134.8/134.8 kB\u001b[0m \u001b[31m13.0 MB/s\u001b[0m eta \u001b[36m0:00:00\u001b[0m\n",
            "\u001b[?25hRequirement already satisfied: fsspec[http]<=2024.2.0,>=2023.1.0 in /usr/local/lib/python3.10/dist-packages (from datasets) (2023.6.0)\n",
            "Requirement already satisfied: aiohttp in /usr/local/lib/python3.10/dist-packages (from datasets) (3.9.3)\n",
            "Requirement already satisfied: huggingface-hub>=0.19.4 in /usr/local/lib/python3.10/dist-packages (from datasets) (0.20.3)\n",
            "Requirement already satisfied: packaging in /usr/local/lib/python3.10/dist-packages (from datasets) (24.0)\n",
            "Requirement already satisfied: pyyaml>=5.1 in /usr/local/lib/python3.10/dist-packages (from datasets) (6.0.1)\n",
            "Requirement already satisfied: aiosignal>=1.1.2 in /usr/local/lib/python3.10/dist-packages (from aiohttp->datasets) (1.3.1)\n",
            "Requirement already satisfied: attrs>=17.3.0 in /usr/local/lib/python3.10/dist-packages (from aiohttp->datasets) (23.2.0)\n",
            "Requirement already satisfied: frozenlist>=1.1.1 in /usr/local/lib/python3.10/dist-packages (from aiohttp->datasets) (1.4.1)\n",
            "Requirement already satisfied: multidict<7.0,>=4.5 in /usr/local/lib/python3.10/dist-packages (from aiohttp->datasets) (6.0.5)\n",
            "Requirement already satisfied: yarl<2.0,>=1.0 in /usr/local/lib/python3.10/dist-packages (from aiohttp->datasets) (1.9.4)\n",
            "Requirement already satisfied: async-timeout<5.0,>=4.0 in /usr/local/lib/python3.10/dist-packages (from aiohttp->datasets) (4.0.3)\n",
            "Requirement already satisfied: typing-extensions>=3.7.4.3 in /usr/local/lib/python3.10/dist-packages (from huggingface-hub>=0.19.4->datasets) (4.10.0)\n",
            "Requirement already satisfied: charset-normalizer<4,>=2 in /usr/local/lib/python3.10/dist-packages (from requests>=2.19.0->datasets) (3.3.2)\n",
            "Requirement already satisfied: idna<4,>=2.5 in /usr/local/lib/python3.10/dist-packages (from requests>=2.19.0->datasets) (3.6)\n",
            "Requirement already satisfied: urllib3<3,>=1.21.1 in /usr/local/lib/python3.10/dist-packages (from requests>=2.19.0->datasets) (2.0.7)\n",
            "Requirement already satisfied: certifi>=2017.4.17 in /usr/local/lib/python3.10/dist-packages (from requests>=2.19.0->datasets) (2024.2.2)\n",
            "Requirement already satisfied: python-dateutil>=2.8.2 in /usr/local/lib/python3.10/dist-packages (from pandas->datasets) (2.8.2)\n",
            "Requirement already satisfied: pytz>=2020.1 in /usr/local/lib/python3.10/dist-packages (from pandas->datasets) (2023.4)\n",
            "Requirement already satisfied: tzdata>=2022.1 in /usr/local/lib/python3.10/dist-packages (from pandas->datasets) (2024.1)\n",
            "Requirement already satisfied: six>=1.5 in /usr/local/lib/python3.10/dist-packages (from python-dateutil>=2.8.2->pandas->datasets) (1.16.0)\n",
            "Installing collected packages: xxhash, dill, multiprocess, datasets\n",
            "Successfully installed datasets-2.18.0 dill-0.3.8 multiprocess-0.70.16 xxhash-3.4.1\n"
          ]
        }
      ]
    },
    {
      "cell_type": "markdown",
      "source": [
        "As highlighted in Chapter 1, execute the cell below to restart your runtime, guaranteeing that the necessary packages are available for subsequent code cells."
      ],
      "metadata": {
        "id": "UElHYIaaBWvF"
      }
    },
    {
      "cell_type": "code",
      "source": [
        "import os\n",
        "os._exit(00)"
      ],
      "metadata": {
        "id": "BqAyn1tON91J"
      },
      "execution_count": null,
      "outputs": []
    },
    {
      "cell_type": "markdown",
      "source": [
        "\n",
        "Like in Chapter 2, we first load the CoNLL-2003 dataset from Hugging Face. Then, we tokenize it using a BERT tokenizer for the NER task. It aligns the NER labels with the tokenized input, handling special tokens and word pieces to ensure accurate label assignment. Then, it initializes a BERT model for token classification, sets up training parameters, and defines a custom metric computation for NER performance evaluation. The model is fine-tuned (trained) and evaluated using the Hugging Face Trainer class, which handles the training loop and evaluation."
      ],
      "metadata": {
        "id": "f2K1EmXFB5xQ"
      }
    },
    {
      "cell_type": "code",
      "source": [
        "from datasets import load_dataset\n",
        "import numpy as np\n",
        "\n",
        "# Load the CoNLL-2003 dataset using the 'datasets' library.\n",
        "dataset = load_dataset('conll2003')\n",
        "\n",
        "from transformers import AutoTokenizer\n",
        "checkpoint = 'distilbert-base-cased'  # or any other checkpoint like 'bert-base-cased'\n",
        "tokenizer = AutoTokenizer.from_pretrained(checkpoint)\n",
        "\n",
        "from transformers import DataCollatorForTokenClassification\n",
        "\n",
        "def align_labels_with_tokens(labels, word_ids):\n",
        "    new_labels = []\n",
        "    label_index = 0\n",
        "\n",
        "    for word_id in word_ids:\n",
        "        if word_id is None:\n",
        "            new_labels.append(-100)  # Use -100 to ignore these tokens in the loss computation\n",
        "        else:\n",
        "            if word_id != label_index:\n",
        "                label_index = word_id\n",
        "            new_labels.append(labels[label_index] if label_index < len(labels) else -100)\n",
        "\n",
        "    return new_labels\n",
        "\n",
        "def tokenize_and_align_labels(examples):\n",
        "    # Tokenize the text and get word ID mappings\n",
        "    tokenized_inputs = tokenizer(examples['tokens'], truncation=True, is_split_into_words=True)\n",
        "\n",
        "    labels = []\n",
        "    for i, label in enumerate(examples['ner_tags']):\n",
        "        word_ids = tokenized_inputs.word_ids(batch_index=i)  # Get word IDs for the current sentence\n",
        "        previous_word_id = None\n",
        "        label_ids = []\n",
        "        for word_id in word_ids:\n",
        "            # Special tokens have a word id that is None. We set the label to -100 so they are automatically\n",
        "            # ignored in the loss function.\n",
        "            if word_id is None:\n",
        "                label_ids.append(-100)\n",
        "            # We set the label for the first token of each word.\n",
        "            elif word_id != previous_word_id:\n",
        "                label_ids.append(label[word_id])\n",
        "            # For the other tokens in a word, we set the label to -100\n",
        "            else:\n",
        "                label_ids.append(-100)\n",
        "            previous_word_id = word_id\n",
        "        labels.append(label_ids)\n",
        "\n",
        "    tokenized_inputs[\"labels\"] = labels\n",
        "    return tokenized_inputs\n",
        "\n",
        "# Apply the function to all splits\n",
        "tokenized_dataset = dataset.map(tokenize_and_align_labels, batched=True, remove_columns=dataset['train'].column_names)\n",
        "\n",
        "\n",
        "data_collator = DataCollatorForTokenClassification(tokenizer=tokenizer)\n",
        "\n",
        "\n",
        "from transformers import AutoModelForTokenClassification, TrainingArguments, Trainer\n",
        "\n",
        "label_list = dataset[\"train\"].features[\"ner_tags\"].feature.names\n",
        "num_labels = len(label_list)\n",
        "\n",
        "model = AutoModelForTokenClassification.from_pretrained(checkpoint, num_labels=num_labels)\n",
        "\n",
        "label_names = dataset['train'].features['ner_tags'].feature.names\n",
        "\n",
        "from transformers import AutoModelForTokenClassification, TrainingArguments, Trainer\n",
        "# Import the seqeval metric from Hugging Face's datasets library\n",
        "from datasets import load_metric\n",
        "\n",
        "# Load the seqeval metric which can evaluate NER and other sequence tasks\n",
        "metric = load_metric(\"seqeval\")\n",
        "\n",
        "# Example usage: compute metric on a sample predictions and reference list\n",
        "# predictions and references should be a list of lists containing predicted and true token labels\n",
        "\n",
        "# List of List Input\n",
        "metric.compute(predictions = [['O' , 'B-ORG' , 'I-ORG']],\n",
        "               references = [['O' , 'B-MISC' , 'I-ORG']])\n",
        "\n",
        "def compute_metrics(logits_and_labels):\n",
        "\n",
        "  # Unpack the logits and labels\n",
        "  logits, labels = logits_and_labels\n",
        "\n",
        "  # Get predictions from the logits\n",
        "  predictions = np.argmax(logits, axis=-1)\n",
        "\n",
        "  # Remove ignored index (special tokens)\n",
        "  str_labels = [\n",
        "    [label_names[t] for t in label if t!=-100] for label in labels\n",
        "  ]\n",
        "\n",
        "  str_preds = [\n",
        "    [label_names[p] for (p, t) in zip(prediction, label) if t != -100]\n",
        "    for prediction, label in zip(predictions, labels)\n",
        "  ]\n",
        "\n",
        "  # Compute metrics\n",
        "  results = metric.compute(predictions=str_preds, references=str_labels)\n",
        "\n",
        "  # Extract key metrics\n",
        "  return {\n",
        "    \"precision\": results[\"overall_precision\"],\n",
        "    \"recall\": results[\"overall_recall\"],\n",
        "    \"f1\": results[\"overall_f1\"],\n",
        "    \"accuracy\": results[\"overall_accuracy\"]\n",
        "  }\n",
        "\n",
        "training_args = TrainingArguments(\n",
        "  # Location to save fine-tuned model\n",
        "  output_dir = \"fine_tuned_model\",\n",
        "\n",
        "  # Evaluate each epoch\n",
        "  evaluation_strategy = \"epoch\",\n",
        "\n",
        "  # Learning rate for Adam optimizer\n",
        "  learning_rate = 2e-5,\n",
        "\n",
        "  # Batch sizes for training and evaluation\n",
        "  per_device_train_batch_size = 16,\n",
        "  per_device_eval_batch_size = 16,\n",
        "\n",
        "  # Number of training epochs\n",
        "  num_train_epochs = 1,\n",
        "\n",
        "  # L2 weight decay regularization\n",
        "  weight_decay = 0.01\n",
        ")\n",
        "\n",
        "trainer = Trainer(\n",
        "  # Model to train\n",
        "  model=model,\n",
        "\n",
        "  # Training arguments\n",
        "  args=training_args,\n",
        "\n",
        "  # Training and validation datasets\n",
        "  train_dataset=tokenized_dataset[\"train\"],\n",
        "  eval_dataset=tokenized_dataset[\"validation\"],\n",
        "\n",
        "  # Tokenizer\n",
        "  tokenizer=tokenizer,\n",
        "\n",
        "  # Custom metric function\n",
        "  compute_metrics=compute_metrics,\n",
        "\n",
        "  # Data collator\n",
        "  data_collator=data_collator\n",
        ")"
      ],
      "metadata": {
        "id": "vEXot6I9N_0y",
        "colab": {
          "base_uri": "https://localhost:8080/",
          "height": 463,
          "referenced_widgets": [
            "4a737ad8bbc94bf68c49ff82d2898f10",
            "ea0a1466476f4896aafbd5f1795df1ad",
            "e1eff293912b4bf7b5d3170a13a9980d",
            "cda350b5d8d7473fb807c315e06484d3",
            "74a2398747304e0b94c50d5406833452",
            "9267fdf6509442deb67d20d2118589b1",
            "6b69729518d048f7a64b20b6bec33d10",
            "5273564aa4eb4e589046c93852729a41",
            "ffed942118eb4ef5ba482e22933c6863",
            "bf6dab860bf748b29258cee307fb2073",
            "874b9fb2221c49c492df70f112ee3f47",
            "4c89c7723b9a45f0809b404401faa969",
            "1f30e18dbc2c4e9e9768cfaba0e952b0",
            "5eaedd8809a0417283ed9680d3b2c165",
            "6c8331e4b05d4d8c83303a7d76382258",
            "3f76d13a2e5047a0976e1a4a894141b2",
            "6006d78196014e69955e8848735b7364",
            "d09ab03d20324bf381fafffafe005eeb",
            "0a9d33a849684faeb4d7f55ef6a171bc",
            "926e3ba658b74ee5b465e530b27ff592",
            "b502951f37ec489db1e2c2c2eb26b3d2",
            "b48c1d0ba71140a5acbd250e4a41488f",
            "2a1ff65935f74c4db5da4b06cda08bed",
            "5e93c76a8bcc4070940ce483e0bd2e24",
            "881cb28f84a44bb995978df5fb3650a8",
            "6dae514e59ba4115aa3c0f3eb632a040",
            "77e3204a0f82473b8d825b64bf4241cf",
            "a62f5fb1f6a741df9ff406b77c2c1b62",
            "7913e6eb4ad54b50b575a46bf3807472",
            "4faf752749c74c4eb97111ae78a339a5",
            "e5cf87236b8f4f07a606260f87c862e4",
            "0474bdd2d06d44ac9772d5b6d49740fd",
            "a3cbcfb01ce4431cafe12bc15bd24b9b"
          ]
        },
        "outputId": "3c8d7c4c-fde6-4406-ca02-afc7298277c2"
      },
      "execution_count": null,
      "outputs": [
        {
          "output_type": "stream",
          "name": "stderr",
          "text": [
            "/usr/local/lib/python3.10/dist-packages/huggingface_hub/utils/_token.py:88: UserWarning: \n",
            "The secret `HF_TOKEN` does not exist in your Colab secrets.\n",
            "To authenticate with the Hugging Face Hub, create a token in your settings tab (https://huggingface.co/settings/tokens), set it as secret in your Google Colab and restart your session.\n",
            "You will be able to reuse this secret in all of your notebooks.\n",
            "Please note that authentication is recommended but still optional to access public models or datasets.\n",
            "  warnings.warn(\n"
          ]
        },
        {
          "output_type": "display_data",
          "data": {
            "text/plain": [
              "Map:   0%|          | 0/3250 [00:00<?, ? examples/s]"
            ],
            "application/vnd.jupyter.widget-view+json": {
              "version_major": 2,
              "version_minor": 0,
              "model_id": "4a737ad8bbc94bf68c49ff82d2898f10"
            }
          },
          "metadata": {}
        },
        {
          "output_type": "display_data",
          "data": {
            "text/plain": [
              "model.safetensors:   0%|          | 0.00/263M [00:00<?, ?B/s]"
            ],
            "application/vnd.jupyter.widget-view+json": {
              "version_major": 2,
              "version_minor": 0,
              "model_id": "4c89c7723b9a45f0809b404401faa969"
            }
          },
          "metadata": {}
        },
        {
          "output_type": "stream",
          "name": "stderr",
          "text": [
            "Some weights of DistilBertForTokenClassification were not initialized from the model checkpoint at distilbert-base-cased and are newly initialized: ['classifier.bias', 'classifier.weight']\n",
            "You should probably TRAIN this model on a down-stream task to be able to use it for predictions and inference.\n",
            "<ipython-input-1-51dc704ce01a>:74: FutureWarning: load_metric is deprecated and will be removed in the next major version of datasets. Use 'evaluate.load' instead, from the new library 🤗 Evaluate: https://huggingface.co/docs/evaluate\n",
            "  metric = load_metric(\"seqeval\")\n",
            "/usr/local/lib/python3.10/dist-packages/datasets/load.py:756: FutureWarning: The repository for seqeval contains custom code which must be executed to correctly load the metric. You can inspect the repository content at https://raw.githubusercontent.com/huggingface/datasets/2.18.0/metrics/seqeval/seqeval.py\n",
            "You can avoid this message in future by passing the argument `trust_remote_code=True`.\n",
            "Passing `trust_remote_code=True` will be mandatory to load this metric from the next major release of `datasets`.\n",
            "  warnings.warn(\n"
          ]
        },
        {
          "output_type": "display_data",
          "data": {
            "text/plain": [
              "Downloading builder script:   0%|          | 0.00/2.47k [00:00<?, ?B/s]"
            ],
            "application/vnd.jupyter.widget-view+json": {
              "version_major": 2,
              "version_minor": 0,
              "model_id": "2a1ff65935f74c4db5da4b06cda08bed"
            }
          },
          "metadata": {}
        },
        {
          "output_type": "stream",
          "name": "stderr",
          "text": [
            "/usr/local/lib/python3.10/dist-packages/seqeval/metrics/v1.py:57: UndefinedMetricWarning: Precision and F-score are ill-defined and being set to 0.0 in labels with no predicted samples. Use `zero_division` parameter to control this behavior.\n",
            "  _warn_prf(average, modifier, msg_start, len(result))\n",
            "/usr/local/lib/python3.10/dist-packages/accelerate/accelerator.py:436: FutureWarning: Passing the following arguments to `Accelerator` is deprecated and will be removed in version 1.0 of Accelerate: dict_keys(['dispatch_batches', 'split_batches', 'even_batches', 'use_seedable_sampler']). Please pass an `accelerate.DataLoaderConfiguration` instead: \n",
            "dataloader_config = DataLoaderConfiguration(dispatch_batches=None, split_batches=False, even_batches=True, use_seedable_sampler=True)\n",
            "  warnings.warn(\n"
          ]
        }
      ]
    },
    {
      "cell_type": "markdown",
      "source": [
        "The fine-tuning process for this model is expected to last approximately two hours per epoch when using a CPU accelerator. To prevent losing your model due to inactivity after training completes, especially if you're not actively monitoring the notebook, it's advisable to save the fine-tuned model to Google Drive. This precaution allows you to retrieve the model from Google Drive later for prediction tasks. The model takes about 250MB in space.\n",
        "\n",
        "Start by executing the following cell to mount your Google Drive."
      ],
      "metadata": {
        "id": "s4wxRSbzCTEf"
      }
    },
    {
      "cell_type": "code",
      "source": [
        "from google.colab import drive\n",
        "drive.mount('/content/drive')"
      ],
      "metadata": {
        "id": "UmCSxexSOPGd",
        "colab": {
          "base_uri": "https://localhost:8080/"
        },
        "outputId": "1e5cdffb-1de9-4a36-89a9-fb7be217d1f8"
      },
      "execution_count": null,
      "outputs": [
        {
          "output_type": "stream",
          "name": "stdout",
          "text": [
            "Mounted at /content/drive\n"
          ]
        }
      ]
    },
    {
      "cell_type": "markdown",
      "source": [
        "Specify the path where you want to save your model. Feel free to use the default path I have provided if it suits your needs.\n",
        "\n",
        "⚠️ NOTE, BELOW IS THE FIFTH CODE CELL!"
      ],
      "metadata": {
        "id": "id2CUfjsCWfA"
      }
    },
    {
      "cell_type": "code",
      "source": [
        "# THIS IS THE FIFTH CODE CELL\n",
        "# DO NOT RUN THIS CELL IF A FINE TUNED MODEL HAS ALREADY BEEN SAVED, OTHERWISE IT WILL BE DELETED\n",
        "\n",
        "import os\n",
        "import shutil\n",
        "\n",
        "model_saving_path = '/content/drive/MyDrive/NLP Homework 3/fine_tuned_BERT_NER'\n",
        "\n",
        "# Check if the folder exists\n",
        "if os.path.exists(model_saving_path):\n",
        "    # Empty the folder by deleting and recreating it\n",
        "    shutil.rmtree(model_saving_path)\n",
        "    os.makedirs(model_saving_path)\n",
        "else:\n",
        "    # Create the folder because it does not exist\n",
        "    os.makedirs(model_saving_path)"
      ],
      "metadata": {
        "id": "02tf6DrpCaPR"
      },
      "execution_count": null,
      "outputs": []
    },
    {
      "cell_type": "markdown",
      "source": [
        "Run the code below to begin fine-tuning, which is set to complete one epoch by default, as specified by the `num_train_epochs` variable in the `training_args` within this chapter's third cell. If desired, you can adjust the number of epochs. Expect the one-epoch fine-tuning to last approximately 2 hours on a CPU, with the model being saved to the designated path in your Google Drive post-training.\n",
        "\n",
        "### 📚 Task 6\n",
        "Prior to running this cell, insert code snippets at suitable locations to track and display the fine-tuning duration (in seconds) for this variant of the BERT model, simialr to Task 1."
      ],
      "metadata": {
        "id": "eIA6MmiqJAoU"
      }
    },
    {
      "cell_type": "code",
      "source": [
        "import time\n",
        "start = time.time()\n",
        "trainer.train()\n",
        "end = time.time()\n",
        "print(f\"Train time: {end - start}\")\n",
        "trainer.save_model(model_saving_path)"
      ],
      "metadata": {
        "id": "qXcKv60yOLrI",
        "colab": {
          "base_uri": "https://localhost:8080/",
          "height": 182
        },
        "outputId": "d4b2efe2-93ac-4022-9e3a-e68bffbf4626"
      },
      "execution_count": null,
      "outputs": [
        {
          "data": {
            "text/html": [
              "\n",
              "    <div>\n",
              "      \n",
              "      <progress value='838' max='878' style='width:300px; height:20px; vertical-align: middle;'></progress>\n",
              "      [838/878 1:05:09 < 03:07, 0.21 it/s, Epoch 0.95/1]\n",
              "    </div>\n",
              "    <table border=\"1\" class=\"dataframe\">\n",
              "  <thead>\n",
              " <tr style=\"text-align: left;\">\n",
              "      <th>Epoch</th>\n",
              "      <th>Training Loss</th>\n",
              "      <th>Validation Loss</th>\n",
              "    </tr>\n",
              "  </thead>\n",
              "  <tbody>\n",
              "  </tbody>\n",
              "</table><p>"
            ],
            "text/plain": [
              "<IPython.core.display.HTML object>"
            ]
          },
          "metadata": {},
          "output_type": "display_data"
        },
        {
          "output_type": "display_data",
          "data": {
            "text/plain": [
              "<IPython.core.display.HTML object>"
            ],
            "text/html": [
              "\n",
              "    <div>\n",
              "      \n",
              "      <progress value='878' max='878' style='width:300px; height:20px; vertical-align: middle;'></progress>\n",
              "      [878/878 1:12:30, Epoch 1/1]\n",
              "    </div>\n",
              "    <table border=\"1\" class=\"dataframe\">\n",
              "  <thead>\n",
              " <tr style=\"text-align: left;\">\n",
              "      <th>Epoch</th>\n",
              "      <th>Training Loss</th>\n",
              "      <th>Validation Loss</th>\n",
              "      <th>Precision</th>\n",
              "      <th>Recall</th>\n",
              "      <th>F1</th>\n",
              "      <th>Accuracy</th>\n",
              "    </tr>\n",
              "  </thead>\n",
              "  <tbody>\n",
              "    <tr>\n",
              "      <td>1</td>\n",
              "      <td>0.187100</td>\n",
              "      <td>0.065372</td>\n",
              "      <td>0.897410</td>\n",
              "      <td>0.903904</td>\n",
              "      <td>0.900646</td>\n",
              "      <td>0.982711</td>\n",
              "    </tr>\n",
              "  </tbody>\n",
              "</table><p>"
            ]
          },
          "metadata": {}
        },
        {
          "output_type": "stream",
          "name": "stdout",
          "text": [
            "Train time: 4364.185080766678\n"
          ]
        }
      ]
    },
    {
      "cell_type": "markdown",
      "source": [
        "At this moment, check if your runtime is still active; if the last cell's status is green with a sequence number, you can skip the below cell and no need to read further.\n",
        "\n",
        "\n",
        "Otherwise, if your runtime has been terminated and you have saved the fine-tuned model on Google Drive, you should rerun the first four code cells from this chapter, 🛑 STOPPING before the fifth cell to avoid deleting your saved model (identified by the comment \"# THIS IS THE FIFTH CODE CELL\").\n",
        "\n",
        "After completing these steps, proceed to run the cell that follows to load your model and reinitialize the trainer with the loaded model."
      ],
      "metadata": {
        "id": "LW68ojKvLkkU"
      }
    },
    {
      "cell_type": "code",
      "source": [
        "from transformers import AutoModelForTokenClassification\n",
        "\n",
        "model_saving_path = '/content/drive/MyDrive/NLP Homework 3/fine_tuned_BERT_NER'\n",
        "model = AutoModelForTokenClassification.from_pretrained(model_saving_path)\n",
        "\n",
        "trainer = Trainer(\n",
        "  # Model to train\n",
        "  model=model,\n",
        "\n",
        "  # Training arguments\n",
        "  args=training_args,\n",
        "\n",
        "  # Training and validation datasets\n",
        "  train_dataset=tokenized_dataset[\"train\"],\n",
        "  eval_dataset=tokenized_dataset[\"validation\"],\n",
        "\n",
        "  # Tokenizer\n",
        "  tokenizer=tokenizer,\n",
        "\n",
        "  # Custom metric function\n",
        "  compute_metrics=compute_metrics,\n",
        "\n",
        "  # Data collator\n",
        "  data_collator=data_collator\n",
        ")"
      ],
      "metadata": {
        "id": "AWUNRv3DORfP"
      },
      "execution_count": null,
      "outputs": []
    },
    {
      "cell_type": "markdown",
      "source": [
        "### 📚 Task 7\n",
        "Prior to running this cell, insert code snippets at suitable locations to track and display the inference duration (in seconds) for the DistilBERT model, simialr to Task 1."
      ],
      "metadata": {
        "id": "2_MNVCvOOGJT"
      }
    },
    {
      "cell_type": "markdown",
      "source": [
        "This cell will also display the confusion matrix and a bar chart showing the accuracy for each NER tag. This will give you an idea of the model's performance across different tags."
      ],
      "metadata": {
        "id": "EaQPByUeN_DR"
      }
    },
    {
      "cell_type": "code",
      "source": [
        "import numpy as np\n",
        "import time\n",
        "start = time.time()\n",
        "# Predictions\n",
        "predictions_output = trainer.predict(tokenized_dataset['test'])\n",
        "predictions = np.argmax(predictions_output.predictions, axis=2)\n",
        "\n",
        "# Align the predictions and true labels\n",
        "true_labels = []\n",
        "predicted_labels = []\n",
        "\n",
        "for i, label_arr in enumerate(tokenized_dataset['test']['labels']):\n",
        "    true_labels.extend([label_names[label] for label in label_arr if label != -100])\n",
        "    predicted_labels.extend([label_names[pred] for pred, label in zip(predictions[i], label_arr) if label != -100])\n",
        "\n",
        "from sklearn.metrics import confusion_matrix\n",
        "import pandas as pd\n",
        "\n",
        "labels = sorted(set(true_labels + predicted_labels))\n",
        "conf_matrix = confusion_matrix(true_labels, predicted_labels, labels=labels)\n",
        "conf_df = pd.DataFrame(conf_matrix, index=labels, columns=labels)\n",
        "\n",
        "print(\"Confusion Matrix:\")\n",
        "print(conf_df)\n",
        "\n",
        "import matplotlib.pyplot as plt\n",
        "\n",
        "accuracies = conf_df.values.diagonal() / conf_df.sum(axis=1)\n",
        "accuracies_series = pd.Series(accuracies, index=labels)\n",
        "\n",
        "accuracies_series.plot(kind='bar')\n",
        "plt.title('Accuracy for Each NER Category')\n",
        "plt.xlabel('NER Category')\n",
        "plt.ylabel('Accuracy')\n",
        "plt.show()\n",
        "\n",
        "# Sum of the diagonal elements (correct predictions)\n",
        "correct_predictions = np.trace(conf_matrix)\n",
        "\n",
        "# Total number of predictions\n",
        "total_predictions = np.sum(conf_matrix)\n",
        "\n",
        "# Calculate overall accuracy\n",
        "overall_accuracy = correct_predictions / total_predictions\n",
        "end = time.time()\n",
        "print(f\"Inference Time{end-start}\")\n",
        "print(f'Overall Accuracy: {overall_accuracy}')"
      ],
      "metadata": {
        "id": "f9P-JuvvObfE",
        "colab": {
          "base_uri": "https://localhost:8080/",
          "height": 733
        },
        "outputId": "65b94c73-d255-4cef-e224-149fcaeff525"
      },
      "execution_count": null,
      "outputs": [
        {
          "output_type": "display_data",
          "data": {
            "text/plain": [
              "<IPython.core.display.HTML object>"
            ],
            "text/html": []
          },
          "metadata": {}
        },
        {
          "output_type": "stream",
          "name": "stdout",
          "text": [
            "Confusion Matrix:\n",
            "        B-LOC  B-MISC  B-ORG  B-PER  I-LOC  I-MISC  I-ORG  I-PER      O\n",
            "B-LOC    1523      26     73      7      3       2      5      1     28\n",
            "B-MISC     43     531     52      5      0       2      1      0     68\n",
            "B-ORG      73      42   1451     25      0       1     15      0     54\n",
            "B-PER      14       8     32   1531      0       0      2      5     25\n",
            "I-LOC       3       0      0      0    195       6     39      5      9\n",
            "I-MISC      1       5      0      0      8     128     21      2     51\n",
            "I-ORG       3       1      8      0     25      20    751      5     22\n",
            "I-PER       0       0      0      0      0       1     12   1143      0\n",
            "O          21      59     63     16     12      62     60      3  38027\n"
          ]
        },
        {
          "output_type": "display_data",
          "data": {
            "text/plain": [
              "<Figure size 640x480 with 1 Axes>"
            ],
            "image/png": "[encoded data removed]"
          },
          "metadata": {}
        },
        {
          "output_type": "stream",
          "name": "stdout",
          "text": [
            "Inference Time403.30839586257935\n",
            "Overall Accuracy: 0.975126520943254\n"
          ]
        }
      ]
    },
    {
      "cell_type": "markdown",
      "source": [
        "# Questions\n",
        "\n",
        "Double click this cell to add your answer under each question.\n",
        "\n",
        "**POS tagging**\n",
        "\n",
        "1. What is the training and inferencing time of the CRF model for POS tagging? What's its accuracy?\n",
        "\n",
        "Train and inference time: 17.44983196258545 Seconds\n",
        "Accuracy: 0.9517807036477445\n",
        "\n",
        "2. What is the training and inferencing time of the BERT model for POS tagging? If you've trained by multiple epochs, give the average epoch time. What's its accuracy?\n",
        "\n",
        "Train time: 2467.733060836792 Seconds\n",
        "Inference time: 228.7740626335144 Seconds\n",
        "Accuracy: 0.983855\n",
        "\n",
        "\n",
        "3. Compare BERT's performance with CRF's in terms of training time, inferencing time and accuracy in POS tagging. What's the tradeoff and how that might affect your decision of choosing one of the two models for a specific task?\n",
        "\n",
        "The time to both train and do inference for BERT is much greater than the combined time for both in the CRF model, however the accuracy of BERT is much higher by about 3 percent. The tradeoff is obviously time and resources for accuracy. If you are short on either, I would go for the CRF model. However, if you want the highest accuracy, go for the BERT model.\n",
        "\n",
        "\n",
        "\n",
        "**NER**\n",
        "\n",
        "4. What is the training and inferencing time of the CRF model for NER? What's its accuracy?\n",
        "\n",
        "Training/Eval Time: 40.31410837173462 Seconds\n",
        "Overall Accuracy: 0.9569075051146765\n",
        "\n",
        "5. What two features did you choose for Task 2 and why?\n",
        "\n",
        "'word ends in ed' : word.endswith(\"ed\"),\n",
        "'word starts with un' : word.startswith(\"un\"),\n",
        "I chose these because they are common prefixes and suffixes in English words that may help to extract a pattern from the data.\n",
        "\n",
        "\n",
        "6.  What is the training and inferencing time of the BERT model for NER? If you've trained by multiple epochs, give the average epoch time. What's its accuracy?\n",
        "\n",
        "Train time: 4364.185080766678 Seconds\n",
        "Inference Time: 403.30839586257935 Seconds\n",
        "Overall Accuracy: 0.975126520943254\n",
        "\n",
        "7. Compare BERT's performance with CRF's in terms of training time, inferencing time and accuracy in NER. What's the tradeoff and how that might affect your decision of choosing one of the two models for a specific task?\n",
        "\n",
        "Very similar to POS tagging, the CRF is less accurate but takes way less time to train and inference. The BERT model is more accurate but is costly to train and use.\n",
        "\n",
        "**Extra Credit**\n",
        "\n",
        "8. What additional features have your chosen for Task 2 and why? Each one worths 1 additional point, up to 3. Note, your final model's accuracy must not fall below 95% to receive the extra credit.\n",
        "\n",
        " extra creidt #1\n",
        "'word is lower' : word.islower(),\n",
        " extra creidt #2\n",
        " 'word.isalpha' : word.isalpha(),\n",
        "  extra creidt #3\n",
        "  'word.isidentifier()' : word.isidentifier(), I picked these because they are easy string identifers that further classify and separate the data into more understandable chunks.\n",
        "\n",
        "9. What's the top 3 misclassified tags in terms of the accuracy value in each of the four Chapters? For this, you must create an additional code cell at the end of each chapter, write and execute code to sort the accuracies of each tag and report the three with the lowest accuracies.\n",
        "\n",
        "## Rubic\n",
        "\n",
        "Question 1,2,3,4,6,7 - 15\n",
        "\n",
        "Question 4 - 10\n",
        "\n",
        "Question 8 - up to 3\n",
        "\n",
        "Question 9 - 7\n",
        "\n",
        "Max points 110\n",
        "\n",
        "\n",
        "## Submission\n",
        "\n",
        "Ensure that your Colab notebook, with all cells executed and results visible, is downloaded in .ipynb format. Rename the downloaded file to include your name. Submit this notebook file via Canvas, and include a shareable link to the notebook stored in your Google Drive as comment. Both the submitted notebook content and the online version will undergo an initial comparison, after which, your online version will be re-executed to verify the consistency of the results.\n",
        "\n",
        "Email chenhang@udel.edu for questions. Have fun exploring POS tagging and NER!\n"
      ],
      "metadata": {
        "id": "ikjbUHlkOYFo"
      }
    }
  ]
}